{
 "cells": [
  {
   "cell_type": "markdown",
   "id": "a84717d7",
   "metadata": {},
   "source": [
    "### Assignment 3"
   ]
  },
  {
   "cell_type": "markdown",
   "id": "d096ccc5",
   "metadata": {},
   "source": [
    "Q1. Define a function overlapping () that takes two lists and returns True if they have at\n",
    "least one member in common, False otherwise."
   ]
  },
  {
   "cell_type": "code",
   "execution_count": null,
   "id": "1a2109e4",
   "metadata": {},
   "outputs": [],
   "source": []
  },
  {
   "cell_type": "markdown",
   "id": "2ec73053",
   "metadata": {},
   "source": [
    "Q.2. Write a function find_longest_word() to find the longest word from the list of words"
   ]
  },
  {
   "cell_type": "code",
   "execution_count": null,
   "id": "8c9862f8",
   "metadata": {},
   "outputs": [],
   "source": []
  },
  {
   "cell_type": "markdown",
   "id": "77e5e9a3",
   "metadata": {},
   "source": [
    "Q.3.In English, present participle is formed by adding suffix -ing to infinite form: go -> going. A simple set of rules can be given as follows:\n",
    " a. If the verb ends in e, drop the e and add ing \n",
    " b. If the verb ends in ie, change ie to y and add ing\n",
    "Write a function make_ing_form() which accepts a list of verbs and returns a dictionary with verb : present participle"
   ]
  },
  {
   "cell_type": "code",
   "execution_count": null,
   "id": "59eb35d3",
   "metadata": {},
   "outputs": [],
   "source": []
  },
  {
   "cell_type": "markdown",
   "id": "70940cc0",
   "metadata": {},
   "source": [
    "Q.4. Decorate the display_greeting() function using a decorator so that greeting is displayed in uppercase"
   ]
  },
  {
   "cell_type": "code",
   "execution_count": null,
   "id": "06419fc5",
   "metadata": {},
   "outputs": [],
   "source": []
  },
  {
   "cell_type": "markdown",
   "id": "f69f2689",
   "metadata": {},
   "source": [
    "Q. 5. Create a infinite series on fib numbers and print first few"
   ]
  },
  {
   "cell_type": "code",
   "execution_count": null,
   "id": "c3ffbf0e",
   "metadata": {},
   "outputs": [],
   "source": []
  },
  {
   "cell_type": "markdown",
   "id": "1bf4dc69",
   "metadata": {},
   "source": [
    "Q.6 \n",
    "1.Find employees that know 'python'\n",
    "2. Add a new skill - 'test' in skillset of all employees\n",
    "3. Sort employees by skills \n",
    "for the given dictionary of employees\n",
    "\n",
    "emp_data = {'Amol': ['C', 'C++', 'Java'], 'Aditya': ['Angular', 'Java'],\n",
    "            'Aditi': ['Python', 'PHP', 'Database']}"
   ]
  },
  {
   "cell_type": "code",
   "execution_count": null,
   "id": "04842982",
   "metadata": {},
   "outputs": [],
   "source": []
  },
  {
   "cell_type": "markdown",
   "id": "26ce7fbb",
   "metadata": {},
   "source": [
    "Q.7\n",
    "Following data displays min/max/average temp for cities\n",
    "weather= [{'Mumbai' : [28, 30, 32]},.....]\n",
    "\n",
    "1. Print the weather data\n",
    "2. Print the city with maximum/min temp\n",
    "3. Print all the cities that expereince min temp more than 30 degree\n",
    "4. Create a dictionary to print 'City':'Ave temp'"
   ]
  },
  {
   "cell_type": "code",
   "execution_count": null,
   "id": "268cde2b",
   "metadata": {},
   "outputs": [],
   "source": []
  },
  {
   "cell_type": "markdown",
   "id": "6b243120",
   "metadata": {},
   "source": [
    "### [Rotate Array](https://www.geeksforgeeks.org/problems/rotate-array-by-n-elements-1587115621/1)  \n",
    "Given an array arr[]. Rotate the array to the left (counter-clockwise direction) by d steps, where d is a positive integer. Do the mentioned change in the array in place.\n",
    "\n",
    "Note: Consider the array as circular.\n",
    "\n",
    "Examples :\n",
    "\n",
    "Input: arr[] = [1, 2, 3, 4, 5], d = 2\n",
    "Output: [3, 4, 5, 1, 2]\n",
    "Explanation: when rotated by 2 elements, it becomes 3 4 5 1 2.\n",
    "\n",
    "Input: arr[] = [2, 4, 6, 8, 10, 12, 14, 16, 18, 20], d = 3\n",
    "Output: [8, 10, 12, 14, 16, 18, 20, 2, 4, 6]\n",
    "Explanation: when rotated by 3 elements, it becomes 8 10 12 14 16 18 20 2 4 6.\n",
    "\n",
    "Input: arr[] = [7, 3, 9, 1], d = 9\n",
    "Output: [3, 9, 1, 7]\n",
    "Explanation: when we rotate 9 times, we'll get 3 9 1 7 as resultant array."
   ]
  },
  {
   "cell_type": "code",
   "execution_count": null,
   "id": "323563b1",
   "metadata": {},
   "outputs": [],
   "source": [
    "def left_shift(arr,n):\n",
    "    new=arr[n:]+arr[:n]\n",
    "    return new\n",
    "\n",
    "arr=[1,2,3,4,5]\n",
    "left_shift(arr,2)"
   ]
  },
  {
   "cell_type": "code",
   "execution_count": null,
   "id": "2022cc7c",
   "metadata": {},
   "outputs": [],
   "source": []
  }
 ],
 "metadata": {
  "kernelspec": {
   "display_name": "Python 3",
   "language": "python",
   "name": "python3"
  },
  "language_info": {
   "codemirror_mode": {
    "name": "ipython",
    "version": 3
   },
   "file_extension": ".py",
   "mimetype": "text/x-python",
   "name": "python",
   "nbconvert_exporter": "python",
   "pygments_lexer": "ipython3",
   "version": "3.13.7"
  }
 },
 "nbformat": 4,
 "nbformat_minor": 5
}
