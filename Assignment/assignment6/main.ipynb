{
 "cells": [
  {
   "cell_type": "markdown",
   "id": "23049e94",
   "metadata": {},
   "source": [
    "## Assignment 6"
   ]
  },
  {
   "cell_type": "code",
   "execution_count": 31,
   "id": "9cc138ba",
   "metadata": {},
   "outputs": [],
   "source": [
    "import numpy as np"
   ]
  },
  {
   "cell_type": "markdown",
   "id": "872eae56",
   "metadata": {},
   "source": [
    "### Set 1:\n",
    "\n",
    "Create a 3×3 array of all True Boolean values"
   ]
  },
  {
   "cell_type": "code",
   "execution_count": 41,
   "id": "d3617d61",
   "metadata": {},
   "outputs": [
    {
     "data": {
      "text/plain": [
       "array([[ True,  True,  True],\n",
       "       [ True,  True,  True],\n",
       "       [ True,  True,  True]])"
      ]
     },
     "execution_count": 41,
     "metadata": {},
     "output_type": "execute_result"
    }
   ],
   "source": [
    "arr=np.full_like(np.arange(1,10).reshape(3,3),True, dtype=bool)\n",
    "arr"
   ]
  },
  {
   "cell_type": "markdown",
   "id": "b9903dcf",
   "metadata": {},
   "source": [
    "Extract odd numbers from an array"
   ]
  },
  {
   "cell_type": "code",
   "execution_count": null,
   "id": "a062fb0c",
   "metadata": {},
   "outputs": [
    {
     "data": {
      "text/plain": [
       "array([ 1,  3,  5,  7,  9, 11])"
      ]
     },
     "execution_count": 55,
     "metadata": {},
     "output_type": "execute_result"
    }
   ],
   "source": [
    "arr=np.arange(1,13)\n",
    "odd_mask=(arr%2==1)\n",
    "odd_nums=arr[odd_mask]\n",
    "odd_nums"
   ]
  },
  {
   "cell_type": "markdown",
   "id": "6bac95da",
   "metadata": {},
   "source": [
    "Replace all odd numbers with -1"
   ]
  },
  {
   "cell_type": "code",
   "execution_count": 56,
   "id": "1caabef0",
   "metadata": {},
   "outputs": [
    {
     "data": {
      "text/plain": [
       "array([-1,  2, -1,  4, -1,  6, -1,  8, -1, 10, -1, 12])"
      ]
     },
     "execution_count": 56,
     "metadata": {},
     "output_type": "execute_result"
    }
   ],
   "source": [
    "arr=np.arange(1,13)\n",
    "odd_mask=(arr%2==1)\n",
    "arr[odd_mask]=-1\n",
    "arr"
   ]
  },
  {
   "cell_type": "markdown",
   "id": "3dda8643",
   "metadata": {},
   "source": [
    "Reverse columns of a 2D array"
   ]
  },
  {
   "cell_type": "code",
   "execution_count": 67,
   "id": "7a0f2e33",
   "metadata": {},
   "outputs": [
    {
     "name": "stdout",
     "output_type": "stream",
     "text": [
      "original array:\n",
      "[[1 2 3 4]\n",
      " [5 6 7 8]]\n",
      "reversed array:\n",
      "[[4 3 2 1]\n",
      " [8 7 6 5]]\n"
     ]
    }
   ],
   "source": [
    "print('original array:')\n",
    "arr=np.arange(1,9).reshape(2,4)\n",
    "print(arr)\n",
    "arr=arr[:,::-1]\n",
    "print('reversed array:')\n",
    "print(arr)"
   ]
  },
  {
   "cell_type": "markdown",
   "id": "f5c8d8d6",
   "metadata": {},
   "source": [
    "Get indices of elements greater than 5 [hint: check where method of numpy]"
   ]
  },
  {
   "cell_type": "code",
   "execution_count": 70,
   "id": "b26b1490",
   "metadata": {},
   "outputs": [
    {
     "name": "stdout",
     "output_type": "stream",
     "text": [
      "(array([3, 4, 5, 6]),)\n"
     ]
    }
   ],
   "source": [
    "arr=np.arange(1,8)\n",
    "a1=np.where(arr>3)\n",
    "print(a1)"
   ]
  },
  {
   "cell_type": "markdown",
   "id": "26df8611",
   "metadata": {},
   "source": [
    "Access last row - last column"
   ]
  },
  {
   "cell_type": "code",
   "execution_count": 75,
   "id": "41a0906e",
   "metadata": {},
   "outputs": [
    {
     "name": "stdout",
     "output_type": "stream",
     "text": [
      "[[ 1  2  3  4]\n",
      " [ 5  6  7  8]\n",
      " [ 9 10 11 12]]\n",
      "\n",
      "last-row-last-column:\n",
      " 12\n"
     ]
    }
   ],
   "source": [
    "arr=np.arange(1,13).reshape(3,4)\n",
    "print(arr)\n",
    "print('\\nlast-row-last-column:\\n',arr[-1,-1])"
   ]
  },
  {
   "cell_type": "markdown",
   "id": "25c2f339",
   "metadata": {},
   "source": [
    "### Set 2:\n",
    "Normalize a NumPy array [ to normalize means scaling the values of an array into a specific range, often [0, 1]]"
   ]
  },
  {
   "cell_type": "code",
   "execution_count": 92,
   "id": "789ac63d",
   "metadata": {},
   "outputs": [
    {
     "name": "stdout",
     "output_type": "stream",
     "text": [
      "[[1.         1.41421356 1.73205081 2.        ]\n",
      " [2.23606798 2.44948974 2.64575131 2.82842712]\n",
      " [3.         3.16227766 3.31662479 3.46410162]]\n",
      "[[1. 1. 1. 1.]\n",
      " [1. 1. 1. 1.]\n",
      " [1. 1. 1. 1.]]\n"
     ]
    }
   ],
   "source": [
    "arr=np.arange(1,13)\n",
    "arr=np.sqrt(arr).reshape(3,4)\n",
    "print(arr)\n",
    "\n",
    "varr=np.clip(arr,0,1)\n",
    "print(varr)"
   ]
  },
  {
   "cell_type": "markdown",
   "id": "5e17217e",
   "metadata": {},
   "source": [
    "Create a 5×5 array with 1 on border and 0 inside"
   ]
  },
  {
   "cell_type": "code",
   "execution_count": null,
   "id": "80c12918",
   "metadata": {},
   "outputs": [],
   "source": []
  },
  {
   "cell_type": "markdown",
   "id": "05cea29a",
   "metadata": {},
   "source": [
    "Create a random array of 10×10: perform stats (min, max, mean, std)"
   ]
  },
  {
   "cell_type": "code",
   "execution_count": null,
   "id": "009aaa83",
   "metadata": {},
   "outputs": [],
   "source": []
  },
  {
   "cell_type": "markdown",
   "id": "32ad50a8",
   "metadata": {},
   "source": [
    "Broadcast a 1D array over a 2D array [all possible scenarios]"
   ]
  },
  {
   "cell_type": "code",
   "execution_count": null,
   "id": "59899c9b",
   "metadata": {},
   "outputs": [],
   "source": []
  },
  {
   "cell_type": "markdown",
   "id": "bb34dd76",
   "metadata": {},
   "source": [
    "Sort a 2D array by column 1 [hint: check method argsort()]"
   ]
  },
  {
   "cell_type": "code",
   "execution_count": null,
   "id": "45d37c76",
   "metadata": {},
   "outputs": [],
   "source": []
  },
  {
   "cell_type": "markdown",
   "id": "80f040f9",
   "metadata": {},
   "source": [
    "### Set 3:\n",
    "\n",
    "Find common elements between two arrays [with and without using intersect1d]"
   ]
  },
  {
   "cell_type": "code",
   "execution_count": null,
   "id": "acde145e",
   "metadata": {},
   "outputs": [],
   "source": []
  },
  {
   "cell_type": "markdown",
   "id": "7bea4474",
   "metadata": {},
   "source": [
    "Subtract row mean from each row of a 2D array"
   ]
  },
  {
   "cell_type": "code",
   "execution_count": null,
   "id": "790d2901",
   "metadata": {},
   "outputs": [],
   "source": []
  },
  {
   "cell_type": "markdown",
   "id": "572c2fe2",
   "metadata": {},
   "source": [
    "Given a 4×4 array, swap the first half rows with the second half rows"
   ]
  },
  {
   "cell_type": "code",
   "execution_count": null,
   "id": "8691ca57",
   "metadata": {},
   "outputs": [],
   "source": []
  },
  {
   "cell_type": "markdown",
   "id": "09417a27",
   "metadata": {},
   "source": [
    "Given a 1D array of random numbers, find the indices of the 5 largest values (no sorting/ check argsort() instead)."
   ]
  },
  {
   "cell_type": "code",
   "execution_count": null,
   "id": "7190468d",
   "metadata": {},
   "outputs": [],
   "source": []
  },
  {
   "cell_type": "markdown",
   "id": "6a05cbf8",
   "metadata": {},
   "source": [
    "From a 2D NumPy array, extract only the unique rows (no duplicates hint: check unique method)."
   ]
  },
  {
   "cell_type": "code",
   "execution_count": null,
   "id": "5b9fb658",
   "metadata": {},
   "outputs": [],
   "source": []
  },
  {
   "cell_type": "markdown",
   "id": "40cce03e",
   "metadata": {},
   "source": [
    "### GeeksforGeeks"
   ]
  },
  {
   "cell_type": "markdown",
   "id": "56120270",
   "metadata": {},
   "source": [
    "### [Power of 2](https://www.geeksforgeeks.org/problems/power-of-2-1587115620/1)"
   ]
  },
  {
   "cell_type": "code",
   "execution_count": null,
   "id": "be3d7e46",
   "metadata": {},
   "outputs": [],
   "source": []
  },
  {
   "cell_type": "markdown",
   "id": "777443da",
   "metadata": {},
   "source": [
    "### [First and Last Occurrence](https://www.geeksforgeeks.org/problems/first-and-last-occurrences-of-x3116/1)"
   ]
  },
  {
   "cell_type": "code",
   "execution_count": 27,
   "id": "643a6473",
   "metadata": {},
   "outputs": [],
   "source": [
    "def find(arr, x):\n",
    "        first_o=-1\n",
    "        last_o=-1\n",
    "        if x not in set(arr):\n",
    "            return [-1,-1]\n",
    "        for i in range(len(arr)):\n",
    "            if arr[i]==x & first_o !=-1:\n",
    "                print(i)\n",
    "                first_o,last_o=i,i\n",
    "            elif arr[i]==x:\n",
    "                last_o=i\n",
    "        return [first_o,last_o]"
   ]
  },
  {
   "cell_type": "code",
   "execution_count": 28,
   "id": "3f02ce69",
   "metadata": {},
   "outputs": [
    {
     "name": "stdout",
     "output_type": "stream",
     "text": [
      "7\n"
     ]
    },
    {
     "data": {
      "text/plain": [
       "[7, 7]"
      ]
     },
     "execution_count": 28,
     "metadata": {},
     "output_type": "execute_result"
    }
   ],
   "source": [
    "a=[6, 6, 6, 6, 7, 7, 7, 8]\n",
    "find(a,8)"
   ]
  },
  {
   "cell_type": "code",
   "execution_count": 29,
   "id": "0fc3bfbd",
   "metadata": {},
   "outputs": [],
   "source": [
    "def is_power_of_two_bitwise(n):\n",
    "    \"\"\"Checks if n is a power of 2 using the bitwise AND operation.\"\"\"\n",
    "    # Must be positive (n > 0) AND have exactly one bit set to 1\n",
    "    return n > 0 and (n & (n - 1) == 0)"
   ]
  }
 ],
 "metadata": {
  "kernelspec": {
   "display_name": "Python 3",
   "language": "python",
   "name": "python3"
  },
  "language_info": {
   "codemirror_mode": {
    "name": "ipython",
    "version": 3
   },
   "file_extension": ".py",
   "mimetype": "text/x-python",
   "name": "python",
   "nbconvert_exporter": "python",
   "pygments_lexer": "ipython3",
   "version": "3.13.7"
  }
 },
 "nbformat": 4,
 "nbformat_minor": 5
}
