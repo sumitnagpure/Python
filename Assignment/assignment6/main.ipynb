{
 "cells": [
  {
   "cell_type": "markdown",
   "id": "23049e94",
   "metadata": {},
   "source": [
    "## Assignment 6"
   ]
  },
  {
   "cell_type": "code",
   "execution_count": 4,
   "id": "9cc138ba",
   "metadata": {},
   "outputs": [],
   "source": [
    "import numpy as np"
   ]
  },
  {
   "cell_type": "markdown",
   "id": "872eae56",
   "metadata": {},
   "source": [
    "### Set 1:\n",
    "\n",
    "Create a 3×3 array of all True Boolean values"
   ]
  },
  {
   "cell_type": "code",
   "execution_count": 5,
   "id": "d3617d61",
   "metadata": {},
   "outputs": [
    {
     "data": {
      "text/plain": [
       "array([[ True,  True,  True],\n",
       "       [ True,  True,  True],\n",
       "       [ True,  True,  True]])"
      ]
     },
     "execution_count": 5,
     "metadata": {},
     "output_type": "execute_result"
    }
   ],
   "source": [
    "arr=np.full_like(np.arange(1,10).reshape(3,3),True, dtype=bool)\n",
    "arr"
   ]
  },
  {
   "cell_type": "markdown",
   "id": "b9903dcf",
   "metadata": {},
   "source": [
    "Extract odd numbers from an array"
   ]
  },
  {
   "cell_type": "code",
   "execution_count": 6,
   "id": "a062fb0c",
   "metadata": {},
   "outputs": [
    {
     "data": {
      "text/plain": [
       "array([ 1,  3,  5,  7,  9, 11])"
      ]
     },
     "execution_count": 6,
     "metadata": {},
     "output_type": "execute_result"
    }
   ],
   "source": [
    "arr=np.arange(1,13)\n",
    "odd_mask=(arr%2==1)\n",
    "odd_nums=arr[odd_mask]\n",
    "odd_nums"
   ]
  },
  {
   "cell_type": "markdown",
   "id": "6bac95da",
   "metadata": {},
   "source": [
    "Replace all odd numbers with -1"
   ]
  },
  {
   "cell_type": "code",
   "execution_count": 7,
   "id": "1caabef0",
   "metadata": {},
   "outputs": [
    {
     "data": {
      "text/plain": [
       "array([-1,  2, -1,  4, -1,  6, -1,  8, -1, 10, -1, 12])"
      ]
     },
     "execution_count": 7,
     "metadata": {},
     "output_type": "execute_result"
    }
   ],
   "source": [
    "arr=np.arange(1,13)\n",
    "odd_mask=(arr%2==1)\n",
    "arr[odd_mask]=-1\n",
    "arr"
   ]
  },
  {
   "cell_type": "markdown",
   "id": "3dda8643",
   "metadata": {},
   "source": [
    "Reverse columns of a 2D array"
   ]
  },
  {
   "cell_type": "code",
   "execution_count": 8,
   "id": "7a0f2e33",
   "metadata": {},
   "outputs": [
    {
     "name": "stdout",
     "output_type": "stream",
     "text": [
      "original array:\n",
      "[[1 2 3 4]\n",
      " [5 6 7 8]]\n",
      "reversed array:\n",
      "[[4 3 2 1]\n",
      " [8 7 6 5]]\n"
     ]
    }
   ],
   "source": [
    "print('original array:')\n",
    "arr=np.arange(1,9).reshape(2,4)\n",
    "print(arr)\n",
    "arr=arr[:,::-1]\n",
    "print('reversed array:')\n",
    "print(arr)"
   ]
  },
  {
   "cell_type": "markdown",
   "id": "f5c8d8d6",
   "metadata": {},
   "source": [
    "Get indices of elements greater than 5 [hint: check where method of numpy]"
   ]
  },
  {
   "cell_type": "code",
   "execution_count": 9,
   "id": "b26b1490",
   "metadata": {},
   "outputs": [
    {
     "name": "stdout",
     "output_type": "stream",
     "text": [
      "(array([3, 4, 5, 6]),)\n"
     ]
    }
   ],
   "source": [
    "arr=np.arange(1,8)\n",
    "a1=np.where(arr>3)\n",
    "print(a1)"
   ]
  },
  {
   "cell_type": "markdown",
   "id": "26df8611",
   "metadata": {},
   "source": [
    "Access last row - last column"
   ]
  },
  {
   "cell_type": "code",
   "execution_count": 10,
   "id": "41a0906e",
   "metadata": {},
   "outputs": [
    {
     "name": "stdout",
     "output_type": "stream",
     "text": [
      "[[ 1  2  3  4]\n",
      " [ 5  6  7  8]\n",
      " [ 9 10 11 12]]\n",
      "\n",
      "last-row-last-column:\n",
      " 12\n"
     ]
    }
   ],
   "source": [
    "arr=np.arange(1,13).reshape(3,4)\n",
    "print(arr)\n",
    "print('\\nlast-row-last-column:\\n',arr[-1,-1])"
   ]
  },
  {
   "cell_type": "markdown",
   "id": "25c2f339",
   "metadata": {},
   "source": [
    "### Set 2:\n",
    "Normalize a NumPy array [ to normalize means scaling the values of an array into a specific range, often [0, 1]]"
   ]
  },
  {
   "cell_type": "code",
   "execution_count": 11,
   "id": "789ac63d",
   "metadata": {},
   "outputs": [
    {
     "name": "stdout",
     "output_type": "stream",
     "text": [
      "[[1.         1.41421356 1.73205081 2.        ]\n",
      " [2.23606798 2.44948974 2.64575131 2.82842712]\n",
      " [3.         3.16227766 3.31662479 3.46410162]]\n",
      "--------------\n",
      "[[1. 1. 1. 1.]\n",
      " [1. 1. 1. 1.]\n",
      " [1. 1. 1. 1.]]\n"
     ]
    }
   ],
   "source": [
    "arr=np.arange(1,13)\n",
    "arr=np.sqrt(arr).reshape(3,4)\n",
    "print(arr)\n",
    "print('--------------')\n",
    "varr=np.clip(arr,0,1)\n",
    "print(varr)"
   ]
  },
  {
   "cell_type": "markdown",
   "id": "5e17217e",
   "metadata": {},
   "source": [
    "Create a 5×5 array with 1 on border and 0 inside"
   ]
  },
  {
   "cell_type": "code",
   "execution_count": 12,
   "id": "80c12918",
   "metadata": {},
   "outputs": [
    {
     "data": {
      "text/plain": [
       "array([[1., 1., 1., 1., 1.],\n",
       "       [1., 1., 1., 1., 1.],\n",
       "       [1., 1., 1., 1., 1.],\n",
       "       [1., 1., 1., 1., 1.],\n",
       "       [1., 1., 1., 1., 1.]])"
      ]
     },
     "execution_count": 12,
     "metadata": {},
     "output_type": "execute_result"
    }
   ],
   "source": [
    "a1=np.ones(25).reshape(5,5)\n",
    "a1"
   ]
  },
  {
   "cell_type": "code",
   "execution_count": 13,
   "id": "75196981",
   "metadata": {},
   "outputs": [
    {
     "data": {
      "text/plain": [
       "array([[0., 0., 0.],\n",
       "       [0., 0., 0.],\n",
       "       [0., 0., 0.]])"
      ]
     },
     "execution_count": 13,
     "metadata": {},
     "output_type": "execute_result"
    }
   ],
   "source": [
    "a2=np.zeros(9).reshape(3,3)\n",
    "a2"
   ]
  },
  {
   "cell_type": "code",
   "execution_count": 14,
   "id": "a6defea1",
   "metadata": {},
   "outputs": [
    {
     "data": {
      "text/plain": [
       "array([[1., 1., 1., 1., 1.],\n",
       "       [1., 0., 0., 0., 1.],\n",
       "       [1., 0., 0., 0., 1.],\n",
       "       [1., 0., 0., 0., 1.],\n",
       "       [1., 1., 1., 1., 1.]])"
      ]
     },
     "execution_count": 14,
     "metadata": {},
     "output_type": "execute_result"
    }
   ],
   "source": [
    "a1[1:-1,1:-1]=a2\n",
    "a1"
   ]
  },
  {
   "cell_type": "markdown",
   "id": "05cea29a",
   "metadata": {},
   "source": [
    "Create a random array of 10×10: perform stats (min, max, mean, std)"
   ]
  },
  {
   "cell_type": "code",
   "execution_count": 15,
   "id": "009aaa83",
   "metadata": {},
   "outputs": [
    {
     "data": {
      "text/plain": [
       "array([[0.61865502, 0.41819319, 0.46755415, 0.19680715, 0.31566959,\n",
       "        0.2264288 , 0.03150167, 0.69048396, 0.04891835, 0.11154304],\n",
       "       [0.84495566, 0.1443643 , 0.39321741, 0.04188511, 0.01093338,\n",
       "        0.87342983, 0.86298657, 0.22992247, 0.97826353, 0.08445621],\n",
       "       [0.38491579, 0.73344023, 0.27699519, 0.31445709, 0.97233761,\n",
       "        0.2991543 , 0.55143418, 0.57557552, 0.84108644, 0.59043962],\n",
       "       [0.26552264, 0.56232378, 0.34713353, 0.69097881, 0.47249472,\n",
       "        0.03205796, 0.79095841, 0.42796883, 0.00385187, 0.46387808],\n",
       "       [0.80169658, 0.0327075 , 0.16291459, 0.95688928, 0.87835078,\n",
       "        0.38643876, 0.82884438, 0.74906802, 0.12591879, 0.84307361],\n",
       "       [0.24293944, 0.70562079, 0.84661975, 0.71777983, 0.39281564,\n",
       "        0.45474814, 0.16437606, 0.79113066, 0.85740201, 0.60600181],\n",
       "       [0.58467448, 0.61742232, 0.19216345, 0.53024265, 0.9890612 ,\n",
       "        0.18287888, 0.51075449, 0.72327177, 0.05455507, 0.98866204],\n",
       "       [0.47563228, 0.6786637 , 0.61335974, 0.95217237, 0.68792981,\n",
       "        0.50071927, 0.24949755, 0.18120235, 0.57748485, 0.1039075 ],\n",
       "       [0.69208257, 0.98109913, 0.22765375, 0.01781683, 0.41194704,\n",
       "        0.597998  , 0.45413834, 0.85343021, 0.34924055, 0.93506664],\n",
       "       [0.71268701, 0.65816804, 0.44575601, 0.09090437, 0.77067098,\n",
       "        0.10463245, 0.57427546, 0.8229916 , 0.3665874 , 0.71909003]])"
      ]
     },
     "execution_count": 15,
     "metadata": {},
     "output_type": "execute_result"
    }
   ],
   "source": [
    "a1=np.random.random(100).reshape(10,10)\n",
    "a1"
   ]
  },
  {
   "cell_type": "code",
   "execution_count": 16,
   "id": "e07688ee",
   "metadata": {},
   "outputs": [
    {
     "name": "stdout",
     "output_type": "stream",
     "text": [
      "0.0038518654145833775\n"
     ]
    }
   ],
   "source": [
    "print(np.min(a1))"
   ]
  },
  {
   "cell_type": "code",
   "execution_count": 17,
   "id": "3f5b465e",
   "metadata": {},
   "outputs": [
    {
     "name": "stdout",
     "output_type": "stream",
     "text": [
      "0.9890611963336609\n"
     ]
    }
   ],
   "source": [
    "print(np.max(a1))"
   ]
  },
  {
   "cell_type": "code",
   "execution_count": 18,
   "id": "523241fc",
   "metadata": {},
   "outputs": [
    {
     "name": "stdout",
     "output_type": "stream",
     "text": [
      "0.49913002592451183\n"
     ]
    }
   ],
   "source": [
    "print(np.mean(a1))"
   ]
  },
  {
   "cell_type": "code",
   "execution_count": 19,
   "id": "76974401",
   "metadata": {},
   "outputs": [
    {
     "name": "stdout",
     "output_type": "stream",
     "text": [
      "0.29125092277057923\n"
     ]
    }
   ],
   "source": [
    "print(np.std(a1))"
   ]
  },
  {
   "cell_type": "markdown",
   "id": "32ad50a8",
   "metadata": {},
   "source": [
    "Broadcast a 1D array over a 2D array [all possible scenarios]"
   ]
  },
  {
   "cell_type": "code",
   "execution_count": 20,
   "id": "59899c9b",
   "metadata": {},
   "outputs": [
    {
     "name": "stdout",
     "output_type": "stream",
     "text": [
      "[1 2 3 4 5 6]\n",
      "\n",
      " [[11 12 13 14 15 16]\n",
      " [17 18 19 20 21 22]]\n"
     ]
    }
   ],
   "source": [
    "a1=np.arange(1,7)\n",
    "a2=np.arange(11,23).reshape(2,6)\n",
    "print(a1)\n",
    "print('\\n',a2)"
   ]
  },
  {
   "cell_type": "code",
   "execution_count": 21,
   "id": "31d5353d",
   "metadata": {},
   "outputs": [
    {
     "name": "stdout",
     "output_type": "stream",
     "text": [
      "Add\n",
      " [[12 14 16 18 20 22]\n",
      " [18 20 22 24 26 28]]\n"
     ]
    }
   ],
   "source": [
    "print('Add\\n',a1+a2)"
   ]
  },
  {
   "cell_type": "code",
   "execution_count": 22,
   "id": "89d90929",
   "metadata": {},
   "outputs": [
    {
     "name": "stdout",
     "output_type": "stream",
     "text": [
      "Subtract\n",
      " [[-10 -10 -10 -10 -10 -10]\n",
      " [-16 -16 -16 -16 -16 -16]]\n",
      "Subtract\n",
      " [[10 10 10 10 10 10]\n",
      " [16 16 16 16 16 16]]\n"
     ]
    }
   ],
   "source": [
    "print('Subtract\\n',a1-a2)\n",
    "print('Subtract\\n',a2-a1)"
   ]
  },
  {
   "cell_type": "code",
   "execution_count": 23,
   "id": "c23bc2d4",
   "metadata": {},
   "outputs": [
    {
     "name": "stdout",
     "output_type": "stream",
     "text": [
      "Multiply\n",
      " [[ 11  24  39  56  75  96]\n",
      " [ 17  36  57  80 105 132]]\n"
     ]
    }
   ],
   "source": [
    "print('Multiply\\n',a1*a2)"
   ]
  },
  {
   "cell_type": "code",
   "execution_count": 24,
   "id": "f41d9587",
   "metadata": {},
   "outputs": [
    {
     "name": "stdout",
     "output_type": "stream",
     "text": [
      "Divide\n",
      " [[0.09090909 0.16666667 0.23076923 0.28571429 0.33333333 0.375     ]\n",
      " [0.05882353 0.11111111 0.15789474 0.2        0.23809524 0.27272727]]\n"
     ]
    }
   ],
   "source": [
    "print('Divide\\n',a1/a2)"
   ]
  },
  {
   "cell_type": "code",
   "execution_count": 25,
   "id": "a16d2d64",
   "metadata": {},
   "outputs": [
    {
     "name": "stdout",
     "output_type": "stream",
     "text": [
      "Int Divide\n",
      " [[11  6  4  3  3  2]\n",
      " [17  9  6  5  4  3]]\n"
     ]
    }
   ],
   "source": [
    "print('Int Divide\\n',a2//a1)"
   ]
  },
  {
   "cell_type": "code",
   "execution_count": 26,
   "id": "b77a1f91",
   "metadata": {},
   "outputs": [
    {
     "name": "stdout",
     "output_type": "stream",
     "text": [
      "Remainder\n",
      " [[1 2 3 4 5 6]\n",
      " [1 2 3 4 5 6]]\n"
     ]
    }
   ],
   "source": [
    "print('Remainder\\n',a1%a2)"
   ]
  },
  {
   "cell_type": "code",
   "execution_count": 27,
   "id": "1a469cb1",
   "metadata": {},
   "outputs": [
    {
     "name": "stdout",
     "output_type": "stream",
     "text": [
      "[27 36 18 23 29 28 23 31]\n",
      "['Adult' 'Adult' 'Adult' 'Adult' 'Adult' 'Adult' 'Adult' 'Adult']\n"
     ]
    }
   ],
   "source": [
    "age=np.random.randint(12,41,8)\n",
    "age_grp=np.array(['Minor','Adult'])\n",
    "print(age)\n",
    "print(np.where(age<18,age_grp[0],age_grp[1]))"
   ]
  },
  {
   "cell_type": "markdown",
   "id": "bb34dd76",
   "metadata": {},
   "source": [
    "Sort a 2D array by column 1 [hint: check method argsort()]"
   ]
  },
  {
   "cell_type": "code",
   "execution_count": 28,
   "id": "45d37c76",
   "metadata": {},
   "outputs": [
    {
     "name": "stdout",
     "output_type": "stream",
     "text": [
      "array:\n",
      " [[56 95 60  4 41]\n",
      " [13 79 47 15 69]\n",
      " [38  5 98 88 64]\n",
      " [34 34 63 65 73]\n",
      " [ 1 48 94 10 59]]\n",
      "\n",
      "sorted by 1st column:\n",
      "[[ 1  5 47  4 41]\n",
      " [13 34 60 10 59]\n",
      " [34 48 63 15 64]\n",
      " [38 79 94 65 69]\n",
      " [56 95 98 88 73]]\n"
     ]
    }
   ],
   "source": [
    "# Approach 1\n",
    "a1=np.random.randint(1,100,25).reshape(5,5)\n",
    "print('array:\\n',a1)\n",
    "a1_indices=np.argsort(a1,0)\n",
    "print('\\nsorted by 1st column:')\n",
    "print(a1[a1_indices,np.arange(a1.shape[1])])"
   ]
  },
  {
   "cell_type": "code",
   "execution_count": 29,
   "id": "c564c852",
   "metadata": {},
   "outputs": [
    {
     "name": "stdout",
     "output_type": "stream",
     "text": [
      "[[ 1 48 94 10 59]\n",
      " [13 79 47 15 69]\n",
      " [34 34 63 65 73]\n",
      " [38  5 98 88 64]\n",
      " [56 95 60  4 41]]\n"
     ]
    }
   ],
   "source": [
    "# Approach 2\n",
    "col1=a1[:,0]\n",
    "index=np.argsort(col1)\n",
    "print(a1[index])"
   ]
  },
  {
   "cell_type": "markdown",
   "id": "80f040f9",
   "metadata": {},
   "source": [
    "### Set 3:\n",
    "\n",
    "Find common elements between two arrays [with and without using intersect1d]"
   ]
  },
  {
   "cell_type": "code",
   "execution_count": 30,
   "id": "acde145e",
   "metadata": {},
   "outputs": [
    {
     "name": "stdout",
     "output_type": "stream",
     "text": [
      "With np.intersect1d():\n",
      "[10 12]\n",
      "\n",
      "Without np.intersect1d():\n",
      "(created mask using np.isin)\n",
      "[10 12]\n"
     ]
    }
   ],
   "source": [
    "a1=np.random.randint(1,52,12)\n",
    "a2=np.random.randint(3,62,12)\n",
    "print('With np.intersect1d():')\n",
    "print(np.intersect1d(a1,a2))\n",
    "\n",
    "# common_e=set(a1) & set(a2)\n",
    "# print(common_e)\n",
    "print('\\nWithout np.intersect1d():')\n",
    "print('(created mask using np.isin)')\n",
    "print(a1[np.isin(a1,a2)])"
   ]
  },
  {
   "cell_type": "markdown",
   "id": "7bea4474",
   "metadata": {},
   "source": [
    "Subtract row mean from each row of a 2D array"
   ]
  },
  {
   "cell_type": "code",
   "execution_count": 31,
   "id": "790d2901",
   "metadata": {},
   "outputs": [
    {
     "name": "stdout",
     "output_type": "stream",
     "text": [
      "[[12 13 14 15 16]\n",
      " [17 18 19 20 21]\n",
      " [22 23 24 25 26]]\n"
     ]
    },
    {
     "data": {
      "text/plain": [
       "array([14., 19., 24.])"
      ]
     },
     "execution_count": 31,
     "metadata": {},
     "output_type": "execute_result"
    }
   ],
   "source": [
    "a1=np.arange(12,27).reshape(3,5)\n",
    "print(a1)\n",
    "mean_a=np.mean(a1,1)\n",
    "mean_a"
   ]
  },
  {
   "cell_type": "markdown",
   "id": "572c2fe2",
   "metadata": {},
   "source": [
    "Given a 4×4 array, swap the first half rows with the second half rows"
   ]
  },
  {
   "cell_type": "code",
   "execution_count": 32,
   "id": "8691ca57",
   "metadata": {},
   "outputs": [
    {
     "name": "stdout",
     "output_type": "stream",
     "text": [
      "[[ 1  2  3  4]\n",
      " [ 5  6  7  8]\n",
      " [ 9 10 11 12]\n",
      " [13 14 15 16]]\n"
     ]
    }
   ],
   "source": [
    "a1=np.arange(1,17).reshape(4,4)\n",
    "print(a1)"
   ]
  },
  {
   "cell_type": "markdown",
   "id": "09417a27",
   "metadata": {},
   "source": [
    "Given a 1D array of random numbers, find the indices of the 5 largest values (no sorting/ check argsort() instead)."
   ]
  },
  {
   "cell_type": "code",
   "execution_count": null,
   "id": "7190468d",
   "metadata": {},
   "outputs": [],
   "source": []
  },
  {
   "cell_type": "markdown",
   "id": "6a05cbf8",
   "metadata": {},
   "source": [
    "From a 2D NumPy array, extract only the unique rows (no duplicates hint: check unique method)."
   ]
  },
  {
   "cell_type": "code",
   "execution_count": null,
   "id": "5b9fb658",
   "metadata": {},
   "outputs": [],
   "source": []
  },
  {
   "cell_type": "markdown",
   "id": "40cce03e",
   "metadata": {},
   "source": [
    "### GeeksforGeeks"
   ]
  },
  {
   "cell_type": "markdown",
   "id": "56120270",
   "metadata": {},
   "source": [
    "### [Power of 2](https://www.geeksforgeeks.org/problems/power-of-2-1587115620/1)"
   ]
  },
  {
   "cell_type": "code",
   "execution_count": 33,
   "id": "be3d7e46",
   "metadata": {},
   "outputs": [],
   "source": [
    "def isPowerofTwo(n):\n",
    "        return n>0 and (n & (n-1)==0)"
   ]
  },
  {
   "cell_type": "code",
   "execution_count": 34,
   "id": "977aad07",
   "metadata": {},
   "outputs": [
    {
     "data": {
      "text/plain": [
       "True"
      ]
     },
     "execution_count": 34,
     "metadata": {},
     "output_type": "execute_result"
    }
   ],
   "source": [
    "isPowerofTwo(1024)"
   ]
  },
  {
   "cell_type": "code",
   "execution_count": 35,
   "id": "37a47f71",
   "metadata": {},
   "outputs": [
    {
     "data": {
      "text/plain": [
       "False"
      ]
     },
     "execution_count": 35,
     "metadata": {},
     "output_type": "execute_result"
    }
   ],
   "source": [
    "isPowerofTwo(1000)"
   ]
  },
  {
   "cell_type": "markdown",
   "id": "777443da",
   "metadata": {},
   "source": [
    "### [First and Last Occurrence](https://www.geeksforgeeks.org/problems/first-and-last-occurrences-of-x3116/1)"
   ]
  },
  {
   "cell_type": "code",
   "execution_count": 36,
   "id": "643a6473",
   "metadata": {},
   "outputs": [],
   "source": [
    "def find(arr, x):\n",
    "        first_o=-1\n",
    "        last_o=-1\n",
    "        if x not in set(arr):\n",
    "            return [-1,-1]\n",
    "        for i in range(len(arr)):\n",
    "            if arr[i]==x & first_o !=-1:\n",
    "                print(i)\n",
    "                first_o,last_o=i,i\n",
    "            elif arr[i]==x:\n",
    "                last_o=i\n",
    "        return [first_o,last_o]"
   ]
  },
  {
   "cell_type": "code",
   "execution_count": 37,
   "id": "3f02ce69",
   "metadata": {},
   "outputs": [
    {
     "name": "stdout",
     "output_type": "stream",
     "text": [
      "7\n"
     ]
    },
    {
     "data": {
      "text/plain": [
       "[7, 7]"
      ]
     },
     "execution_count": 37,
     "metadata": {},
     "output_type": "execute_result"
    }
   ],
   "source": [
    "a=[6, 6, 6, 6, 7, 7, 7, 8]\n",
    "find(a,8)"
   ]
  },
  {
   "cell_type": "code",
   "execution_count": 38,
   "id": "0fc3bfbd",
   "metadata": {},
   "outputs": [],
   "source": [
    "def is_power_of_two_bitwise(n):\n",
    "    \"\"\"Checks if n is a power of 2 using the bitwise AND operation.\"\"\"\n",
    "    # Must be positive (n > 0) AND have exactly one bit set to 1\n",
    "    return n > 0 and (n & (n - 1) == 0)"
   ]
  }
 ],
 "metadata": {
  "kernelspec": {
   "display_name": "Python 3",
   "language": "python",
   "name": "python3"
  },
  "language_info": {
   "codemirror_mode": {
    "name": "ipython",
    "version": 3
   },
   "file_extension": ".py",
   "mimetype": "text/x-python",
   "name": "python",
   "nbconvert_exporter": "python",
   "pygments_lexer": "ipython3",
   "version": "3.13.7"
  }
 },
 "nbformat": 4,
 "nbformat_minor": 5
}
