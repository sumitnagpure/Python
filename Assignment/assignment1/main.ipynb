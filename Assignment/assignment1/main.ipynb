{
 "cells": [
  {
   "cell_type": "markdown",
   "id": "ed2517c6",
   "metadata": {},
   "source": [
    "1. Using for loop, write and run a Python program for this algorithm.\n",
    "Here is an algorithm to print out n! from 0! to 10!"
   ]
  },
  {
   "cell_type": "code",
   "execution_count": 1,
   "id": "e9832c06",
   "metadata": {},
   "outputs": [
    {
     "name": "stdout",
     "output_type": "stream",
     "text": [
      "factorial of 0 is 1\n",
      "factorial of 1 is 1\n",
      "factorial of 2 is 2\n",
      "factorial of 3 is 6\n",
      "factorial of 4 is 24\n",
      "factorial of 5 is 120\n",
      "factorial of 6 is 720\n",
      "factorial of 7 is 5040\n",
      "factorial of 8 is 40320\n",
      "factorial of 9 is 362880\n",
      "factorial of 10 is 3628800\n"
     ]
    }
   ],
   "source": [
    "for number in range(0,11):\n",
    "    factorial=1\n",
    "\n",
    "    for i in range(1,number+1):\n",
    "        factorial*=i\n",
    "\n",
    "    print(f\"factorial of {number} is {factorial}\")"
   ]
  },
  {
   "cell_type": "markdown",
   "id": "c870259e",
   "metadata": {},
   "source": [
    "2. Find prime numbers between a given range - start(take start no) , end (take end number)"
   ]
  },
  {
   "cell_type": "code",
   "execution_count": 10,
   "id": "cca43655",
   "metadata": {},
   "outputs": [
    {
     "name": "stdout",
     "output_type": "stream",
     "text": [
      "11, 13, 17, 19, 23, 29, 31, 37, 41, 43, 47, 53, 59, 61, 67, 71, 73, 79, 83, 89, 97, 101, 103, 107, 109, "
     ]
    }
   ],
   "source": [
    "start=int(input())\n",
    "end=int(input())\n",
    "\n",
    "for i in range(start, end+1):\n",
    "    for j in range(2,i//2):\n",
    "        if (i%j==0):\n",
    "            break\n",
    "    else:\n",
    "        print(i, end=\", \")\n"
   ]
  },
  {
   "cell_type": "markdown",
   "id": "ad271509",
   "metadata": {},
   "source": [
    "3. Write a python program to swap a 3 digit number\n",
    "input 321\n",
    "output 123"
   ]
  },
  {
   "cell_type": "code",
   "execution_count": 39,
   "id": "2a20fd10",
   "metadata": {},
   "outputs": [
    {
     "name": "stdout",
     "output_type": "stream",
     "text": [
      "reversed number:  123\n",
      "original number:  321\n"
     ]
    }
   ],
   "source": [
    "# n=int(input(\"Enter Number to reverse: \"))\n",
    "n=321\n",
    "original_n=n\n",
    "reverse=0\n",
    "while n>0:\n",
    "    i=n%10 #digit\n",
    "    reverse=reverse*10+i\n",
    "    n=n//10\n",
    "    \n",
    "print(\"reversed number: \",reverse)\n",
    "print(\"original number: \",original_n)"
   ]
  },
  {
   "cell_type": "markdown",
   "id": "793a019f",
   "metadata": {},
   "source": [
    "4. Count Digits, Even/Odd, Sum  \n",
    "e.g. 23456  \n",
    "output digits : 5  \n",
    "sum : 20  \n",
    "Even digits : 3  \n",
    "odd digits :2  "
   ]
  },
  {
   "cell_type": "code",
   "execution_count": 46,
   "id": "e0b8401a",
   "metadata": {},
   "outputs": [
    {
     "name": "stdout",
     "output_type": "stream",
     "text": [
      "output digits: 5\n",
      "sum: 20\n",
      "even: 3\n",
      "odd: 2\n"
     ]
    }
   ],
   "source": [
    "# num=input()\n",
    "num='23456'\n",
    "output_digits=0\n",
    "sum=0\n",
    "even=0\n",
    "odd=0\n",
    "for i in num:\n",
    "    j=int(i)\n",
    "    output_digits+=1\n",
    "    sum+=j\n",
    "    if  j%2==0:\n",
    "        even+=1\n",
    "    else:\n",
    "        odd+=1\n",
    "\n",
    "print(f'output digits: {output_digits}')\n",
    "print(f'sum: {sum}')\n",
    "print(f'even: {even}')\n",
    "print(f'odd: {odd}')"
   ]
  },
  {
   "cell_type": "markdown",
   "id": "3943c046",
   "metadata": {},
   "source": [
    "5. Write a program to check if given triangle is valid if 3 sides of the triangle are provided.\n",
    "Also print the type of triangle"
   ]
  },
  {
   "cell_type": "code",
   "execution_count": 2,
   "id": "2c7c2fb4",
   "metadata": {},
   "outputs": [
    {
     "name": "stdout",
     "output_type": "stream",
     "text": [
      "Equilateral triangle.\n"
     ]
    }
   ],
   "source": [
    "# s1,s2,s3=int(input()), int(input()), int(input())\n",
    "\n",
    "s1,s2,s3= 12,12,12\n",
    "\n",
    "sum=s1+s2+s3\n",
    "maxV=max(s1,s2,s3)\n",
    "\n",
    "if (sum-maxV)<maxV:\n",
    "    print(\"Invalid sides for a valid triangle.\")\n",
    "else:\n",
    "    if s1==s2==s3:\n",
    "        print('Equilateral triangle.')\n",
    "    elif s1==s2 or s2==s3 or s1==s3:\n",
    "        print('Isoceles triangle.')\n",
    "    else:\n",
    "        print('Scalene triangle')\n"
   ]
  },
  {
   "cell_type": "markdown",
   "id": "095d6de9",
   "metadata": {},
   "source": [
    "6. Find LCM and GCD for given numbers [take 2 numbers] using loops only"
   ]
  },
  {
   "cell_type": "code",
   "execution_count": null,
   "id": "614d61ab",
   "metadata": {},
   "outputs": [
    {
     "name": "stdout",
     "output_type": "stream",
     "text": [
      "1\n",
      "156.0\n"
     ]
    }
   ],
   "source": [
    "# num1, num2= int(input()), int(input())\n",
    "num1, num2= 12, 13\n",
    "maxV=max(num1,num2)\n",
    "minV=min(num1,num2)\n",
    "lcm=0\n",
    "gcd=0\n",
    "for i in range(1,minV+1):\n",
    "    if num1%i==0 and num2%i==0:\n",
    "        gcd=i\n",
    "lcm=num1*num2/gcd\n",
    "print(gcd)\n",
    "print(lcm)\n",
    "\n",
    "\n"
   ]
  },
  {
   "cell_type": "markdown",
   "id": "f299fde8",
   "metadata": {},
   "source": [
    "Armstrong number"
   ]
  },
  {
   "cell_type": "markdown",
   "id": "4dae5fab",
   "metadata": {},
   "source": [
    "An Armstrong number of three digits is a number such that the sum of the cubes of its digits is equal to the number itself. 371 is an Armstrong number since 33 + 73 + 13 = 371. "
   ]
  },
  {
   "cell_type": "code",
   "execution_count": 8,
   "id": "d935b7ee",
   "metadata": {},
   "outputs": [
    {
     "name": "stdout",
     "output_type": "stream",
     "text": [
      "True\n",
      "False\n"
     ]
    }
   ],
   "source": [
    "def armstrongNumber (n):\n",
    "        total=0\n",
    "        num=n\n",
    "        \n",
    "        while ((num%10)!=0):\n",
    "            i=num%10\n",
    "            total+=pow(i,3)\n",
    "            num=num//10\n",
    "        return total==n\n",
    "print(armstrongNumber(153))\n",
    "print(armstrongNumber(123))"
   ]
  },
  {
   "cell_type": "code",
   "execution_count": null,
   "id": "cd2765e2",
   "metadata": {},
   "outputs": [],
   "source": []
  }
 ],
 "metadata": {
  "kernelspec": {
   "display_name": "Python 3",
   "language": "python",
   "name": "python3"
  },
  "language_info": {
   "codemirror_mode": {
    "name": "ipython",
    "version": 3
   },
   "file_extension": ".py",
   "mimetype": "text/x-python",
   "name": "python",
   "nbconvert_exporter": "python",
   "pygments_lexer": "ipython3",
   "version": "3.13.7"
  }
 },
 "nbformat": 4,
 "nbformat_minor": 5
}
