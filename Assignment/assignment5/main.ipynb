{
 "cells": [
  {
   "cell_type": "markdown",
   "id": "77fcda7f",
   "metadata": {},
   "source": [
    "### Assignment 5"
   ]
  },
  {
   "cell_type": "markdown",
   "id": "9bac5ebb",
   "metadata": {},
   "source": [
    "Create an Account class Heirarchy  \n",
    "Account with super class (acc_id, name, balance)  \n",
    "methods - withdraw and deposit"
   ]
  },
  {
   "cell_type": "code",
   "execution_count": null,
   "id": "aca8f198",
   "metadata": {},
   "outputs": [],
   "source": []
  },
  {
   "cell_type": "markdown",
   "id": "e4e6e8de",
   "metadata": {},
   "source": [
    "Create SavingsAccount as sub class of account - additional field (type - personal/corporate etc)\n",
    "implement withdraw and deposit such that\n",
    "- maximum upto 1 lakh can be deposited in an account at a time\n",
    "- Min balance 5000 must be maintained while withdrawal (if type = corporate you withdraw full amount = balance)"
   ]
  },
  {
   "cell_type": "code",
   "execution_count": null,
   "id": "038240d2",
   "metadata": {},
   "outputs": [],
   "source": []
  },
  {
   "cell_type": "markdown",
   "id": "e34a6f82",
   "metadata": {},
   "source": [
    "Create CurrentAccount as sub class of account\n",
    "implement withdraw and deposit such that\n",
    "- maximum upto 2 lakh can be deposited in an account at a time\n",
    "- Min balance 10000 must be maintained while withdrawal"
   ]
  },
  {
   "cell_type": "code",
   "execution_count": null,
   "id": "1ae961ab",
   "metadata": {},
   "outputs": [],
   "source": []
  },
  {
   "cell_type": "markdown",
   "id": "56b17568",
   "metadata": {},
   "source": [
    "Create Bank App with Transaction class\n",
    "Create Method withdraw_from_account(account : Account)  and deposit_to_account(account : Account)\n",
    "These methods will return the new balance after deposite/withdraw"
   ]
  },
  {
   "cell_type": "code",
   "execution_count": null,
   "id": "6d8fc9d2",
   "metadata": {},
   "outputs": [],
   "source": []
  },
  {
   "cell_type": "markdown",
   "id": "121921c4",
   "metadata": {},
   "source": [
    "\n",
    "Create user class with user interface that gives 2 menu options\n",
    "1. Deposit\n",
    "2. Withdraw\n",
    "\n",
    "Both options will ask user to enter money to withdraw/deposite\n",
    "Display a statement with each transaction and final balance after user exits from the menu"
   ]
  },
  {
   "cell_type": "code",
   "execution_count": null,
   "id": "f16b4c16",
   "metadata": {},
   "outputs": [],
   "source": []
  },
  {
   "cell_type": "markdown",
   "id": "15c1a579",
   "metadata": {},
   "source": [
    "Identify possible Exceptions and implement them"
   ]
  },
  {
   "cell_type": "code",
   "execution_count": null,
   "id": "930f2edd",
   "metadata": {},
   "outputs": [],
   "source": []
  }
 ],
 "metadata": {
  "kernelspec": {
   "display_name": "Python 3",
   "language": "python",
   "name": "python3"
  },
  "language_info": {
   "name": "python",
   "version": "3.13.7"
  }
 },
 "nbformat": 4,
 "nbformat_minor": 5
}
