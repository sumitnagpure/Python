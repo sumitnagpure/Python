{
 "cells": [
  {
   "cell_type": "markdown",
   "id": "77fcda7f",
   "metadata": {},
   "source": [
    "### Assignment 5"
   ]
  },
  {
   "cell_type": "markdown",
   "id": "9bac5ebb",
   "metadata": {},
   "source": [
    "Create an Account class Heirarchy  \n",
    "Account with super class (acc_id, name, balance)  \n",
    "methods - withdraw and deposit"
   ]
  },
  {
   "cell_type": "code",
   "execution_count": null,
   "id": "aca8f198",
   "metadata": {},
   "outputs": [],
   "source": []
  },
  {
   "cell_type": "markdown",
   "id": "e4e6e8de",
   "metadata": {},
   "source": [
    "Create SavingsAccount as sub class of account - additional field (type - personal/corporate etc)\n",
    "implement withdraw and deposit such that\n",
    "- maximum upto 1 lakh can be deposited in an account at a time\n",
    "- Min balance 5000 must be maintained while withdrawal (if type = corporate you withdraw full amount = balance)"
   ]
  },
  {
   "cell_type": "code",
   "execution_count": null,
   "id": "038240d2",
   "metadata": {},
   "outputs": [],
   "source": []
  },
  {
   "cell_type": "markdown",
   "id": "e34a6f82",
   "metadata": {},
   "source": [
    "Create CurrentAccount as sub class of account\n",
    "implement withdraw and deposit such that\n",
    "- maximum upto 2 lakh can be deposited in an account at a time\n",
    "- Min balance 10000 must be maintained while withdrawal"
   ]
  },
  {
   "cell_type": "code",
   "execution_count": null,
   "id": "1ae961ab",
   "metadata": {},
   "outputs": [],
   "source": []
  },
  {
   "cell_type": "markdown",
   "id": "56b17568",
   "metadata": {},
   "source": [
    "Create Bank App with Transaction class\n",
    "Create Method withdraw_from_account(account : Account)  and deposit_to_account(account : Account)\n",
    "These methods will return the new balance after deposite/withdraw"
   ]
  },
  {
   "cell_type": "code",
   "execution_count": null,
   "id": "6d8fc9d2",
   "metadata": {},
   "outputs": [],
   "source": []
  },
  {
   "cell_type": "markdown",
   "id": "121921c4",
   "metadata": {},
   "source": [
    "\n",
    "Create user class with user interface that gives 2 menu options\n",
    "1. Deposit\n",
    "2. Withdraw\n",
    "\n",
    "Both options will ask user to enter money to withdraw/deposite\n",
    "Display a statement with each transaction and final balance after user exits from the menu"
   ]
  },
  {
   "cell_type": "code",
   "execution_count": null,
   "id": "f16b4c16",
   "metadata": {},
   "outputs": [],
   "source": []
  },
  {
   "cell_type": "markdown",
   "id": "15c1a579",
   "metadata": {},
   "source": [
    "Identify possible Exceptions and implement them"
   ]
  },
  {
   "cell_type": "code",
   "execution_count": null,
   "id": "930f2edd",
   "metadata": {},
   "outputs": [],
   "source": []
  },
  {
   "cell_type": "markdown",
   "id": "9fd003bf",
   "metadata": {},
   "source": [
    "### [Validate an IP Address](https://www.geeksforgeeks.org/problems/validate-an-ip-address-1587115621/1)\n",
    "Difficulty: MediumAccuracy: 11.22%Submissions: 300K+Points: 4Average Time: 20m\n",
    "\n",
    "You are given a string s in the form of an IPv4 Address. Your task is to validate an IPv4 Address, if it is valid return true otherwise return false.\n",
    "\n",
    "    IPv4 addresses are canonically represented in dot-decimal notation, which consists of four decimal numbers, each ranging from 0 to 255, separated by dots, e.g., \"172.16.254.1\"\n",
    "\n",
    "    A valid IPv4 Address is of the form x1.x2.x3.x4 where 0 <= (x1, x2, x3, x4) <= 255. Thus, we can write the generalized form of an IPv4 address as (0-255).(0-255).(0-255).(0-255)\n",
    "\n",
    "Note: Here we are considering numbers only from 0 to 255 and any additional leading zeroes will be considered invalid.\n",
    "\n",
    "Examples :\n",
    "\n",
    "Input: s = \"222.111.111.111\"\n",
    "Output: true\n",
    "Explanation: Here, the IPv4 address is as per the criteria mentioned and also all four decimal numbers lies in the mentioned range.\n",
    "\n",
    "Input: s = \"5555..555\"\n",
    "Output: false\n",
    "Explanation: \"5555..555\" is not a valid IPv4 address, as the middle two portions are missing.\n",
    "\n",
    "Input: s = \"0.0.0.255\"\n",
    "Output: true"
   ]
  },
  {
   "cell_type": "code",
   "execution_count": null,
   "id": "1357d39e",
   "metadata": {},
   "outputs": [],
   "source": []
  }
 ],
 "metadata": {
  "kernelspec": {
   "display_name": "Python 3",
   "language": "python",
   "name": "python3"
  },
  "language_info": {
   "name": "python",
   "version": "3.13.7"
  }
 },
 "nbformat": 4,
 "nbformat_minor": 5
}
