{
 "cells": [
  {
   "cell_type": "markdown",
   "id": "b10d0da2",
   "metadata": {},
   "source": [
    "# Assignment 7- DataFrame"
   ]
  },
  {
   "cell_type": "code",
   "execution_count": 1,
   "id": "8d439c7d",
   "metadata": {},
   "outputs": [],
   "source": [
    "import pandas as pd"
   ]
  },
  {
   "cell_type": "markdown",
   "id": "6ee731a2",
   "metadata": {},
   "source": [
    "Q1. Create a DataFrame containing student information like Name, Age, Department, %Marks"
   ]
  },
  {
   "cell_type": "code",
   "execution_count": 20,
   "id": "b2534b94",
   "metadata": {},
   "outputs": [
    {
     "name": "stdout",
     "output_type": "stream",
     "text": [
      "     Name  Age Department  Marks\n",
      "0   Rohit   21        CSE     91\n",
      "1   Sunil   25      Civil     89\n",
      "2  Sujita   31       Mech     92\n"
     ]
    }
   ],
   "source": [
    "df=pd.DataFrame({'Name':['Rohit','Sunil','Sujita'],\n",
    "                 'Age':[21,25,31],\n",
    "                 'Department':['CSE','Civil','Mech'],\n",
    "                 'Marks':[91,89,92]})\n",
    "print(df)"
   ]
  },
  {
   "cell_type": "markdown",
   "id": "048dab38",
   "metadata": {},
   "source": [
    "a.Display column names of the DF "
   ]
  },
  {
   "cell_type": "code",
   "execution_count": 19,
   "id": "c1229b3a",
   "metadata": {},
   "outputs": [
    {
     "name": "stdout",
     "output_type": "stream",
     "text": [
      "Empty DataFrame\n",
      "Columns: [Name, Age, Department, Marks]\n",
      "Index: []\n",
      "Index(['Name', 'Age', 'Department', 'Marks'], dtype='object')\n"
     ]
    }
   ],
   "source": [
    "print(df.loc[:-1,:])\n",
    "print(df.columns)"
   ]
  },
  {
   "cell_type": "markdown",
   "id": "bf5b899c",
   "metadata": {},
   "source": [
    " b.Show min/max and average marks  "
   ]
  },
  {
   "cell_type": "code",
   "execution_count": 34,
   "id": "2482df4b",
   "metadata": {},
   "outputs": [
    {
     "name": "stdout",
     "output_type": "stream",
     "text": [
      "Min Marks:  89\n",
      "Max Marks:  92\n",
      "Avg Marks:  90.66666666666667\n",
      "\n",
      "agg()\n",
      "min     89.000000\n",
      "max     92.000000\n",
      "mean    90.666667\n",
      "Name: Marks, dtype: float64\n"
     ]
    }
   ],
   "source": [
    "print(\"Min Marks: \",df.Marks.min())\n",
    "print(\"Max Marks: \",df.Marks.max())\n",
    "print(\"Avg Marks: \",df.Marks.mean())\n",
    "print('\\nagg()')\n",
    "print(df.Marks.agg(['min','max','mean']))"
   ]
  },
  {
   "cell_type": "markdown",
   "id": "c9ba0d04",
   "metadata": {},
   "source": [
    "c.Get unique values and student count for each Department"
   ]
  },
  {
   "cell_type": "code",
   "execution_count": 45,
   "id": "5155467c",
   "metadata": {},
   "outputs": [
    {
     "name": "stdout",
     "output_type": "stream",
     "text": [
      "Unique values: ['CSE' 'Civil' 'Mech']\n",
      "\n",
      " Department\n",
      "CSE      1\n",
      "Civil    1\n",
      "Mech     1\n",
      "Name: count, dtype: int64\n"
     ]
    }
   ],
   "source": [
    "print('Unique values:',df['Department'].unique())\n",
    "print('\\n',df['Department'].value_counts())\n"
   ]
  },
  {
   "cell_type": "markdown",
   "id": "85335c73",
   "metadata": {},
   "source": [
    "## Q2. Read csv file solar.csv  "
   ]
  },
  {
   "cell_type": "markdown",
   "id": "893ae885",
   "metadata": {},
   "source": [
    "a. Display all the plants with capacity > 500 MW"
   ]
  },
  {
   "cell_type": "code",
   "execution_count": null,
   "id": "d2910cd8",
   "metadata": {},
   "outputs": [],
   "source": []
  },
  {
   "cell_type": "markdown",
   "id": "063d8e87",
   "metadata": {},
   "source": [
    "b. Display plant details for New York plant  "
   ]
  },
  {
   "cell_type": "code",
   "execution_count": null,
   "id": "1b21bcfc",
   "metadata": {},
   "outputs": [],
   "source": []
  },
  {
   "cell_type": "markdown",
   "id": "44a01765",
   "metadata": {},
   "source": [
    "c. For all the plants display Average MW Per Plant and Generation (GWh)"
   ]
  },
  {
   "cell_type": "code",
   "execution_count": null,
   "id": "1638f5f8",
   "metadata": {},
   "outputs": [],
   "source": []
  },
  {
   "cell_type": "markdown",
   "id": "50847c41",
   "metadata": {},
   "source": [
    "d. Sort the plants by Generation (GWh) (ascending) and Installed Capacity (MW)(descending) "
   ]
  },
  {
   "cell_type": "code",
   "execution_count": null,
   "id": "afd91a42",
   "metadata": {},
   "outputs": [],
   "source": []
  },
  {
   "cell_type": "markdown",
   "id": "3978f0ee",
   "metadata": {},
   "source": [
    "e. List top 5 plants for their Generation "
   ]
  },
  {
   "cell_type": "code",
   "execution_count": null,
   "id": "51449321",
   "metadata": {},
   "outputs": [],
   "source": []
  },
  {
   "cell_type": "markdown",
   "id": "6f1c8d2e",
   "metadata": {},
   "source": [
    "f. Display all plant details for states – California, Nevada, Arizona and Texas  "
   ]
  },
  {
   "cell_type": "code",
   "execution_count": null,
   "id": "7ed1fbc1",
   "metadata": {},
   "outputs": [],
   "source": []
  },
  {
   "cell_type": "markdown",
   "id": "01c3b7d7",
   "metadata": {},
   "source": [
    "g. Group the plants by region, find – min/max capacity plant for each group  "
   ]
  },
  {
   "cell_type": "code",
   "execution_count": null,
   "id": "3f8aa4af",
   "metadata": {},
   "outputs": [],
   "source": []
  },
  {
   "cell_type": "markdown",
   "id": "b93c0883",
   "metadata": {},
   "source": [
    "h. Add following information to the existing details for the plants  "
   ]
  },
  {
   "cell_type": "markdown",
   "id": "5182a7d7",
   "metadata": {},
   "source": [
    "| | | | | | |\n",
    "| :--- | :--- | :--- | :--- | :--- | :--- |\n",
    "| **North Carolina** | 148 | 669 | 4.5 | 1162 | North |"
   ]
  },
  {
   "cell_type": "code",
   "execution_count": null,
   "id": "8959e5ca",
   "metadata": {},
   "outputs": [],
   "source": []
  },
  {
   "cell_type": "markdown",
   "id": "114b6f65",
   "metadata": {},
   "source": [
    "## Advanced -------------------------------------- "
   ]
  },
  {
   "cell_type": "markdown",
   "id": "31722fb3",
   "metadata": {},
   "source": [
    "Q.3 Read csv gapminder2007.csv"
   ]
  },
  {
   "cell_type": "markdown",
   "id": "85ac7444",
   "metadata": {},
   "source": [
    "a.Display data for all Asian countries"
   ]
  },
  {
   "cell_type": "code",
   "execution_count": null,
   "id": "2dd9459d",
   "metadata": {},
   "outputs": [],
   "source": []
  },
  {
   "cell_type": "markdown",
   "id": "db1aabf2",
   "metadata": {},
   "source": [
    "b.Display top and bottom 15 rows"
   ]
  },
  {
   "cell_type": "code",
   "execution_count": null,
   "id": "3c837e3d",
   "metadata": {},
   "outputs": [],
   "source": []
  },
  {
   "cell_type": "markdown",
   "id": "94898a66",
   "metadata": {},
   "source": [
    "c.Show all the rows where life expectancy is more than 50 years and less than 80 years"
   ]
  },
  {
   "cell_type": "code",
   "execution_count": null,
   "id": "469ff3ec",
   "metadata": {},
   "outputs": [],
   "source": []
  },
  {
   "cell_type": "markdown",
   "id": "d471fb61",
   "metadata": {},
   "source": [
    "d.Show data for India, America and France"
   ]
  },
  {
   "cell_type": "code",
   "execution_count": null,
   "id": "93a9a41b",
   "metadata": {},
   "outputs": [],
   "source": []
  },
  {
   "cell_type": "markdown",
   "id": "1b577fa3",
   "metadata": {},
   "source": [
    "e.Show data for all countries where name starts with ‘A’"
   ]
  },
  {
   "cell_type": "code",
   "execution_count": null,
   "id": "3103ae3f",
   "metadata": {},
   "outputs": [],
   "source": []
  },
  {
   "cell_type": "markdown",
   "id": "1a98758f",
   "metadata": {},
   "source": [
    "f.Show min/max and mean GDP and Population for each continent"
   ]
  },
  {
   "cell_type": "code",
   "execution_count": null,
   "id": "d38853a7",
   "metadata": {},
   "outputs": [],
   "source": []
  },
  {
   "cell_type": "markdown",
   "id": "025c9d11",
   "metadata": {},
   "source": [
    "g.Show population and life expectancy for all countries "
   ]
  },
  {
   "cell_type": "code",
   "execution_count": null,
   "id": "6c0994d7",
   "metadata": {},
   "outputs": [],
   "source": []
  },
  {
   "cell_type": "markdown",
   "id": "49cc0c72",
   "metadata": {},
   "source": [
    "h.Sort the data by country names (ascending) and GDP (descending)"
   ]
  },
  {
   "cell_type": "code",
   "execution_count": null,
   "id": "247d2be5",
   "metadata": {},
   "outputs": [],
   "source": []
  },
  {
   "cell_type": "markdown",
   "id": "b863e183",
   "metadata": {},
   "source": [
    "i.Find top 20 most populous countries"
   ]
  },
  {
   "cell_type": "code",
   "execution_count": null,
   "id": "3fea58ba",
   "metadata": {},
   "outputs": [],
   "source": []
  },
  {
   "cell_type": "markdown",
   "id": "33628876",
   "metadata": {},
   "source": [
    "j.Delete all rows for a specific country"
   ]
  },
  {
   "cell_type": "code",
   "execution_count": null,
   "id": "5e4fffda",
   "metadata": {},
   "outputs": [],
   "source": []
  },
  {
   "cell_type": "markdown",
   "id": "dd5be71f",
   "metadata": {},
   "source": [
    "k.Change all column names to title case"
   ]
  },
  {
   "cell_type": "code",
   "execution_count": null,
   "id": "9ff88b04",
   "metadata": {},
   "outputs": [],
   "source": []
  },
  {
   "cell_type": "markdown",
   "id": "44f10662",
   "metadata": {},
   "source": [
    "l.Change column names: pop to Population, gdpPercap to GDP_Percap"
   ]
  },
  {
   "cell_type": "code",
   "execution_count": null,
   "id": "4626588d",
   "metadata": {},
   "outputs": [],
   "source": []
  },
  {
   "cell_type": "markdown",
   "id": "3abe9782",
   "metadata": {},
   "source": [
    "m.Increase Life Expectancy by 2 years for all African countries"
   ]
  },
  {
   "cell_type": "code",
   "execution_count": null,
   "id": "cc4481cf",
   "metadata": {},
   "outputs": [],
   "source": []
  },
  {
   "cell_type": "markdown",
   "id": "3183064e",
   "metadata": {},
   "source": [
    "n.Find all the rows that contain NA values"
   ]
  },
  {
   "cell_type": "code",
   "execution_count": null,
   "id": "a0d4963f",
   "metadata": {},
   "outputs": [],
   "source": []
  },
  {
   "cell_type": "markdown",
   "id": "ffe7bcce",
   "metadata": {},
   "source": [
    "o.Fill NA values with 0 for numeric columns"
   ]
  },
  {
   "cell_type": "code",
   "execution_count": null,
   "id": "e0d13f2e",
   "metadata": {},
   "outputs": [],
   "source": []
  }
 ],
 "metadata": {
  "kernelspec": {
   "display_name": "Python 3",
   "language": "python",
   "name": "python3"
  },
  "language_info": {
   "codemirror_mode": {
    "name": "ipython",
    "version": 3
   },
   "file_extension": ".py",
   "mimetype": "text/x-python",
   "name": "python",
   "nbconvert_exporter": "python",
   "pygments_lexer": "ipython3",
   "version": "3.13.7"
  }
 },
 "nbformat": 4,
 "nbformat_minor": 5
}
