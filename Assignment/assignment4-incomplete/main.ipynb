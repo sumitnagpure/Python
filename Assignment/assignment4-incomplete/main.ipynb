{
 "cells": [
  {
   "cell_type": "markdown",
   "id": "2e2a0916",
   "metadata": {},
   "source": [
    "### Assignment 4"
   ]
  },
  {
   "cell_type": "markdown",
   "id": "0184d17a",
   "metadata": {},
   "source": [
    "Q 1. Create a class 'Student' with rollno, studentName, course ,dictionary of marks(subjectName -> marks [5]). Provide following functionalities  \n",
    "A. initializer  \n",
    "B. override __str__ method   \n",
    "C. accept student data  \n",
    "D. Print student data for given id.  \n",
    "E. Print Student who has failed in any subject.   \n",
    "\n",
    "Write menu driven program to test above functionalities.( accept records of 5 students and store those in list)  \n",
    "2. Write a menu driven program to maintain student information. for every student store studetid, sname, and m1,m2,m3 marks for 3 subject. also store gpa in student list, add a function in student class to return GPA of a student  \n",
    " - Calculate GPA()\n",
    "      gpa=(1/3)*m1+(1/2)*m2+(1/4)*m3\n",
    "\n",
    "Create list to store Multiple students.  \n",
    "1. Display All Student\n",
    "2. Search by id\n",
    "3. Search by name\n",
    "4. Calculate GPA of a student\n",
    "5. Exit"
   ]
  },
  {
   "cell_type": "code",
   "execution_count": null,
   "id": "3939ab07",
   "metadata": {},
   "outputs": [],
   "source": [
    "from inspect import _SourceObjectType\n",
    "\n",
    "\n",
    "class Student:\n",
    "    def __init__(self,rollno, studentName, course, marks) -> None:\n",
    "        self.rollno=rollno\n",
    "        self.studentName=studentName\n",
    "        self.course=course\n",
    "        self.marks=marks\n",
    "    def __str__(self) -> str:\n",
    "        return f'Rollno: {self.rollno}, StudentName: {self.studentName}, course: {self.course}, marks: {self.marks}'\n",
    "    def set_student(self,rollno, studentName, course, marks):\n",
    "        try:\n",
    "            self.rollno=int(input(\"Enter RollNo: \"))\n",
    "            self.studentName=input(\"Enter Student Name: \")\n",
    "            self.course=input(\"Enter Course: \")\n",
    "            self.marks={}\n",
    "            for i in range(1,6):\n",
    "                subject = input(f'Enter Subject {i} Name:')\n",
    "                mark=int(input(f'Enter marks for {subject}: '))\n",
    "                self.marks[subject]=mark\n",
    "        except ValueError:  \n",
    "            print(\"❗ Invalid input! Roll No and Marks must be numbers. Data not saved.\")\n",
    "            # Optionally reset data or raise the error\n",
    "            self.rollno = 0 \n",
    "            self.marks = {}\n",
    "    def get_student(self, id):\n",
    "        \n",
    "        return f'Rollno: {self.rollno}, StudentName: {self.studentName}, course: {self.course}, marks: {self.marks}'\n",
    "    \n"
   ]
  },
  {
   "cell_type": "code",
   "execution_count": null,
   "id": "a5c8bcc5",
   "metadata": {},
   "outputs": [],
   "source": []
  },
  {
   "cell_type": "markdown",
   "id": "470907fd",
   "metadata": {},
   "source": [
    "[Missing And Repeating\n",
    "]([https://www.geeksforgeeks.org/problems/find-missing-and-repeating2512/1])\n",
    "\n",
    "Given an unsorted array arr[] of size n, containing elements from the range 1 to n, it is known that one number in this range is missing, and another number occurs twice in the array, find both the duplicate number and the missing number.\n",
    "\n",
    "Examples:\n",
    "\n",
    "Input: arr[] = [2, 2]  \n",
    "Output: [2, 1]  \n",
    "Explanation: Repeating number is 2 and the missing number is 1.  \n",
    "\n",
    "Input: arr[] = [1, 3, 3]   \n",
    "Output: [3, 2]  \n",
    "Explanation: Repeating number is 3 and the missing number is 2.  \n",
    "\n",
    "Input: arr[] = [4, 3, 6, 2, 1, 1]  \n",
    "Output: [1, 5]  \n",
    "Explanation: Repeating number is 1 and the missing number is 5.  \n"
   ]
  },
  {
   "cell_type": "code",
   "execution_count": 42,
   "id": "7790b027",
   "metadata": {},
   "outputs": [
    {
     "data": {
      "text/plain": [
       "(5, 4)"
      ]
     },
     "execution_count": 42,
     "metadata": {},
     "output_type": "execute_result"
    }
   ],
   "source": [
    "def RepeatingAndMissingNumbers(arr):   \n",
    "    n=arr_len=len(arr)\n",
    "    m=0\n",
    "    r=0\n",
    "\n",
    "    s=(n*(n+1))//2 #expected_sum\n",
    "    s2=(n*(n+1)*(2*n+1))//6 #expected_sum_sq\n",
    "    arrs=sum(arr) #arr_sum\n",
    "    arrs2= sum(i**2 for i in arr) #arr_sum_sq\n",
    "    d1=arrs-s\n",
    "    d2=arrs2-s2\n",
    "\n",
    "    m=int(((d2/d1)-d1)//2)\n",
    "    r=int(((d2/d1)+d1)//2)\n",
    "\n",
    "    return (r,m)\n",
    "\n",
    "arr=[1,2,3,5,5,6,7,8,9]\n",
    "RepeatingAndMissingNumbers(arr)"
   ]
  },
  {
   "cell_type": "markdown",
   "id": "bc3583ef",
   "metadata": {},
   "source": [
    "### [Peak element](https://www.geeksforgeeks.org/problems/peak-element/1)\n",
    "\n",
    "You are given an array arr[] where no two adjacent elements are same, find the index of a peak element. An element is considered to be a peak if it is greater than its adjacent elements (if they exist).\n",
    "\n",
    "If there are multiple peak elements, Return index of any one of them. The output will be \"true\" if the index returned by your function is correct; otherwise, it will be \"false\".\n",
    "\n",
    "Note: Consider the element before the first element and the element after the last element to be negative infinity.\n",
    "\n",
    "Examples :  \n",
    "Input: arr = [1, 2, 4, 5, 7, 8, 3]  \n",
    "Output: true  \n",
    "Explanation: arr[5] = 8 is a peak element because arr[4] < arr[5] > arr[6].\n",
    "\n",
    "Input: arr = [10, 20, 15, 2, 23, 90, 80]  \n",
    "Output: true  \n",
    "Explanation: Element 20 at index 1 is a peak since 10 < 20 > 15. Index 5 (value 90) is also a peak, but returning any one peak index is valid."
   ]
  },
  {
   "cell_type": "code",
   "execution_count": 103,
   "id": "146c2b9a",
   "metadata": {},
   "outputs": [],
   "source": [
    "def peak(arr):\n",
    "    n=len(arr)\n",
    "    \n",
    "    # For array size 1\n",
    "    if n==1:\n",
    "        return 0\n",
    "    # if the 1st value is peak\n",
    "    if arr[0]>arr[1]:\n",
    "        return 0\n",
    "    \n",
    "    # if the last value is peak        \n",
    "    if arr[n-1]>arr[n-2]:\n",
    "        return n-1\n",
    "    \n",
    "    # for array size != (1 or 2)\n",
    "    # the iteration should not iterate in the polar elements\n",
    "    # therefore the range(1 to n-1)\n",
    "    iterr=range(1,n-1)\n",
    "    for i in iterr:\n",
    "        # if the element is greater than max of both,\n",
    "        # it will be greater than both of them\n",
    "        if arr[i] > max(arr[i-1], arr[i+1]):\n",
    "            return i"
   ]
  },
  {
   "cell_type": "code",
   "execution_count": 104,
   "id": "1cdf3151",
   "metadata": {},
   "outputs": [
    {
     "data": {
      "text/plain": [
       "0"
      ]
     },
     "execution_count": 104,
     "metadata": {},
     "output_type": "execute_result"
    }
   ],
   "source": [
    "arr=[10, 2, 4, 5, 6, 9, 6]\n",
    "peak(arr)"
   ]
  },
  {
   "cell_type": "code",
   "execution_count": null,
   "id": "ddbce3d1",
   "metadata": {},
   "outputs": [],
   "source": []
  }
 ],
 "metadata": {
  "kernelspec": {
   "display_name": "Python 3",
   "language": "python",
   "name": "python3"
  },
  "language_info": {
   "codemirror_mode": {
    "name": "ipython",
    "version": 3
   },
   "file_extension": ".py",
   "mimetype": "text/x-python",
   "name": "python",
   "nbconvert_exporter": "python",
   "pygments_lexer": "ipython3",
   "version": "3.13.7"
  }
 },
 "nbformat": 4,
 "nbformat_minor": 5
}
