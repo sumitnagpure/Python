{
 "cells": [
  {
   "cell_type": "markdown",
   "id": "2e2a0916",
   "metadata": {},
   "source": [
    "### Assignment 4"
   ]
  },
  {
   "cell_type": "markdown",
   "id": "0184d17a",
   "metadata": {},
   "source": [
    "Q 1. Create a class 'Student' with rollno, studentName, course ,dictionary of\n",
    "marks(subjectName -> marks [5]). Provide following functionalities\n",
    "A. initializer\n",
    "B. override __str__ method\n",
    "C. accept student data\n",
    "D. Print student data for given id.\n",
    "E. Print Student who has failed in any subject. \n",
    "\n",
    "Write menu driven program to test\n",
    "above functionalities.( accept records of 5 students and store those in list )\n",
    "2. Write a menu driven program to maintain student information. for every student\n",
    "store studetid, sname, and m1,m2,m3 marks for 3 subject. also store gpa in\n",
    "student list, add a function in student class to return GPA of a student\n",
    " - Calculate GPA()\n",
    "      gpa=(1/3)*m1+(1/2)*m2+(1/4)*m3\n",
    "\n",
    "Create list to store Multiple students.\n",
    "1. Display All Student\n",
    "2. Search by id\n",
    "3. Search by name\n",
    "4. Calculate GPA of a student\n",
    "5. Exit\n"
   ]
  },
  {
   "cell_type": "code",
   "execution_count": null,
   "id": "3939ab07",
   "metadata": {},
   "outputs": [],
   "source": []
  },
  {
   "cell_type": "code",
   "execution_count": null,
   "id": "a5c8bcc5",
   "metadata": {},
   "outputs": [],
   "source": []
  },
  {
   "cell_type": "markdown",
   "id": "470907fd",
   "metadata": {},
   "source": [
    "[Missing And Repeating\n",
    "]([https://www.geeksforgeeks.org/problems/find-missing-and-repeating2512/1])\n",
    "\n",
    "Given an unsorted array arr[] of size n, containing elements from the range 1 to n, it is known that one number in this range is missing, and another number occurs twice in the array, find both the duplicate number and the missing number.\n",
    "\n",
    "Examples:\n",
    "\n",
    "Input: arr[] = [2, 2]  \n",
    "Output: [2, 1]  \n",
    "Explanation: Repeating number is 2 and the missing number is 1.  \n",
    "\n",
    "Input: arr[] = [1, 3, 3]   \n",
    "Output: [3, 2]  \n",
    "Explanation: Repeating number is 3 and the missing number is 2.  \n",
    "\n",
    "Input: arr[] = [4, 3, 6, 2, 1, 1]  \n",
    "Output: [1, 5]  \n",
    "Explanation: Repeating number is 1 and the missing number is 5.  \n"
   ]
  },
  {
   "cell_type": "code",
   "execution_count": 42,
   "id": "7790b027",
   "metadata": {},
   "outputs": [
    {
     "data": {
      "text/plain": [
       "(5, 4)"
      ]
     },
     "execution_count": 42,
     "metadata": {},
     "output_type": "execute_result"
    }
   ],
   "source": [
    "def RepeatingAndMissingNumbers(arr):   \n",
    "    n=arr_len=len(arr)\n",
    "    m=0\n",
    "    r=0\n",
    "\n",
    "    s=(n*(n+1))//2 #expected_sum\n",
    "    s2=(n*(n+1)*(2*n+1))//6 #expected_sum_sq\n",
    "    arrs=sum(arr) #arr_sum\n",
    "    arrs2= sum(i**2 for i in arr) #arr_sum_sq\n",
    "    d1=arrs-s\n",
    "    d2=arrs2-s2\n",
    "\n",
    "    m=int(((d2/d1)-d1)//2)\n",
    "    r=int(((d2/d1)+d1)//2)\n",
    "\n",
    "    return (r,m)\n",
    "\n",
    "arr=[1,2,3,5,5,6,7,8,9]\n",
    "RepeatingAndMissingNumbers(arr)"
   ]
  },
  {
   "cell_type": "code",
   "execution_count": null,
   "id": "146c2b9a",
   "metadata": {},
   "outputs": [],
   "source": []
  }
 ],
 "metadata": {
  "kernelspec": {
   "display_name": "Python 3",
   "language": "python",
   "name": "python3"
  },
  "language_info": {
   "codemirror_mode": {
    "name": "ipython",
    "version": 3
   },
   "file_extension": ".py",
   "mimetype": "text/x-python",
   "name": "python",
   "nbconvert_exporter": "python",
   "pygments_lexer": "ipython3",
   "version": "3.13.7"
  }
 },
 "nbformat": 4,
 "nbformat_minor": 5
}
