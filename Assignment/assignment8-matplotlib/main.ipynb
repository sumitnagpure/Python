{
 "cells": [
  {
   "cell_type": "markdown",
   "id": "b83b22a7",
   "metadata": {},
   "source": [
    "# Assignment 8"
   ]
  },
  {
   "cell_type": "markdown",
   "id": "1ec7c2e5",
   "metadata": {},
   "source": [
    "Note: use appropriate labels, title and legend for each chart"
   ]
  },
  {
   "cell_type": "code",
   "execution_count": 3,
   "id": "5eb4545a",
   "metadata": {},
   "outputs": [],
   "source": [
    "import matplotlib.pyplot as plt\n",
    "import pandas as pd"
   ]
  },
  {
   "cell_type": "markdown",
   "id": "2aba643c",
   "metadata": {},
   "source": [
    "## Q1. "
   ]
  },
  {
   "cell_type": "code",
   "execution_count": 6,
   "id": "ece6f698",
   "metadata": {},
   "outputs": [
    {
     "data": {
      "text/html": [
       "<div>\n",
       "<style scoped>\n",
       "    .dataframe tbody tr th:only-of-type {\n",
       "        vertical-align: middle;\n",
       "    }\n",
       "\n",
       "    .dataframe tbody tr th {\n",
       "        vertical-align: top;\n",
       "    }\n",
       "\n",
       "    .dataframe thead th {\n",
       "        text-align: right;\n",
       "    }\n",
       "</style>\n",
       "<table border=\"1\" class=\"dataframe\">\n",
       "  <thead>\n",
       "    <tr style=\"text-align: right;\">\n",
       "      <th></th>\n",
       "      <th>Year</th>\n",
       "      <th>Population</th>\n",
       "      <th>Yearly % Change</th>\n",
       "      <th>Yearly Change</th>\n",
       "      <th>Median Age</th>\n",
       "      <th>Fertility Rate</th>\n",
       "      <th>Density</th>\n",
       "      <th>Urban Pop %</th>\n",
       "      <th>Urban Population</th>\n",
       "      <th>Country's Share</th>\n",
       "      <th>World Population</th>\n",
       "    </tr>\n",
       "  </thead>\n",
       "  <tbody>\n",
       "    <tr>\n",
       "      <th>0</th>\n",
       "      <td>1955</td>\n",
       "      <td>387700887</td>\n",
       "      <td>2.29%</td>\n",
       "      <td>8284413</td>\n",
       "      <td>19.7</td>\n",
       "      <td>5.91</td>\n",
       "      <td>130</td>\n",
       "      <td>18.60%</td>\n",
       "      <td>71958495</td>\n",
       "      <td>14.15%</td>\n",
       "      <td>2740213792</td>\n",
       "    </tr>\n",
       "    <tr>\n",
       "      <th>1</th>\n",
       "      <td>1960</td>\n",
       "      <td>435990338</td>\n",
       "      <td>2.38%</td>\n",
       "      <td>9657890</td>\n",
       "      <td>19.2</td>\n",
       "      <td>5.92</td>\n",
       "      <td>147</td>\n",
       "      <td>18.50%</td>\n",
       "      <td>80565723</td>\n",
       "      <td>14.46%</td>\n",
       "      <td>3015470894</td>\n",
       "    </tr>\n",
       "    <tr>\n",
       "      <th>2</th>\n",
       "      <td>1965</td>\n",
       "      <td>490140146</td>\n",
       "      <td>2.37%</td>\n",
       "      <td>10829962</td>\n",
       "      <td>18.5</td>\n",
       "      <td>5.94</td>\n",
       "      <td>165</td>\n",
       "      <td>19.10%</td>\n",
       "      <td>93493844</td>\n",
       "      <td>14.70%</td>\n",
       "      <td>3334533703</td>\n",
       "    </tr>\n",
       "    <tr>\n",
       "      <th>3</th>\n",
       "      <td>1970</td>\n",
       "      <td>545864268</td>\n",
       "      <td>2.18%</td>\n",
       "      <td>11144824</td>\n",
       "      <td>18.1</td>\n",
       "      <td>5.62</td>\n",
       "      <td>184</td>\n",
       "      <td>20.00%</td>\n",
       "      <td>109388950</td>\n",
       "      <td>14.77%</td>\n",
       "      <td>3694683794</td>\n",
       "    </tr>\n",
       "    <tr>\n",
       "      <th>4</th>\n",
       "      <td>1975</td>\n",
       "      <td>611309535</td>\n",
       "      <td>2.29%</td>\n",
       "      <td>13089053</td>\n",
       "      <td>18.4</td>\n",
       "      <td>5.20</td>\n",
       "      <td>206</td>\n",
       "      <td>21.70%</td>\n",
       "      <td>132533810</td>\n",
       "      <td>15.02%</td>\n",
       "      <td>4070735277</td>\n",
       "    </tr>\n",
       "  </tbody>\n",
       "</table>\n",
       "</div>"
      ],
      "text/plain": [
       "   Year  Population Yearly % Change  Yearly Change  Median Age  \\\n",
       "0  1955   387700887           2.29%        8284413        19.7   \n",
       "1  1960   435990338           2.38%        9657890        19.2   \n",
       "2  1965   490140146           2.37%       10829962        18.5   \n",
       "3  1970   545864268           2.18%       11144824        18.1   \n",
       "4  1975   611309535           2.29%       13089053        18.4   \n",
       "\n",
       "   Fertility Rate  Density Urban Pop %  Urban Population Country's Share  \\\n",
       "0            5.91      130      18.60%          71958495          14.15%   \n",
       "1            5.92      147      18.50%          80565723          14.46%   \n",
       "2            5.94      165      19.10%          93493844          14.70%   \n",
       "3            5.62      184      20.00%         109388950          14.77%   \n",
       "4            5.20      206      21.70%         132533810          15.02%   \n",
       "\n",
       "   World Population  \n",
       "0        2740213792  \n",
       "1        3015470894  \n",
       "2        3334533703  \n",
       "3        3694683794  \n",
       "4        4070735277  "
      ]
     },
     "execution_count": 6,
     "metadata": {},
     "output_type": "execute_result"
    }
   ],
   "source": [
    "pop_df=pd.read_csv('Population.csv')\n",
    "pop_df.head()"
   ]
  },
  {
   "cell_type": "markdown",
   "id": "e45f5ca7",
   "metadata": {},
   "source": [
    "Draw line & bar charts to show urban and rural population of India over the years using population.csv [rural population is the difference between total population and urban population][For bar chart consider 8 yrs data]"
   ]
  },
  {
   "cell_type": "code",
   "execution_count": null,
   "id": "b5ccca59",
   "metadata": {},
   "outputs": [],
   "source": []
  },
  {
   "cell_type": "markdown",
   "id": "a214858b",
   "metadata": {},
   "source": [
    "## Q2."
   ]
  },
  {
   "cell_type": "markdown",
   "id": "fc0b1567",
   "metadata": {},
   "source": [
    "Using gapminder.csv show life expectancy of top 10 highly populated countries from Asia"
   ]
  },
  {
   "cell_type": "code",
   "execution_count": null,
   "id": "8551cf8b",
   "metadata": {},
   "outputs": [],
   "source": []
  },
  {
   "cell_type": "markdown",
   "id": "b7d9e8e5",
   "metadata": {},
   "source": [
    "## Q3."
   ]
  },
  {
   "cell_type": "markdown",
   "id": "29c3ccf8",
   "metadata": {},
   "source": [
    "Using a pie chart show distribution of top six selling cars [Create data as required]"
   ]
  },
  {
   "cell_type": "code",
   "execution_count": null,
   "id": "7ac08bc4",
   "metadata": {},
   "outputs": [],
   "source": []
  },
  {
   "cell_type": "markdown",
   "id": "4fea325e",
   "metadata": {},
   "source": [
    "## Q4."
   ]
  },
  {
   "cell_type": "markdown",
   "id": "627ce71a",
   "metadata": {},
   "source": [
    "Using Histogram show distribution of developers by their experience [use survey_data_sample.csv]"
   ]
  },
  {
   "cell_type": "code",
   "execution_count": null,
   "id": "7f1ff079",
   "metadata": {},
   "outputs": [],
   "source": []
  }
 ],
 "metadata": {
  "kernelspec": {
   "display_name": "Python 3",
   "language": "python",
   "name": "python3"
  },
  "language_info": {
   "codemirror_mode": {
    "name": "ipython",
    "version": 3
   },
   "file_extension": ".py",
   "mimetype": "text/x-python",
   "name": "python",
   "nbconvert_exporter": "python",
   "pygments_lexer": "ipython3",
   "version": "3.13.7"
  }
 },
 "nbformat": 4,
 "nbformat_minor": 5
}
