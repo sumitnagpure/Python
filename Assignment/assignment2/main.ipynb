{
 "cells": [
  {
   "cell_type": "markdown",
   "id": "66f624c6",
   "metadata": {},
   "source": [
    "Q. 1. Check if all letters in a string are uppercase"
   ]
  },
  {
   "cell_type": "code",
   "execution_count": 12,
   "id": "cbf4c932",
   "metadata": {},
   "outputs": [
    {
     "name": "stdout",
     "output_type": "stream",
     "text": [
      "lower case character found for 'AbC'\n",
      "all characters in upper case for 'ABC'\n"
     ]
    }
   ],
   "source": [
    "str1='AbC'\n",
    "str2='ABC'\n",
    "list1=[str1,str2]\n",
    "for i in list1:\n",
    "    for j in i:\n",
    "        if j.islower():\n",
    "            print(f'lower case character found for \\'{i}\\'')\n",
    "            break\n",
    "    else:\n",
    "        print(f'all characters in upper case for \\'{i}\\'')\n"
   ]
  },
  {
   "cell_type": "markdown",
   "id": "9ced5767",
   "metadata": {},
   "source": [
    "Q. 2. Write a version of a palindrome recognizer that also accepts phrase palindromes such as : Was it a rat I saw? or Dammit, I'm mad!  \n",
    "Note that punctuation, capitalization, and spacing are usually ignored."
   ]
  },
  {
   "cell_type": "code",
   "execution_count": 27,
   "id": "466994b5",
   "metadata": {},
   "outputs": [
    {
     "name": "stdout",
     "output_type": "stream",
     "text": [
      "'Was it a rat I saw?' is a palindrome.\n",
      "'Dammit, I'm mad!' is a palindrome.\n",
      "'Not a palindrome! is not a palindrome.\n"
     ]
    }
   ],
   "source": [
    "import re\n",
    "\n",
    "def is_palindrome(text: str):\n",
    "    normalized_text = re.sub(r'[^a-z0-9]', '', text.lower())\n",
    "    if normalized_text == normalized_text[::-1]:\n",
    "        print(f\"'{text}' is a palindrome.\")\n",
    "    else:\n",
    "        print(f\"'{text} is not a palindrome.\")\n",
    "\n",
    "phrase1 = \"Was it a rat I saw?\"\n",
    "is_palindrome(phrase1)\n",
    "phrase2 = \"Dammit, I'm mad!\"\n",
    "is_palindrome(phrase2)\n",
    "phrase3 = \"Not a palindrome!\"\n",
    "is_palindrome(phrase3)"
   ]
  },
  {
   "cell_type": "markdown",
   "id": "10ba5e42",
   "metadata": {},
   "source": [
    "Q.3.  Write a Python function that takes a list of words and returns the length of the longest one"
   ]
  },
  {
   "cell_type": "code",
   "execution_count": 17,
   "id": "1d0bcd52",
   "metadata": {},
   "outputs": [
    {
     "data": {
      "text/plain": [
       "5"
      ]
     },
     "execution_count": 17,
     "metadata": {},
     "output_type": "execute_result"
    }
   ],
   "source": [
    "list=['one','two','three','four']\n",
    "\n",
    "def max_length(list):\n",
    "    list_length=[]\n",
    "    for i in list:\n",
    "        list_length.append(len(i))\n",
    "    return max(list_length)\n",
    "\n",
    "max_length(list)"
   ]
  },
  {
   "cell_type": "markdown",
   "id": "bd7f0c59",
   "metadata": {},
   "source": [
    "Q.4. Write a Python program to remove duplicates from a list"
   ]
  },
  {
   "cell_type": "code",
   "execution_count": 32,
   "id": "9682eab3",
   "metadata": {},
   "outputs": [
    {
     "name": "stdout",
     "output_type": "stream",
     "text": [
      "Original list: [1, 2, 2, 3, 4, 4, 5, 6, 6, 6]\n",
      "List without duplicates: [1, 2, 3, 4, 5, 6]\n"
     ]
    }
   ],
   "source": [
    "def remove_duplicates(input_list):\n",
    "    seen = set()\n",
    "    \n",
    "    for i in range(len(input_list) - 1, -1, -1):\n",
    "        item = input_list[i]\n",
    "        \n",
    "        if item in seen:\n",
    "            del input_list[i]\n",
    "        else:\n",
    "            seen.add(item)\n",
    "            \n",
    "    return input_list\n",
    "\n",
    "my_list = [1, 2, 2, 3, 4, 4, 5, 6, 6, 6]\n",
    "print(f\"Original list: {my_list}\")\n",
    "unique_list = remove_duplicates(my_list)\n",
    "print(f\"List without duplicates: {unique_list}\")"
   ]
  },
  {
   "cell_type": "code",
   "execution_count": null,
   "id": "301ddff5",
   "metadata": {},
   "outputs": [
    {
     "data": {
      "text/plain": [
       "['Tomato', 'Banana', 'Apple']"
      ]
     },
     "execution_count": 13,
     "metadata": {},
     "output_type": "execute_result"
    }
   ],
   "source": [
    "list_with_duplicates=['Apple', 'Banana', 'Tomato', 'Apple']\n",
    "set1=set(list_with_duplicates)\n",
    "list_without_duplicates=list(set1)\n",
    "list_without_duplicates\n"
   ]
  },
  {
   "cell_type": "markdown",
   "id": "232ec399",
   "metadata": {},
   "source": [
    "Q 5. Create a list of books \n",
    "e.g. booklist =[['Java 8', 700], ['Python for Beginners', 500],....]  \n",
    "Perform following operations on the list  \n",
    "1. Add a new book with price  \n",
    "2. Remove entry for a book  \n",
    "3. update price for a book   \n",
    "4. Sort the list by book names   \n",
    "5. Sort the list by prices   \n",
    "6. Print the book with max and min price [hint : you may use min()/max() functions of python]  "
   ]
  },
  {
   "cell_type": "code",
   "execution_count": 36,
   "id": "74690d15",
   "metadata": {},
   "outputs": [],
   "source": [
    "import pprint"
   ]
  },
  {
   "cell_type": "code",
   "execution_count": 41,
   "id": "deed0392",
   "metadata": {},
   "outputs": [
    {
     "name": "stdout",
     "output_type": "stream",
     "text": [
      "### 1. Add a new book ###\n",
      "Added new book: ['Clean Code', 900]\n",
      "(\"Current book list: [['Java 8', 700], ['Python for Beginners', 500], ['Data \"\n",
      " \"Structures in C++', 850], ['The Alchemist', 300], ['Machine Learning with \"\n",
      " \"Python', 1200], ['Clean Code', 900]]\")\n",
      "------------------------------\n",
      "\n",
      "### 2. Remove an entry for a book ###\n",
      "Removed 'The Alchemist' from the list.\n",
      "(\"Current book list: [['Java 8', 700], ['Python for Beginners', 500], ['Data \"\n",
      " \"Structures in C++', 850], ['Machine Learning with Python', 1200], ['Clean \"\n",
      " \"Code', 900]]\")\n",
      "------------------------------\n",
      "\n",
      "### 3. Update the price for a book ###\n",
      "Updated price for 'Java 8' to 750.\n",
      "(\"Current book list: [['Java 8', 750], ['Python for Beginners', 500], ['Data \"\n",
      " \"Structures in C++', 850], ['Machine Learning with Python', 1200], ['Clean \"\n",
      " \"Code', 900]]\")\n",
      "------------------------------\n"
     ]
    }
   ],
   "source": [
    "# Create the initial book list with additional entries\n",
    "booklist = [\n",
    "    ['Java 8', 700],\n",
    "    ['Python for Beginners', 500],\n",
    "    ['Data Structures in C++', 850],\n",
    "    ['The Alchemist', 300],\n",
    "    ['Machine Learning with Python', 1200]\n",
    "]\n",
    "\n",
    "# 1. Add a new book with price\n",
    "print(\"### 1. Add a new book ###\")\n",
    "new_book = ['Clean Code', 900]\n",
    "booklist.append(new_book)\n",
    "print(f\"Added new book: {new_book}\")\n",
    "pprint.pprint(f\"Current book list: {booklist}\")\n",
    "print(\"-\" * 30)\n",
    "\n",
    "# 2. Remove entry for a book\n",
    "print(\"\\n### 2. Remove an entry for a book ###\")\n",
    "book_to_remove = 'The Alchemist'\n",
    "initial_length = len(booklist)\n",
    "booklist = [book for book in booklist if book[0] != book_to_remove]\n",
    "if len(booklist) < initial_length:\n",
    "    print(f\"Removed '{book_to_remove}' from the list.\")\n",
    "else:\n",
    "    print(f\"Book '{book_to_remove}' not found.\")\n",
    "pprint.pprint(f\"Current book list: {booklist}\")\n",
    "print(\"-\" * 30)\n",
    "\n",
    "# 3. Update price for a book\n",
    "print(\"\\n### 3. Update the price for a book ###\")\n",
    "book_to_update = 'Java 8'\n",
    "new_price = 750\n",
    "found = False\n",
    "for book in booklist:\n",
    "    if book[0] == book_to_update:\n",
    "        book[1] = new_price\n",
    "        found = True\n",
    "        print(f\"Updated price for '{book_to_update}' to {new_price}.\")\n",
    "        break\n",
    "if not found:\n",
    "    print(f\"Book '{book_to_update}' not found.\")\n",
    "pprint.pprint(f\"Current book list: {booklist}\")\n",
    "print(\"-\" * 30)"
   ]
  },
  {
   "cell_type": "code",
   "execution_count": 42,
   "id": "eddb85aa",
   "metadata": {},
   "outputs": [
    {
     "name": "stdout",
     "output_type": "stream",
     "text": [
      "\n",
      "### 4. Sort the list by book names ###\n",
      "Sorted list by book names:\n",
      "['Clean Code', 900]\n",
      "['Data Structures in C++', 850]\n",
      "['Java 8', 750]\n",
      "['Machine Learning with Python', 1200]\n",
      "['Python for Beginners', 500]\n",
      "------------------------------\n"
     ]
    }
   ],
   "source": [
    "\n",
    "# 4. Sort the list by book names\n",
    "print(\"\\n### 4. Sort the list by book names ###\")\n",
    "booklist.sort(key=lambda book: book[0])\n",
    "print(\"Sorted list by book names:\")\n",
    "for book in booklist:\n",
    "    print(book)\n",
    "print(\"-\" * 30)"
   ]
  },
  {
   "cell_type": "code",
   "execution_count": 43,
   "id": "36417a4b",
   "metadata": {},
   "outputs": [
    {
     "name": "stdout",
     "output_type": "stream",
     "text": [
      "\n",
      "### 5. Sort the list by prices ###\n",
      "Sorted list by prices:\n",
      "['Python for Beginners', 500]\n",
      "['Java 8', 750]\n",
      "['Data Structures in C++', 850]\n",
      "['Clean Code', 900]\n",
      "['Machine Learning with Python', 1200]\n",
      "------------------------------\n",
      "\n",
      "### 6. Book with max and min price ###\n",
      "Book with minimum price: Python for Beginners (Price: 500)\n",
      "Book with maximum price: Machine Learning with Python (Price: 1200)\n"
     ]
    }
   ],
   "source": [
    "\n",
    "# 5. Sort the list by prices\n",
    "print(\"\\n### 5. Sort the list by prices ###\")\n",
    "booklist.sort(key=lambda book: book[1])\n",
    "print(\"Sorted list by prices:\")\n",
    "for book in booklist:\n",
    "    print(book)\n",
    "print(\"-\" * 30)\n",
    "\n",
    "# 6. Print the book with max and min price\n",
    "print(\"\\n### 6. Book with max and min price ###\")\n",
    "min_book = min(booklist, key=lambda book: book[1])\n",
    "max_book = max(booklist, key=lambda book: book[1])\n",
    "print(f\"Book with minimum price: {min_book[0]} (Price: {min_book[1]})\")\n",
    "print(f\"Book with maximum price: {max_book[0]} (Price: {max_book[1]})\")"
   ]
  },
  {
   "cell_type": "markdown",
   "id": "5e4a3a74",
   "metadata": {},
   "source": [
    "Q.6. Write a Python program to compute element-wise sum of given tuples, using “zip()” function\n",
    "Original tuples:  \n",
    "(1, 2, 3, 4)  \n",
    "(3, 5, 2, 1)  \n",
    "(2, 2, 3, 1)  \n",
    "Element-wise sum of the said tuples:  \n",
    "(6, 9, 8, 6)  "
   ]
  },
  {
   "cell_type": "code",
   "execution_count": 2,
   "id": "e280c06b",
   "metadata": {},
   "outputs": [
    {
     "data": {
      "text/plain": [
       "(6, 9, 8, 6)"
      ]
     },
     "execution_count": 2,
     "metadata": {},
     "output_type": "execute_result"
    }
   ],
   "source": [
    "t1=(1, 2, 3, 4)\n",
    "t2=(3, 5, 2, 1)\n",
    "t3=(2, 2, 3, 1)\n",
    "\n",
    "list_of_tuples=[t1,t2,t3]\n",
    "sum_of_tuples=tuple(sum(element) for element in zip(*list_of_tuples))\n",
    "sum_of_tuples"
   ]
  },
  {
   "cell_type": "markdown",
   "id": "8b9d87cf",
   "metadata": {},
   "source": [
    "Q.7 In cryptography, a Caesar cipher is a very simple encryption techniques in which each letter in the plain text is replaced by a letter some fixed number of positions down the alphabet. For example, with a shift of 3, A would be replaced by D, B would become E, and so on. Create a cipher to represent each key with corresponding value as :  \n",
    "\n",
    "{'a': 'd', 'b': 'e', 'c': 'f', 'd': 'g', 'e': 'h', 'f': 'i', 'g': 'j', 'h': 'k', 'i': 'l', 'j': 'm', 'k': 'n', 'l': 'o', 'm': 'p',  \n",
    "'n': 'q', 'o': 'r', 'p': 's', 'q': 't', 'r': 'u', 's': 'v', 't': 'w',  'u': 'x', 'v': 'y', 'w': 'z', 'x': 'a', 'y': 'b', 'z': 'c'}\n",
    "\n",
    "encrypted = 'nbrkrq'  \n",
    "Expected output : decrypted = python  "
   ]
  },
  {
   "cell_type": "code",
   "execution_count": 12,
   "id": "b51ffecd",
   "metadata": {},
   "outputs": [
    {
     "name": "stdout",
     "output_type": "stream",
     "text": [
      "encrypted = 'nbrkrq'\n",
      "decrypted = qeunut\n"
     ]
    }
   ],
   "source": [
    "encrypted='nbrkrq'\n",
    "decrypted=[]\n",
    "\n",
    "def decrypt(encrypted):\n",
    "    cipher={'a': 'd', 'b': 'e', 'c': 'f','d': 'g', 'e': 'h', 'f': 'i', 'g': 'j', 'h': 'k', 'i': 'l', 'j': 'm','k': 'n', 'l': 'o', 'm': 'p',\n",
    "        'n': 'q', 'o': 'r', 'p': 's','q': 't', 'r': 'u', 's': 'v', 't': 'w', 'u': 'x', 'v': 'y', 'w': 'z','x': 'a', 'y': 'b', 'z': 'c'}\n",
    "    for i in encrypted:\n",
    "        decrypted.append(cipher[i])\n",
    "    print(f'encrypted = \\'{encrypted}\\'')\n",
    "    print(f'decrypted = {''.join(decrypted)}')\n",
    "\n",
    "decrypt(encrypted)"
   ]
  },
  {
   "cell_type": "markdown",
   "id": "05a0248a",
   "metadata": {},
   "source": [
    "Q.8 For a given dictionary [Add few more entries]  \n",
    "\n",
    "employees = {'Amol' : ['C', 'C++','Java'],.....}  \n",
    "\n",
    "1. print employees and their skill sets  \n",
    "2. Find all the employees who know Java  \n",
    "3. Update skill for an employee  \n",
    "4. Add/remove employee data\n",
    " "
   ]
  },
  {
   "cell_type": "code",
   "execution_count": 34,
   "id": "0a7046d3",
   "metadata": {},
   "outputs": [
    {
     "name": "stdout",
     "output_type": "stream",
     "text": [
      "### 1. Employee Skill Sets ###\n",
      "Amol: C, C++, Java\n",
      "Bhavana: Python, SQL, Java\n",
      "Chirag: JavaScript, HTML, CSS\n",
      "Diya: Python, Data Science\n",
      "Eshaan: Java, Spring, Hibernate\n",
      "------------------------------\n",
      "\n",
      "### 2. Employees who know Java ###\n",
      "Employees who know Java: Amol, Bhavana, Eshaan\n",
      "------------------------------\n",
      "\n",
      "### 3. Updating a skill for an employee ###\n",
      "Added 'Python' to Amol's skills.\n",
      "Updated skills for Amol: ['C', 'C++', 'Java', 'Python']\n",
      "------------------------------\n",
      "\n",
      "### 4. Adding/Removing employee data ###\n",
      "Added new employee: Farah with skills ['DevOps', 'Cloud']\n",
      "Removed employee: Chirag\n"
     ]
    }
   ],
   "source": [
    "employees = {\n",
    "    'Amol': ['C', 'C++', 'Java'],\n",
    "    'Bhavana': ['Python', 'SQL', 'Java'],\n",
    "    'Chirag': ['JavaScript', 'HTML', 'CSS'],\n",
    "    'Diya': ['Python', 'Data Science'],\n",
    "    'Eshaan': ['Java', 'Spring', 'Hibernate']\n",
    "}\n",
    "\n",
    "# 1. Print employees and their skill sets\n",
    "print(\"### 1. Employee Skill Sets ###\")\n",
    "for employee, skills in employees.items():\n",
    "    print(f\"{employee}: {', '.join(skills)}\")\n",
    "print(\"-\" * 30)\n",
    "\n",
    "# 2. Find all the employees who know Java\n",
    "print(\"\\n### 2. Employees who know Java ###\")\n",
    "java_employees = []\n",
    "for employee, skills in employees.items():\n",
    "    if 'Java' in skills:\n",
    "        java_employees.append(employee)\n",
    "print(\"Employees who know Java:\", ', '.join(java_employees))\n",
    "print(\"-\" * 30)\n",
    "\n",
    "# 3. Update skill for an employee\n",
    "print(\"\\n### 3. Updating a skill for an employee ###\")\n",
    "employee_to_update = 'Amol'\n",
    "new_skill = 'Python'\n",
    "if employee_to_update in employees:\n",
    "    if new_skill not in employees[employee_to_update]:\n",
    "        employees[employee_to_update].append(new_skill)\n",
    "        print(f\"Added '{new_skill}' to {employee_to_update}'s skills.\")\n",
    "    else:\n",
    "        print(f\"{employee_to_update} already knows '{new_skill}'.\")\n",
    "print(f\"Updated skills for {employee_to_update}: {employees[employee_to_update]}\")\n",
    "print(\"-\" * 30)\n",
    "\n",
    "# 4. Add/remove employee data\n",
    "print(\"\\n### 4. Adding/Removing employee data ###\")\n",
    "\n",
    "# Add a new employee\n",
    "new_employee = 'Farah'\n",
    "new_skills = ['DevOps', 'Cloud']\n",
    "employees[new_employee] = new_skills\n",
    "print(f\"Added new employee: {new_employee} with skills {new_skills}\")\n",
    "\n",
    "# Remove an employee\n",
    "employee_to_remove = 'Chirag'\n",
    "if employee_to_remove in employees:\n",
    "    del employees[employee_to_remove]\n",
    "    print(f\"Removed employee: {employee_to_remove}\")\n",
    "else:\n",
    "    print(f\"Employee {employee_to_remove} not found.\")\n"
   ]
  },
  {
   "cell_type": "markdown",
   "id": "a566df60",
   "metadata": {},
   "source": [
    "9. Missing Number in Array(GeekforGeeks)"
   ]
  },
  {
   "cell_type": "code",
   "execution_count": 31,
   "id": "08f4ea5e",
   "metadata": {},
   "outputs": [],
   "source": [
    "arr=[1,2,3,4,5,7]\n",
    "n=len(arr)+1\n",
    "expected_sum= (n*(n+1))//2\n",
    "\n",
    "actual_sum=sum(arr)\n",
    "number=actual_sum-expected_sum\n",
    "\n",
    "\n",
    "\n",
    "# print(expected_arr-arr)\n"
   ]
  },
  {
   "cell_type": "code",
   "execution_count": 44,
   "id": "758b9e2e",
   "metadata": {},
   "outputs": [
    {
     "data": {
      "text/plain": [
       "5"
      ]
     },
     "execution_count": 44,
     "metadata": {},
     "output_type": "execute_result"
    }
   ],
   "source": [
    "def second_largest(arr):\n",
    "    if len(arr) < 2:\n",
    "        return -1\n",
    "\n",
    "    first = -1\n",
    "    second = -1\n",
    "\n",
    "    for num in arr:\n",
    "        if num > first:\n",
    "            second = first\n",
    "            first = num\n",
    "        elif num > second and num < first:\n",
    "            second = num\n",
    "\n",
    "    if second == -1:\n",
    "        return -1\n",
    "    else:\n",
    "        return second\n",
    "second_largest([1,2,3,4,5,6])"
   ]
  },
  {
   "cell_type": "code",
   "execution_count": null,
   "id": "f566a0c3",
   "metadata": {},
   "outputs": [],
   "source": []
  }
 ],
 "metadata": {
  "kernelspec": {
   "display_name": "Python 3",
   "language": "python",
   "name": "python3"
  },
  "language_info": {
   "codemirror_mode": {
    "name": "ipython",
    "version": 3
   },
   "file_extension": ".py",
   "mimetype": "text/x-python",
   "name": "python",
   "nbconvert_exporter": "python",
   "pygments_lexer": "ipython3",
   "version": "3.13.7"
  }
 },
 "nbformat": 4,
 "nbformat_minor": 5
}
