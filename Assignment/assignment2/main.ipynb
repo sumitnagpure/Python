{
 "cells": [
  {
   "cell_type": "markdown",
   "id": "66f624c6",
   "metadata": {},
   "source": [
    "Q. 1. Check if all letters in a string are uppercase"
   ]
  },
  {
   "cell_type": "code",
   "execution_count": 12,
   "id": "cbf4c932",
   "metadata": {},
   "outputs": [
    {
     "name": "stdout",
     "output_type": "stream",
     "text": [
      "lower case character found for 'AbC'\n",
      "all characters in upper case for 'ABC'\n"
     ]
    }
   ],
   "source": [
    "str1='AbC'\n",
    "str2='ABC'\n",
    "list1=[str1,str2]\n",
    "for i in list1:\n",
    "    for j in i:\n",
    "        if j.islower():\n",
    "            print(f'lower case character found for \\'{i}\\'')\n",
    "            break\n",
    "    else:\n",
    "        print(f'all characters in upper case for \\'{i}\\'')\n"
   ]
  },
  {
   "cell_type": "markdown",
   "id": "9ced5767",
   "metadata": {},
   "source": [
    "Q. 2. Write a version of a palindrome recognizer that also accepts phrase palindromes such as : Was it a rat I saw? or Dammit, I'm mad!  \n",
    "Note that punctuation, capitalization, and spacing are usually ignored."
   ]
  },
  {
   "cell_type": "code",
   "execution_count": null,
   "id": "466994b5",
   "metadata": {},
   "outputs": [],
   "source": []
  },
  {
   "cell_type": "markdown",
   "id": "10ba5e42",
   "metadata": {},
   "source": [
    "Q.3.  Write a Python function that takes a list of words and returns the length of the longest one"
   ]
  },
  {
   "cell_type": "code",
   "execution_count": 21,
   "id": "1d0bcd52",
   "metadata": {},
   "outputs": [
    {
     "data": {
      "text/plain": [
       "5"
      ]
     },
     "execution_count": 21,
     "metadata": {},
     "output_type": "execute_result"
    }
   ],
   "source": [
    "list=['one','two','three','four']\n",
    "\n",
    "def max_length(list):\n",
    "    list_length=[]\n",
    "    for i in list:\n",
    "        list_length.append(len(i))\n",
    "    return max(list_length)\n",
    "\n",
    "max_length(list)"
   ]
  },
  {
   "cell_type": "markdown",
   "id": "bd7f0c59",
   "metadata": {},
   "source": [
    "Q.4. Write a Python program to remove duplicates from a list"
   ]
  },
  {
   "cell_type": "code",
   "execution_count": null,
   "id": "301ddff5",
   "metadata": {},
   "outputs": [
    {
     "data": {
      "text/plain": [
       "['Apple', 'Tomato', 'Banana']"
      ]
     },
     "execution_count": 1,
     "metadata": {},
     "output_type": "execute_result"
    }
   ],
   "source": [
    "ls=['Apple', 'Banana', 'Tomato', 'Apple']\n",
    "\n",
    "\n",
    "set1=set(ls)\n",
    "lss=list(set1)\n",
    "\n",
    "# for i in range(0,len(ls)):\n",
    "#     print(i)\n",
    "#     print(ls[i])\n",
    "    # if ls[i] in ls:\n",
    "    #     ls.pop(i)\n",
    "lss\n"
   ]
  },
  {
   "cell_type": "markdown",
   "id": "5e4a3a74",
   "metadata": {},
   "source": [
    "Q.5. Write a Python program to compute element-wise sum of given tuples, using “zip()” function\n",
    "Original tuples:  \n",
    "(1, 2, 3, 4)  \n",
    "(3, 5, 2, 1)  \n",
    "(2, 2, 3, 1)  \n",
    "Element-wise sum of the said tuples:  \n",
    "(6, 9, 8, 6)  \n"
   ]
  },
  {
   "cell_type": "code",
   "execution_count": null,
   "id": "e280c06b",
   "metadata": {},
   "outputs": [],
   "source": []
  },
  {
   "cell_type": "markdown",
   "id": "8b9d87cf",
   "metadata": {},
   "source": [
    "Q.6 In cryptography, a Caesar cipher is a very simple encryption techniques in which each letter in the plain text is replaced by a letter some fixed number of positions down the alphabet. For example, with a shift of 3, A would be replaced by D, B would become E, and so on. Create a cipher to represent each key with corresponding value as :  \n",
    "\n",
    "{'a': 'd', 'b': 'e', 'c': 'f', 'd': 'g', 'e': 'h', 'f': 'i', 'g': 'j', 'h': 'k', 'i': 'l', 'j': 'm', 'k': 'n', 'l': 'o', 'm': 'p', 'n': 'q', 'o': 'r', 'p': 's', 'q': 't', 'r': 'u', 's': 'v', 't': 'w', 'u': 'x', 'v': 'y', 'w': 'z', 'x': 'a', 'y': 'b', 'z': 'c'}\n",
    "\n",
    "encrypted = 'nbrkrq'  \n",
    "Expected output : decrypted = python  "
   ]
  },
  {
   "cell_type": "code",
   "execution_count": null,
   "id": "020474b1",
   "metadata": {},
   "outputs": [],
   "source": []
  },
  {
   "cell_type": "markdown",
   "id": "05a0248a",
   "metadata": {},
   "source": [
    "Q.7 For a given dictionary [Add few more entries]  \n",
    "\n",
    "employees = {'Amol' : ['C', 'C++','Java'],.....}  \n",
    "\n",
    "1. print employees and their skill sets  \n",
    "2. Find all the employees who know Java  \n",
    "3. Update skill for an employee  \n",
    "4. Add/remove employee data\n",
    " "
   ]
  },
  {
   "cell_type": "code",
   "execution_count": null,
   "id": "0a7046d3",
   "metadata": {},
   "outputs": [],
   "source": []
  }
 ],
 "metadata": {
  "kernelspec": {
   "display_name": "Python 3",
   "language": "python",
   "name": "python3"
  },
  "language_info": {
   "codemirror_mode": {
    "name": "ipython",
    "version": 3
   },
   "file_extension": ".py",
   "mimetype": "text/x-python",
   "name": "python",
   "nbconvert_exporter": "python",
   "pygments_lexer": "ipython3",
   "version": "3.13.7"
  }
 },
 "nbformat": 4,
 "nbformat_minor": 5
}
