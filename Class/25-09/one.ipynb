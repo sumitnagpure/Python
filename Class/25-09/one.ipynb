{
 "cells": [
  {
   "cell_type": "markdown",
   "id": "3bf7a9e2",
   "metadata": {},
   "source": [
    "### Data-types"
   ]
  },
  {
   "cell_type": "markdown",
   "id": "7d3c1f47",
   "metadata": {},
   "source": []
  },
  {
   "cell_type": "code",
   "execution_count": 9,
   "id": "ed3e25db",
   "metadata": {},
   "outputs": [
    {
     "name": "stdout",
     "output_type": "stream",
     "text": [
      "type:  <class 'int'>\n",
      "id:  140707678876872\n",
      "value:  10\n"
     ]
    }
   ],
   "source": [
    "i=10\n",
    "print(\"type: \",type(i))\n",
    "print(\"id: \",id(i))\n",
    "print(\"value: \",i)"
   ]
  },
  {
   "cell_type": "code",
   "execution_count": 6,
   "id": "29ede661",
   "metadata": {},
   "outputs": [
    {
     "name": "stdout",
     "output_type": "stream",
     "text": [
      "140707678876872\n"
     ]
    }
   ],
   "source": [
    "j=10\n",
    "print(id(j))"
   ]
  },
  {
   "cell_type": "code",
   "execution_count": 10,
   "id": "039126c9",
   "metadata": {},
   "outputs": [
    {
     "name": "stdout",
     "output_type": "stream",
     "text": [
      "True\n"
     ]
    }
   ],
   "source": [
    "print(i==j) #both var have values"
   ]
  },
  {
   "cell_type": "code",
   "execution_count": 12,
   "id": "b91f480b",
   "metadata": {},
   "outputs": [
    {
     "name": "stdout",
     "output_type": "stream",
     "text": [
      "True\n"
     ]
    }
   ],
   "source": [
    "print(i is j) #refer to the same object location"
   ]
  },
  {
   "cell_type": "markdown",
   "id": "74dd6100",
   "metadata": {},
   "source": [
    "### Float"
   ]
  },
  {
   "cell_type": "code",
   "execution_count": 13,
   "id": "a78774d4",
   "metadata": {},
   "outputs": [
    {
     "name": "stdout",
     "output_type": "stream",
     "text": [
      "type:  <class 'float'>\n"
     ]
    }
   ],
   "source": [
    "k=2.23\n",
    "print(\"type: \",type(k))"
   ]
  },
  {
   "cell_type": "code",
   "execution_count": 14,
   "id": "16507784",
   "metadata": {},
   "outputs": [],
   "source": [
    "c= complex(i,j)"
   ]
  },
  {
   "cell_type": "code",
   "execution_count": 15,
   "id": "dd9f439b",
   "metadata": {},
   "outputs": [
    {
     "data": {
      "text/plain": [
       "'ArithmeticError\\nSystem;'"
      ]
     },
     "execution_count": 15,
     "metadata": {},
     "output_type": "execute_result"
    }
   ],
   "source": [
    "'''ArithmeticError\n",
    "System;'''"
   ]
  },
  {
   "cell_type": "code",
   "execution_count": null,
   "id": "169fdfb2",
   "metadata": {},
   "outputs": [],
   "source": []
  }
 ],
 "metadata": {
  "kernelspec": {
   "display_name": "Python 3",
   "language": "python",
   "name": "python3"
  },
  "language_info": {
   "codemirror_mode": {
    "name": "ipython",
    "version": 3
   },
   "file_extension": ".py",
   "mimetype": "text/x-python",
   "name": "python",
   "nbconvert_exporter": "python",
   "pygments_lexer": "ipython3",
   "version": "3.13.7"
  }
 },
 "nbformat": 4,
 "nbformat_minor": 5
}
