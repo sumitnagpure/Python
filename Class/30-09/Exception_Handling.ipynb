{
 "cells": [
  {
   "cell_type": "markdown",
   "id": "9f997552",
   "metadata": {
    "id": "9f997552"
   },
   "source": [
    "## 🐍 Python Exception Handling: The `try...except` Block\n",
    "\n",
    "Python's exception handling allows you to gracefully manage errors during program execution, preventing abrupt crashes and ensuring robust code.\n",
    "\n",
    "### 1. Basic Structure (`try` and `except`)\n",
    "\n",
    "The core concept is to put \"risky\" code inside a `try` block and the error recovery logic inside an `except` block.\n",
    "\n",
    "**Markdown Code:**\n",
    "\n",
    "````markdown\n",
    "```python\n",
    "try:\n",
    "    # Code that might cause an error\n",
    "    result = 10 / 0\n",
    "except ZeroDivisionError:\n",
    "    # Code to execute if the specific error occurs\n",
    "    print(\"Error: Cannot divide by zero.\")"
   ]
  },
  {
   "cell_type": "markdown",
   "id": "09a9e24d",
   "metadata": {
    "id": "09a9e24d"
   },
   "source": [
    "### 2. Full Structure (`try`, `except`, `else`, `finally`)\n",
    "\n",
    "A complete exception block includes `else` (runs if **no** exception occurs) and `finally` (always runs, for cleanup).\n",
    "\n"
   ]
  },
  {
   "cell_type": "code",
   "execution_count": 18,
   "id": "4eae4b3b",
   "metadata": {
    "colab": {
     "base_uri": "https://localhost:8080/"
    },
    "executionInfo": {
     "elapsed": 8,
     "status": "ok",
     "timestamp": 1759222375276,
     "user": {
      "displayName": "Sumit Nagpure",
      "userId": "16587956692350840644"
     },
     "user_tz": -330
    },
    "id": "4eae4b3b",
    "outputId": "7c35c550-955b-4c5c-b668-7da51a137a2a"
   },
   "outputs": [
    {
     "name": "stdout",
     "output_type": "stream",
     "text": [
      "Error: The file was not found. Details: [Errno 2] No such file or directory: 'data.txt'\n",
      "Cleanup complete.\n"
     ]
    }
   ],
   "source": [
    "try:\n",
    "    # Code that may raise an exception\n",
    "    file = open(\"data.txt\", \"r\")\n",
    "    content = file.read()\n",
    "except FileNotFoundError as e:\n",
    "    # Handles the specific exception if the file is not found\n",
    "    print(f\"Error: The file was not found. Details: {e}\")\n",
    "else:\n",
    "    # Runs ONLY if the try block completes successfully\n",
    "    print(\"File read successfully.\")\n",
    "    print(f\"Content length: {len(content)}\")\n",
    "finally:\n",
    "    # Runs ALWAYS, whether an exception occurred or not\n",
    "    if 'file' in locals() and not file.closed:\n",
    "        file.close()\n",
    "    print(\"Cleanup complete.\")"
   ]
  },
  {
   "cell_type": "code",
   "execution_count": 19,
   "id": "ba16cdff",
   "metadata": {
    "colab": {
     "base_uri": "https://localhost:8080/",
     "height": 162
    },
    "executionInfo": {
     "elapsed": 12,
     "status": "error",
     "timestamp": 1759222375301,
     "user": {
      "displayName": "Sumit Nagpure",
      "userId": "16587956692350840644"
     },
     "user_tz": -330
    },
    "id": "ba16cdff",
    "outputId": "3fe849bb-2577-4913-dfbe-f297944c778f"
   },
   "outputs": [
    {
     "ename": "FileNotFoundError",
     "evalue": "[Errno 2] No such file or directory: 'data.txt'",
     "output_type": "error",
     "traceback": [
      "\u001b[0;31m---------------------------------------------------------------------------\u001b[0m",
      "\u001b[0;31mFileNotFoundError\u001b[0m                         Traceback (most recent call last)",
      "\u001b[0;32m/tmp/ipython-input-265127295.py\u001b[0m in \u001b[0;36m<cell line: 0>\u001b[0;34m()\u001b[0m\n\u001b[0;32m----> 1\u001b[0;31m \u001b[0mfr\u001b[0m\u001b[0;34m=\u001b[0m\u001b[0mopen\u001b[0m\u001b[0;34m(\u001b[0m\u001b[0;34m\"data.txt\"\u001b[0m\u001b[0;34m,\u001b[0m\u001b[0;34m\"r\"\u001b[0m\u001b[0;34m)\u001b[0m \u001b[0;31m# no compile error\u001b[0m\u001b[0;34m\u001b[0m\u001b[0;34m\u001b[0m\u001b[0m\n\u001b[0m\u001b[1;32m      2\u001b[0m \u001b[0mfr\u001b[0m\u001b[0;34m.\u001b[0m\u001b[0mread\u001b[0m\u001b[0;34m(\u001b[0m\u001b[0;34m)\u001b[0m\u001b[0;34m\u001b[0m\u001b[0;34m\u001b[0m\u001b[0m\n",
      "\u001b[0;31mFileNotFoundError\u001b[0m: [Errno 2] No such file or directory: 'data.txt'"
     ]
    }
   ],
   "source": [
    "fr=open(\"data.txt\",\"r\") # no compile error\n",
    "fr.read()"
   ]
  },
  {
   "cell_type": "code",
   "execution_count": null,
   "id": "011feb48",
   "metadata": {
    "executionInfo": {
     "elapsed": 1,
     "status": "aborted",
     "timestamp": 1759222375449,
     "user": {
      "displayName": "Sumit Nagpure",
      "userId": "16587956692350840644"
     },
     "user_tz": -330
    },
    "id": "011feb48"
   },
   "outputs": [],
   "source": [
    "with open(\"data.txt\", \"r\") as file: # needs compile time check\n",
    "    content = file.read()\n",
    "    print(f\"Content length: {len(content)}\")"
   ]
  },
  {
   "cell_type": "markdown",
   "id": "aa750291",
   "metadata": {
    "id": "aa750291"
   },
   "source": [
    "Inducing a Zero Division Exception"
   ]
  },
  {
   "cell_type": "code",
   "execution_count": null,
   "id": "c0b922e6",
   "metadata": {
    "executionInfo": {
     "elapsed": 476,
     "status": "aborted",
     "timestamp": 1759222375452,
     "user": {
      "displayName": "Sumit Nagpure",
      "userId": "16587956692350840644"
     },
     "user_tz": -330
    },
    "id": "c0b922e6"
   },
   "outputs": [],
   "source": [
    "dividend=10\n",
    "divisor=0\n",
    "\n",
    "print(dividend/divisor)  # This will raise a ZeroDivisionError"
   ]
  },
  {
   "cell_type": "code",
   "execution_count": null,
   "id": "3d504772",
   "metadata": {
    "executionInfo": {
     "elapsed": 578,
     "status": "aborted",
     "timestamp": 1759222375560,
     "user": {
      "displayName": "Sumit Nagpure",
      "userId": "16587956692350840644"
     },
     "user_tz": -330
    },
    "id": "3d504772"
   },
   "outputs": [],
   "source": [
    "dividend = 10\n",
    "divisor = 0\n",
    "\n",
    "try:\n",
    "    result = dividend / divisor\n",
    "    print(f\"Result: {result}\")\n",
    "except ZeroDivisionError as e:\n",
    "\n",
    "    print(f\"Error: Division by zero is not allowed. Details: {e}\")\n",
    "except ValueError as e:\n",
    "    print(f\"Value Error: {e}\")# A complete exception block includes `else` (runs if **no** exception occurs) and `finally` (always runs, for cleanup).\n",
    "except Exception as e:\n",
    "    print(f\"An unexpected error occurred: {e}\")"
   ]
  },
  {
   "cell_type": "code",
   "execution_count": 20,
   "id": "b81afb8c",
   "metadata": {
    "colab": {
     "base_uri": "https://localhost:8080/"
    },
    "executionInfo": {
     "elapsed": 54,
     "status": "ok",
     "timestamp": 1759222375619,
     "user": {
      "displayName": "Sumit Nagpure",
      "userId": "16587956692350840644"
     },
     "user_tz": -330
    },
    "id": "b81afb8c",
    "outputId": "b69ba77e-6710-49c7-b734-ba8abc4c005b"
   },
   "outputs": [
    {
     "name": "stdout",
     "output_type": "stream",
     "text": [
      "Error: Division by zero is not allowed. Details: division by zero\n",
      "Type: <class 'ZeroDivisionError'>, Cause: division by zero, \n",
      "Traceback: [<FrameSummary file /tmp/ipython-input-141560757.py, line 7 in <cell line: 0>>]\n"
     ]
    }
   ],
   "source": [
    "import sys, traceback as tb\n",
    "dividend = 10\n",
    "divisor = 0\n",
    "\n",
    "# A complete exception block includes `else` (runs if **no** exception occurs) and `finally` (always runs, for cleanup).\n",
    "try:\n",
    "    result = dividend / divisor\n",
    "    print(f\"Result: {result}\")\n",
    "except ZeroDivisionError as e:\n",
    "    print(f\"Error: Division by zero is not allowed. Details: {e}\") #prints the cause of exception\n",
    "    # Getting exception details\n",
    "    e_type, e_cause, e_trace=sys.exc_info()\n",
    "    # prints the type, cause and traceback details of exception\n",
    "    print(f\"Type: {e_type}, Cause: {e_cause}, \\nTraceback: {tb.extract_tb(e_trace)}\")\n",
    "\n",
    "except ValueError as e:\n",
    "    # prints the cause of exception\n",
    "    print(f\"Value Error: {e}\")\n"
   ]
  },
  {
   "cell_type": "code",
   "execution_count": 21,
   "id": "6de4a4cd",
   "metadata": {
    "executionInfo": {
     "elapsed": 2,
     "status": "ok",
     "timestamp": 1759222375624,
     "user": {
      "displayName": "Sumit Nagpure",
      "userId": "16587956692350840644"
     },
     "user_tz": -330
    },
    "id": "6de4a4cd"
   },
   "outputs": [],
   "source": [
    "class DuplicateBookError(Exception):\n",
    "    \"\"\"Custom exception for duplicate book entries.\"\"\"\n",
    "    pass\n",
    "class Book:\n",
    "    def __init__(self, title, author):\n",
    "        self.title = title\n",
    "        self.author = author\n",
    "class Library:\n",
    "    def __init__(self):\n",
    "        self.books = []\n",
    "    def add_book(self, book):\n",
    "        for b in self.books:\n",
    "            if b.title == book.title and b.author == book.author:\n",
    "                raise DuplicateBookError(f\"The book '{book.title}' by {book.author} already exists in the library.\")\n",
    "        self.books.append(book)\n",
    "    def list_books(self):\n",
    "        for book in self.books:\n",
    "            print(f\"Title: {book.title}, Author: {book.author}\")"
   ]
  },
  {
   "cell_type": "code",
   "execution_count": 22,
   "id": "eb28c9c9",
   "metadata": {
    "colab": {
     "base_uri": "https://localhost:8080/"
    },
    "executionInfo": {
     "elapsed": 8,
     "status": "ok",
     "timestamp": 1759222375643,
     "user": {
      "displayName": "Sumit Nagpure",
      "userId": "16587956692350840644"
     },
     "user_tz": -330
    },
    "id": "eb28c9c9",
    "outputId": "d1e962a8-d25c-434e-9418-ac4dca6e78fc"
   },
   "outputs": [
    {
     "name": "stdout",
     "output_type": "stream",
     "text": [
      "The book '1984' by George Orwell already exists in the library.\n"
     ]
    }
   ],
   "source": [
    "# Example usage\n",
    "library = Library()\n",
    "try:\n",
    "    book1 = Book(\"1984\", \"George Orwell\")\n",
    "    library.add_book(book1)\n",
    "    book2 = Book(\"To Kill a Mockingbird\", \"Harper Lee\")\n",
    "    library.add_book(book2)\n",
    "    # Attempting to add a duplicate book\n",
    "    duplicate_book = Book(\"1984\", \"George Orwell\")\n",
    "    library.add_book(duplicate_book)\n",
    "except DuplicateBookError as e:\n",
    "    print(e)\n"
   ]
  },
  {
   "cell_type": "code",
   "execution_count": 22,
   "id": "c03df3ab",
   "metadata": {
    "executionInfo": {
     "elapsed": 3,
     "status": "ok",
     "timestamp": 1759222375649,
     "user": {
      "displayName": "Sumit Nagpure",
      "userId": "16587956692350840644"
     },
     "user_tz": -330
    },
    "id": "c03df3ab"
   },
   "outputs": [],
   "source": []
  }
 ],
 "metadata": {
  "colab": {
   "provenance": []
  },
  "kernelspec": {
   "display_name": "Python 3",
   "language": "python",
   "name": "python3"
  },
  "language_info": {
   "codemirror_mode": {
    "name": "ipython",
    "version": 3
   },
   "file_extension": ".py",
   "mimetype": "text/x-python",
   "name": "python",
   "nbconvert_exporter": "python",
   "pygments_lexer": "ipython3",
   "version": "3.13.7"
  }
 },
 "nbformat": 4,
 "nbformat_minor": 5
}
