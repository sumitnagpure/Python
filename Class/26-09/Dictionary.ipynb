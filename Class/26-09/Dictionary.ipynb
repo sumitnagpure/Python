{
 "cells": [
  {
   "cell_type": "markdown",
   "id": "17b9cf34",
   "metadata": {},
   "source": [
    "### Dictionary"
   ]
  },
  {
   "cell_type": "code",
   "execution_count": 31,
   "id": "3d678ec4",
   "metadata": {},
   "outputs": [],
   "source": [
    "import pprint"
   ]
  },
  {
   "cell_type": "code",
   "execution_count": 47,
   "id": "3b15477e",
   "metadata": {},
   "outputs": [],
   "source": [
    "weather_date={\n",
    "    'Pune':[23,28],\n",
    "    'Mumbai':[34,38],\n",
    "    'Delhi':[21,35]\n",
    "}\n",
    "emp_details={\n",
    "    'name':'John Doe',\n",
    "    'age':28,\n",
    "    'salary':50500,\n",
    "    'skills':['Python','Django']\n",
    "}"
   ]
  },
  {
   "cell_type": "code",
   "execution_count": 33,
   "id": "110c6cc1",
   "metadata": {},
   "outputs": [
    {
     "name": "stdout",
     "output_type": "stream",
     "text": [
      "True\n",
      "True\n"
     ]
    }
   ],
   "source": [
    "print('Pune' in weather_date)\n",
    "print('Chennai' not in weather_date)"
   ]
  },
  {
   "cell_type": "code",
   "execution_count": 34,
   "id": "a32ee2b4",
   "metadata": {},
   "outputs": [
    {
     "name": "stdout",
     "output_type": "stream",
     "text": [
      "Pune:[23, 28]\n",
      "Mumbai:[34, 38]\n",
      "Delhi:[21, 35]\n"
     ]
    }
   ],
   "source": [
    "for key, value in weather_date.items():\n",
    "    print(f'{key}:{value}')"
   ]
  },
  {
   "cell_type": "code",
   "execution_count": 35,
   "id": "252c0696",
   "metadata": {},
   "outputs": [
    {
     "name": "stdout",
     "output_type": "stream",
     "text": [
      "Pune\n",
      "Mumbai\n",
      "Delhi\n",
      "-----------------------\n",
      "Pune: [23, 28]\n",
      "Mumbai: [34, 38]\n",
      "Delhi: [21, 35]\n"
     ]
    }
   ],
   "source": [
    "for key in weather_date.keys():\n",
    "    print(f'{key}')\n",
    "print('-----------------------')\n",
    "for key in weather_date.keys():\n",
    "    print(f'{key}: {weather_date[key]}')"
   ]
  },
  {
   "cell_type": "code",
   "execution_count": 36,
   "id": "7c33d01e",
   "metadata": {},
   "outputs": [
    {
     "name": "stdout",
     "output_type": "stream",
     "text": [
      "[23, 28]\n",
      "[34, 38]\n",
      "[21, 35]\n"
     ]
    }
   ],
   "source": [
    "for value in weather_date.values():\n",
    "    print(f'{value}')"
   ]
  },
  {
   "cell_type": "markdown",
   "id": "a52d64ee",
   "metadata": {},
   "source": [
    "### Dictionary Methods"
   ]
  },
  {
   "cell_type": "code",
   "execution_count": 37,
   "id": "5da93883",
   "metadata": {},
   "outputs": [
    {
     "data": {
      "text/plain": [
       "{'name': 'John Doe',\n",
       " 'age': 28,\n",
       " 'salary': 50500,\n",
       " 'skills': ['Python', 'Django'],\n",
       " 'details': 'IT'}"
      ]
     },
     "execution_count": 37,
     "metadata": {},
     "output_type": "execute_result"
    }
   ],
   "source": [
    "emp_details['details']='IT'\n",
    "emp_details"
   ]
  },
  {
   "cell_type": "code",
   "execution_count": 48,
   "id": "9be980aa",
   "metadata": {},
   "outputs": [
    {
     "name": "stdout",
     "output_type": "stream",
     "text": [
      "{'name': 'John Doe', 'age': 28, 'salary': 50500, 'skills': ['Python', 'Django', 'Java']}\n",
      "{'age': 28, 'name': 'John Doe', 'salary': 50500, 'skills': 'Java'}\n"
     ]
    }
   ],
   "source": [
    "emp_details['skills'].append('Java')\n",
    "print(emp_details)\n",
    "emp_details['skills']='Java'\n",
    "pprint.pprint(emp_details)"
   ]
  },
  {
   "cell_type": "markdown",
   "id": "56ff8be2",
   "metadata": {},
   "source": [
    "pop"
   ]
  },
  {
   "cell_type": "code",
   "execution_count": 49,
   "id": "2b31befa",
   "metadata": {},
   "outputs": [
    {
     "data": {
      "text/plain": [
       "28"
      ]
     },
     "execution_count": 49,
     "metadata": {},
     "output_type": "execute_result"
    }
   ],
   "source": [
    "emp_details.pop('age')"
   ]
  },
  {
   "cell_type": "markdown",
   "id": "d0e5c276",
   "metadata": {},
   "source": [
    "### Dictionary Comprehension"
   ]
  },
  {
   "cell_type": "code",
   "execution_count": 39,
   "id": "f911462e",
   "metadata": {},
   "outputs": [
    {
     "name": "stdout",
     "output_type": "stream",
     "text": [
      "{1: 1, 2: 4, 3: 9, 4: 16, 5: 25, 6: 36, 7: 49, 8: 64, 9: 81, 10: 100}\n"
     ]
    }
   ],
   "source": [
    "nums=[1,2,3,4,5,6,7,8,9,10]\n",
    "\n",
    "sqs={num:num**2 for num in nums}\n",
    "print(sqs)"
   ]
  },
  {
   "cell_type": "code",
   "execution_count": 40,
   "id": "234b5378",
   "metadata": {},
   "outputs": [
    {
     "data": {
      "text/plain": [
       "{'Book About Social Science': 25,\n",
       " 'Book About Maths': 16,\n",
       " 'Book About Hindi': 16}"
      ]
     },
     "execution_count": 40,
     "metadata": {},
     "output_type": "execute_result"
    }
   ],
   "source": [
    "books=[['Book About Science',1],\n",
    "       ['Book About Social Science',2],\n",
    "       ['Book About Maths',3],\n",
    "       ['Book About Hindi',4]]\n",
    "\n",
    "title_length={item: len(item) for item,val in books if val>1}\n",
    "title_length"
   ]
  },
  {
   "cell_type": "code",
   "execution_count": 41,
   "id": "5f1025f9",
   "metadata": {},
   "outputs": [],
   "source": [
    "def cal_disc(price):\n",
    "    return round(price*0.8,2)"
   ]
  },
  {
   "cell_type": "code",
   "execution_count": 42,
   "id": "c025b680",
   "metadata": {},
   "outputs": [
    {
     "name": "stdout",
     "output_type": "stream",
     "text": [
      "{'Book About Hindi': 240.0,\n",
      " 'Book About Maths': 400.0,\n",
      " 'Book About Science': 320.0,\n",
      " 'Book About Social Science': 160.0}\n"
     ]
    }
   ],
   "source": [
    "import pprint\n",
    "\n",
    "\n",
    "books=[['Book About Science',400],\n",
    "       ['Book About Social Science',200],\n",
    "       ['Book About Maths',500],\n",
    "       ['Book About Hindi',300]]\n",
    "\n",
    "discount_prices={key: cal_disc(price) for key, price in books}\n",
    "pprint.pprint(discount_prices)\n"
   ]
  },
  {
   "cell_type": "code",
   "execution_count": null,
   "id": "16ec3e55",
   "metadata": {},
   "outputs": [],
   "source": []
  }
 ],
 "metadata": {
  "kernelspec": {
   "display_name": "Python 3",
   "language": "python",
   "name": "python3"
  },
  "language_info": {
   "codemirror_mode": {
    "name": "ipython",
    "version": 3
   },
   "file_extension": ".py",
   "mimetype": "text/x-python",
   "name": "python",
   "nbconvert_exporter": "python",
   "pygments_lexer": "ipython3",
   "version": "3.13.7"
  }
 },
 "nbformat": 4,
 "nbformat_minor": 5
}
