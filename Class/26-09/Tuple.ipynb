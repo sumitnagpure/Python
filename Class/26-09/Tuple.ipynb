{
 "cells": [
  {
   "cell_type": "markdown",
   "id": "3c4da86f",
   "metadata": {},
   "source": [
    "## Tuple"
   ]
  },
  {
   "cell_type": "code",
   "execution_count": 17,
   "id": "19544e60",
   "metadata": {},
   "outputs": [],
   "source": [
    "cards=('spade','hearts','club','diamond')"
   ]
  },
  {
   "cell_type": "code",
   "execution_count": 10,
   "id": "6f0cd9c7",
   "metadata": {},
   "outputs": [
    {
     "name": "stdout",
     "output_type": "stream",
     "text": [
      "True\n"
     ]
    }
   ],
   "source": [
    "print('spade' in cards)"
   ]
  },
  {
   "cell_type": "code",
   "execution_count": 11,
   "id": "6e824fbd",
   "metadata": {},
   "outputs": [
    {
     "name": "stdout",
     "output_type": "stream",
     "text": [
      "spade hearts club diamond "
     ]
    }
   ],
   "source": [
    "for item in cards:\n",
    "    print(item, end=\" \")"
   ]
  },
  {
   "cell_type": "markdown",
   "id": "5f1478c6",
   "metadata": {},
   "source": [
    "unpacking"
   ]
  },
  {
   "cell_type": "code",
   "execution_count": 12,
   "id": "52198002",
   "metadata": {},
   "outputs": [
    {
     "name": "stdout",
     "output_type": "stream",
     "text": [
      "spade\n",
      "hearts\n",
      "club\n",
      "diamond\n"
     ]
    }
   ],
   "source": [
    "one, two, three, four =cards\n",
    "print(one)\n",
    "print(two)\n",
    "print(three)\n",
    "print(four)"
   ]
  },
  {
   "cell_type": "markdown",
   "id": "6e665644",
   "metadata": {},
   "source": [
    "appending to tuple. (using list)"
   ]
  },
  {
   "cell_type": "code",
   "execution_count": 13,
   "id": "c997c4ab",
   "metadata": {},
   "outputs": [
    {
     "data": {
      "text/plain": [
       "('spade', 'hearts', 'club', 'diamond', 'random')"
      ]
     },
     "execution_count": 13,
     "metadata": {},
     "output_type": "execute_result"
    }
   ],
   "source": [
    "l_cards=list(cards)\n",
    "l_cards.append('random')\n",
    "cards=tuple(l_cards)\n",
    "cards"
   ]
  },
  {
   "cell_type": "markdown",
   "id": "81528977",
   "metadata": {},
   "source": [
    "swapping tuples"
   ]
  },
  {
   "cell_type": "code",
   "execution_count": 27,
   "id": "65258f6b",
   "metadata": {},
   "outputs": [
    {
     "name": "stdout",
     "output_type": "stream",
     "text": [
      "('one', 'two', 'three')\n",
      "(10, 20, 30, 40)\n"
     ]
    }
   ],
   "source": [
    "t1=(10,20,30,40)\n",
    "t2=('one','two','three')\n",
    "\n",
    "t1,t2=t2,t1\n",
    "\n",
    "print(t1)\n",
    "print(t2)"
   ]
  },
  {
   "cell_type": "markdown",
   "id": "d1d3a939",
   "metadata": {},
   "source": [
    "### zip()"
   ]
  },
  {
   "cell_type": "code",
   "execution_count": null,
   "id": "2e1f3fbd",
   "metadata": {},
   "outputs": [
    {
     "data": {
      "text/plain": [
       "(('one', 10, 'spade'), ('two', 20, 'hearts'), ('three', 30, 'club'))"
      ]
     },
     "execution_count": 30,
     "metadata": {},
     "output_type": "execute_result"
    }
   ],
   "source": [
    "t3= tuple(zip(t1,t2))\n",
    "t3"
   ]
  },
  {
   "cell_type": "code",
   "execution_count": 31,
   "id": "45fa17c0",
   "metadata": {},
   "outputs": [
    {
     "data": {
      "text/plain": [
       "(('one', 10, 'spade'), ('two', 20, 'hearts'), ('three', 30, 'club'))"
      ]
     },
     "execution_count": 31,
     "metadata": {},
     "output_type": "execute_result"
    }
   ],
   "source": [
    "tuple(zip(t1,t2,cards))"
   ]
  },
  {
   "cell_type": "markdown",
   "id": "1aee9173",
   "metadata": {},
   "source": [
    "indexing"
   ]
  },
  {
   "cell_type": "code",
   "execution_count": 23,
   "id": "56ecc5fd",
   "metadata": {},
   "outputs": [
    {
     "data": {
      "text/plain": [
       "('spade', 'hearts')"
      ]
     },
     "execution_count": 23,
     "metadata": {},
     "output_type": "execute_result"
    }
   ],
   "source": [
    "cards[:2]"
   ]
  },
  {
   "cell_type": "code",
   "execution_count": 24,
   "id": "acda4164",
   "metadata": {},
   "outputs": [
    {
     "data": {
      "text/plain": [
       "('club', 'diamond')"
      ]
     },
     "execution_count": 24,
     "metadata": {},
     "output_type": "execute_result"
    }
   ],
   "source": [
    "cards[2:]"
   ]
  },
  {
   "cell_type": "code",
   "execution_count": 25,
   "id": "61db97e8",
   "metadata": {},
   "outputs": [
    {
     "data": {
      "text/plain": [
       "('diamond', 'club', 'hearts', 'spade')"
      ]
     },
     "execution_count": 25,
     "metadata": {},
     "output_type": "execute_result"
    }
   ],
   "source": [
    "cards[::-1]"
   ]
  },
  {
   "cell_type": "code",
   "execution_count": 32,
   "id": "28bf8c73",
   "metadata": {},
   "outputs": [
    {
     "data": {
      "text/plain": [
       "'club'"
      ]
     },
     "execution_count": 32,
     "metadata": {},
     "output_type": "execute_result"
    }
   ],
   "source": [
    "cards[-2]"
   ]
  },
  {
   "cell_type": "code",
   "execution_count": null,
   "id": "758f44b9",
   "metadata": {},
   "outputs": [],
   "source": []
  }
 ],
 "metadata": {
  "kernelspec": {
   "display_name": "Python 3",
   "language": "python",
   "name": "python3"
  },
  "language_info": {
   "codemirror_mode": {
    "name": "ipython",
    "version": 3
   },
   "file_extension": ".py",
   "mimetype": "text/x-python",
   "name": "python",
   "nbconvert_exporter": "python",
   "pygments_lexer": "ipython3",
   "version": "3.13.7"
  }
 },
 "nbformat": 4,
 "nbformat_minor": 5
}
