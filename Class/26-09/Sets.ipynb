{
 "cells": [
  {
   "cell_type": "markdown",
   "id": "2d795cba",
   "metadata": {},
   "source": [
    "Sets"
   ]
  },
  {
   "cell_type": "code",
   "execution_count": 4,
   "id": "3d0d6d20",
   "metadata": {},
   "outputs": [
    {
     "name": "stdout",
     "output_type": "stream",
     "text": [
      "{'apple', 'tomato', 'guava', 'banana'}\n"
     ]
    }
   ],
   "source": [
    "fruits={'apple','banana','tomato','guava','apple'}\n",
    "print(fruits)"
   ]
  },
  {
   "cell_type": "code",
   "execution_count": 5,
   "id": "34bc72d4",
   "metadata": {},
   "outputs": [
    {
     "name": "stdout",
     "output_type": "stream",
     "text": [
      "True\n"
     ]
    }
   ],
   "source": [
    "print('apple' in fruits)"
   ]
  },
  {
   "cell_type": "code",
   "execution_count": 6,
   "id": "c7f81833",
   "metadata": {},
   "outputs": [
    {
     "name": "stdout",
     "output_type": "stream",
     "text": [
      "apple\n",
      "tomato\n",
      "guava\n",
      "banana\n"
     ]
    }
   ],
   "source": [
    "for fruit in fruits:\n",
    "    print(fruit)"
   ]
  },
  {
   "cell_type": "code",
   "execution_count": 8,
   "id": "5ed0a8d7",
   "metadata": {},
   "outputs": [],
   "source": [
    "# for i in range(0,len(fruit)):\n",
    "    # print(fruits[i])"
   ]
  },
  {
   "cell_type": "code",
   "execution_count": null,
   "id": "ca56ee1c",
   "metadata": {},
   "outputs": [
    {
     "name": "stdout",
     "output_type": "stream",
     "text": [
      "None\n"
     ]
    },
    {
     "data": {
      "text/plain": [
       "{'apple', 'banana', 'guava', 'tomato'}"
      ]
     },
     "execution_count": 17,
     "metadata": {},
     "output_type": "execute_result"
    }
   ],
   "source": [
    "# Add an element to a set.\n",
    "# This has no effect if the element is already present.\n",
    "fruits.add('banana')\n",
    "print(fruits.add('banana'))\n",
    "fruits"
   ]
  },
  {
   "cell_type": "markdown",
   "id": "25f1d896",
   "metadata": {},
   "source": [
    "Remove vs discard"
   ]
  },
  {
   "cell_type": "code",
   "execution_count": null,
   "id": "45dcf0f0",
   "metadata": {},
   "outputs": [],
   "source": [
    "'''Remove an element from a set; it must be a member.'''\n",
    "fruits.remove() \n",
    "\n",
    "'''Remove an element from a set if it is a member.\n",
    "Unlike set.remove(), the discard() method does not raise\n",
    "an exception when an element is missing from the set.'''\n",
    "fruits.discard()"
   ]
  },
  {
   "cell_type": "markdown",
   "id": "6649cee3",
   "metadata": {},
   "source": [
    "update()"
   ]
  },
  {
   "cell_type": "code",
   "execution_count": 20,
   "id": "e4ac5062",
   "metadata": {},
   "outputs": [
    {
     "name": "stdout",
     "output_type": "stream",
     "text": [
      "{'apple', 'tomato', 'banana', 'guava', 'litchi'}\n",
      "{'apple', 'tomato', 'banana', 'guava', 'litchi'}\n"
     ]
    }
   ],
   "source": [
    "fruits.update({'banana','litchi'})\n",
    "#Update the set, adding elements from all others\n",
    "print(fruits)\n",
    "\n",
    "# fruits.add({'banana','litchi'}) #TypeError: unhashable type: 'set'\n",
    "# Add an element to a set.\n",
    "# This has no effect if the element is already present.\n",
    "print(fruits)"
   ]
  },
  {
   "cell_type": "markdown",
   "id": "1159fb94",
   "metadata": {},
   "source": [
    "### Set Union ($\\mathbf{A} \\cup \\mathbf{B}$)\n",
    "\n",
    "The union contains **all elements** from all sets. If an element appears in multiple sets, it is only listed once.\n",
    "\n",
    "| Method | Syntax |\n",
    "| :--- | :--- |\n",
    "| **Operator** | `set_A | set_B` |\n",
    "| **Method** | `set_A.union(set_B)` |"
   ]
  },
  {
   "cell_type": "code",
   "execution_count": 22,
   "id": "e4136c7e",
   "metadata": {},
   "outputs": [
    {
     "data": {
      "text/plain": [
       "{'apple', 'banana', 'guava', 'litchi', 'orange', 'tomato'}"
      ]
     },
     "execution_count": 22,
     "metadata": {},
     "output_type": "execute_result"
    }
   ],
   "source": [
    "union_set=fruits.union({'guava','orange'})\n",
    "union_set\n",
    "union_set=fruits| {'guava','orange'}\n",
    "union_set"
   ]
  },
  {
   "cell_type": "code",
   "execution_count": 25,
   "id": "0a83fee5",
   "metadata": {},
   "outputs": [
    {
     "name": "stdout",
     "output_type": "stream",
     "text": [
      "Set A: {1, 2, 3}\n",
      "Set B: {3, 4, 5}\n",
      "Union (A | B): {1, 2, 3, 4, 5}\n"
     ]
    }
   ],
   "source": [
    "set_a = {1, 2, 3}\n",
    "set_b = {3, 4, 5}\n",
    "\n",
    "# Expected Result: {1, 2, 3, 4, 5}\n",
    "\n",
    "result = set_a | set_b\n",
    "\n",
    "print(f\"Set A: {set_a}\")\n",
    "print(f\"Set B: {set_b}\")\n",
    "print(f\"Union (A | B): {result}\")"
   ]
  },
  {
   "cell_type": "markdown",
   "id": "7e366a52",
   "metadata": {},
   "source": [
    "### Set Intersection ($\\mathbf{A} \\cap \\mathbf{B}$)\n",
    "\n",
    "The intersection contains only the elements that are **shared** by all sets. It finds the common items.\n",
    "\n",
    "| Method | Syntax |\n",
    "| :--- | :--- |\n",
    "| **Operator** | `set_A & set_B` |\n",
    "| **Method** | `set_A.intersection(set_B)` |"
   ]
  },
  {
   "cell_type": "code",
   "execution_count": 24,
   "id": "fa389109",
   "metadata": {},
   "outputs": [
    {
     "name": "stdout",
     "output_type": "stream",
     "text": [
      "Set A: {1, 2, 3, 4}\n",
      "Set B: {3, 4, 5, 6}\n",
      "Intersection (A & B): {3, 4}\n"
     ]
    }
   ],
   "source": [
    "set_a = {1, 2, 3, 4}\n",
    "set_b = {3, 4, 5, 6}\n",
    "\n",
    "# Expected Result: {3, 4}\n",
    "\n",
    "result = set_a & set_b\n",
    "\n",
    "print(f\"Set A: {set_a}\")\n",
    "print(f\"Set B: {set_b}\")\n",
    "print(f\"Intersection (A & B): {result}\")"
   ]
  },
  {
   "cell_type": "markdown",
   "id": "804b6cff",
   "metadata": {},
   "source": [
    "### Symmetric Difference ($\\mathbf{A} \\Delta \\mathbf{B}$)\n",
    "\n",
    "The symmetric difference contains all elements **unique** to each set, excluding any shared elements. It's the **union minus the intersection**.\n",
    "\n",
    "| Method | Syntax |\n",
    "| :--- | :--- |\n",
    "| **Operator** | `set_A ^ set_B` |\n",
    "| **Method** | `set_A.symmetric_difference(set_B)` |"
   ]
  },
  {
   "cell_type": "code",
   "execution_count": 23,
   "id": "9c260a21",
   "metadata": {},
   "outputs": [
    {
     "name": "stdout",
     "output_type": "stream",
     "text": [
      "Set A: {1, 2, 3}\n",
      "Set B: {3, 4, 5}\n",
      "Symmetric Difference (A ^ B): {1, 2, 4, 5}\n"
     ]
    }
   ],
   "source": [
    "set_a = {1, 2, 3}\n",
    "set_b = {3, 4, 5}\n",
    "\n",
    "# Expected Result: {1, 2, 4, 5}\n",
    "\n",
    "result = set_a ^ set_b\n",
    "\n",
    "print(f\"Set A: {set_a}\")\n",
    "print(f\"Set B: {set_b}\")\n",
    "print(f\"Symmetric Difference (A ^ B): {result}\")"
   ]
  },
  {
   "cell_type": "markdown",
   "id": "30628d57",
   "metadata": {},
   "source": [
    "### Cities Question"
   ]
  },
  {
   "cell_type": "code",
   "execution_count": 27,
   "id": "51a39616",
   "metadata": {},
   "outputs": [],
   "source": [
    "populated_cities={\"Mumbai\", \"Delhi\", \"Bangalore\", \"Hyderabad\", \"Ahmedabad\", \"Chennai\", \"Kolkata\", \"Pune\"}\n",
    "polluted_cities= {\"Delhi\", \"Ghaziabad\", \"Gurgaon\", \"Noida\",\"Kolkata\", \"Faridabad\", \"Ahmedabad\"}"
   ]
  },
  {
   "cell_type": "markdown",
   "id": "6de735f7",
   "metadata": {},
   "source": [
    "Q1. Which cities are polluted but NOT populated?"
   ]
  },
  {
   "cell_type": "code",
   "execution_count": 35,
   "id": "a6bc8b80",
   "metadata": {},
   "outputs": [
    {
     "name": "stdout",
     "output_type": "stream",
     "text": [
      "{'Faridabad', 'Noida', 'Ghaziabad', 'Gurgaon'}\n",
      "{'Faridabad', 'Noida', 'Ghaziabad', 'Gurgaon'}\n"
     ]
    }
   ],
   "source": [
    "print(polluted_cities-populated_cities)\n",
    "print(polluted_cities.difference(populated_cities))"
   ]
  },
  {
   "cell_type": "markdown",
   "id": "74f2c413",
   "metadata": {},
   "source": [
    "Q2. Which cities are both populated AND polluted?"
   ]
  },
  {
   "cell_type": "code",
   "execution_count": 36,
   "id": "145263cf",
   "metadata": {},
   "outputs": [
    {
     "name": "stdout",
     "output_type": "stream",
     "text": [
      "{'Delhi', 'Kolkata', 'Ahmedabad'}\n",
      "{'Delhi', 'Kolkata', 'Ahmedabad'}\n"
     ]
    }
   ],
   "source": [
    "print(populated_cities&polluted_cities)\n",
    "print(populated_cities.intersection(polluted_cities))"
   ]
  },
  {
   "cell_type": "markdown",
   "id": "f129e739",
   "metadata": {},
   "source": [
    "Q3. What is the total unique list of cities mentioned?"
   ]
  },
  {
   "cell_type": "code",
   "execution_count": 38,
   "id": "3148585a",
   "metadata": {},
   "outputs": [
    {
     "name": "stdout",
     "output_type": "stream",
     "text": [
      "{'Faridabad', 'Hyderabad', 'Chennai', 'Ghaziabad', 'Ahmedabad', 'Kolkata', 'Pune', 'Mumbai', 'Gurgaon', 'Bangalore', 'Noida', 'Delhi'}\n",
      "{'Faridabad', 'Hyderabad', 'Chennai', 'Ghaziabad', 'Ahmedabad', 'Kolkata', 'Pune', 'Mumbai', 'Gurgaon', 'Bangalore', 'Noida', 'Delhi'}\n"
     ]
    }
   ],
   "source": [
    "print(polluted_cities.union(populated_cities))\n",
    "print(polluted_cities|populated_cities)"
   ]
  },
  {
   "cell_type": "code",
   "execution_count": null,
   "id": "02eab6fc",
   "metadata": {},
   "outputs": [],
   "source": []
  }
 ],
 "metadata": {
  "kernelspec": {
   "display_name": "Python 3",
   "language": "python",
   "name": "python3"
  },
  "language_info": {
   "codemirror_mode": {
    "name": "ipython",
    "version": 3
   },
   "file_extension": ".py",
   "mimetype": "text/x-python",
   "name": "python",
   "nbconvert_exporter": "python",
   "pygments_lexer": "ipython3",
   "version": "3.13.7"
  }
 },
 "nbformat": 4,
 "nbformat_minor": 5
}
