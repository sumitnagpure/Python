{
 "cells": [
  {
   "cell_type": "markdown",
   "id": "b57479ff",
   "metadata": {},
   "source": [
    "## String"
   ]
  },
  {
   "cell_type": "code",
   "execution_count": 1,
   "id": "2e22b469",
   "metadata": {},
   "outputs": [],
   "source": [
    "s=\"CDAC is an institute in Pune\""
   ]
  },
  {
   "cell_type": "markdown",
   "id": "5c09eb74",
   "metadata": {},
   "source": [
    "### indexing & slicing"
   ]
  },
  {
   "cell_type": "code",
   "execution_count": 30,
   "id": "69fde966",
   "metadata": {},
   "outputs": [
    {
     "name": "stdout",
     "output_type": "stream",
     "text": [
      "CDAC\n",
      " is an institute in Pune\n",
      "CDAC is an institute in Pune\n"
     ]
    }
   ],
   "source": [
    "s1=s[:4]\n",
    "s2=s[4:]\n",
    "print(s1)\n",
    "print(s2)\n",
    "print(s1+s2)"
   ]
  },
  {
   "cell_type": "markdown",
   "id": "fa793778",
   "metadata": {},
   "source": [
    "in & not in"
   ]
  },
  {
   "cell_type": "code",
   "execution_count": 10,
   "id": "8b9712bf",
   "metadata": {},
   "outputs": [
    {
     "name": "stdout",
     "output_type": "stream",
     "text": [
      "True\n",
      "False\n",
      "True\n"
     ]
    }
   ],
   "source": [
    "print(s1 in s)\n",
    "print(s2 not in s)\n",
    "print('python' not in s)"
   ]
  },
  {
   "cell_type": "code",
   "execution_count": 24,
   "id": "77b51159",
   "metadata": {},
   "outputs": [
    {
     "name": "stdout",
     "output_type": "stream",
     "text": [
      "Pune\n"
     ]
    }
   ],
   "source": [
    "s1=s[-4:]\n",
    "print(s1)"
   ]
  },
  {
   "cell_type": "code",
   "execution_count": 28,
   "id": "a85ad18f",
   "metadata": {},
   "outputs": [
    {
     "name": "stdout",
     "output_type": "stream",
     "text": [
      "Pn tttn as AC\n",
      "\n",
      "eu ieuisin iCD\n",
      "enuP ni etutitsni na si CADC\n"
     ]
    }
   ],
   "source": [
    "print(s[-4::-2])\n",
    "print(s[4:10:-2])\n",
    "print(s[::-2])\n",
    "print(s[::-1])"
   ]
  },
  {
   "cell_type": "code",
   "execution_count": 31,
   "id": "ad1639ac",
   "metadata": {},
   "outputs": [],
   "source": [
    "s='Apple is red.'"
   ]
  },
  {
   "cell_type": "code",
   "execution_count": 32,
   "id": "201f631f",
   "metadata": {},
   "outputs": [
    {
     "name": "stdout",
     "output_type": "stream",
     "text": [
      "False\n"
     ]
    }
   ],
   "source": [
    "print(s.isalpha())"
   ]
  },
  {
   "cell_type": "code",
   "execution_count": 43,
   "id": "78f25891",
   "metadata": {},
   "outputs": [],
   "source": [
    "s3='12.34'"
   ]
  },
  {
   "cell_type": "code",
   "execution_count": 44,
   "id": "f4b3a0c0",
   "metadata": {},
   "outputs": [
    {
     "name": "stdout",
     "output_type": "stream",
     "text": [
      "False\n"
     ]
    }
   ],
   "source": [
    "print(s3.isdecimal())"
   ]
  },
  {
   "cell_type": "code",
   "execution_count": 46,
   "id": "f39ade52",
   "metadata": {},
   "outputs": [
    {
     "name": "stdout",
     "output_type": "stream",
     "text": [
      "True\n"
     ]
    }
   ],
   "source": [
    "s4='124'\n",
    "print(s4.isnumeric())"
   ]
  },
  {
   "cell_type": "code",
   "execution_count": 47,
   "id": "839a766c",
   "metadata": {},
   "outputs": [
    {
     "name": "stdout",
     "output_type": "stream",
     "text": [
      "True\n"
     ]
    }
   ],
   "source": [
    "s5='s124'\n",
    "print(s5.isalnum())"
   ]
  },
  {
   "cell_type": "code",
   "execution_count": 49,
   "id": "12f3d8da",
   "metadata": {},
   "outputs": [
    {
     "name": "stdout",
     "output_type": "stream",
     "text": [
      "True\n"
     ]
    }
   ],
   "source": [
    "print('s124'.isprintable())"
   ]
  },
  {
   "cell_type": "markdown",
   "id": "802ded67",
   "metadata": {},
   "source": [
    "### char conversion"
   ]
  },
  {
   "cell_type": "code",
   "execution_count": 54,
   "id": "2d225d93",
   "metadata": {},
   "outputs": [
    {
     "name": "stdout",
     "output_type": "stream",
     "text": [
      "hello there\n",
      "HELLO THERE\n",
      "Hello There\n",
      "Hello there\n",
      "hELLO THERE\n"
     ]
    }
   ],
   "source": [
    "print('Hello there'.lower())\n",
    "print('Hello there'.upper())\n",
    "print('Hello there'.title())\n",
    "print('Hello there'.capitalize())\n",
    "print('Hello there'.swapcase())\n",
    "\n",
    "\n"
   ]
  },
  {
   "cell_type": "markdown",
   "id": "41ad62a3",
   "metadata": {},
   "source": [
    "### other conversions"
   ]
  },
  {
   "cell_type": "code",
   "execution_count": 58,
   "id": "11239268",
   "metadata": {},
   "outputs": [
    {
     "data": {
      "text/plain": [
       "['p1', 'p2', 'p3', 'p4']"
      ]
     },
     "execution_count": 58,
     "metadata": {},
     "output_type": "execute_result"
    }
   ],
   "source": [
    "s3='p1 p2 p3 p4'\n",
    "words=s3.split(' ')\n",
    "words"
   ]
  },
  {
   "cell_type": "code",
   "execution_count": 64,
   "id": "366ebbc2",
   "metadata": {},
   "outputs": [
    {
     "name": "stdout",
     "output_type": "stream",
     "text": [
      "['apple,', 'banana,', 'pome']\n"
     ]
    }
   ],
   "source": [
    "fruits='apple, banana, pome'\n",
    "fruits1=fruits.split(' ')\n",
    "print(fruits1)"
   ]
  },
  {
   "cell_type": "code",
   "execution_count": 63,
   "id": "577dcc80",
   "metadata": {},
   "outputs": [
    {
     "name": "stdout",
     "output_type": "stream",
     "text": [
      "2\n"
     ]
    }
   ],
   "source": [
    "print(fruits.count('an')) #banana"
   ]
  },
  {
   "cell_type": "code",
   "execution_count": 67,
   "id": "74c52bad",
   "metadata": {},
   "outputs": [
    {
     "name": "stdout",
     "output_type": "stream",
     "text": [
      "apple, banana, pome\n"
     ]
    }
   ],
   "source": [
    "print(' '.join(fruits1))"
   ]
  },
  {
   "cell_type": "code",
   "execution_count": 71,
   "id": "2674fd4a",
   "metadata": {},
   "outputs": [
    {
     "name": "stdout",
     "output_type": "stream",
     "text": [
      "('apple, ba', 'nana', ', pome')\n",
      "3\n"
     ]
    }
   ],
   "source": [
    "print(fruits.partition('nana'))\n",
    "print(len(fruits.partition('nana')))"
   ]
  },
  {
   "cell_type": "markdown",
   "id": "ec1e3bd4",
   "metadata": {},
   "source": [
    "value error"
   ]
  },
  {
   "cell_type": "code",
   "execution_count": 73,
   "id": "2ea72571",
   "metadata": {},
   "outputs": [],
   "source": [
    "# a=int('as')\n",
    "# ---------------------------------------------------------------------------\n",
    "# ValueError                                Traceback (most recent call last)\n",
    "# Cell In[72], line 1\n",
    "# ----> 1 a=int('as')\n",
    "\n",
    "# ValueError: invalid literal for int() with base 10: 'as'"
   ]
  },
  {
   "cell_type": "code",
   "execution_count": null,
   "id": "ccd36028",
   "metadata": {},
   "outputs": [],
   "source": []
  },
  {
   "cell_type": "code",
   "execution_count": null,
   "id": "46b6f2c2",
   "metadata": {},
   "outputs": [],
   "source": []
  },
  {
   "cell_type": "code",
   "execution_count": null,
   "id": "04499bdd",
   "metadata": {},
   "outputs": [],
   "source": []
  }
 ],
 "metadata": {
  "kernelspec": {
   "display_name": "Python 3",
   "language": "python",
   "name": "python3"
  },
  "language_info": {
   "codemirror_mode": {
    "name": "ipython",
    "version": 3
   },
   "file_extension": ".py",
   "mimetype": "text/x-python",
   "name": "python",
   "nbconvert_exporter": "python",
   "pygments_lexer": "ipython3",
   "version": "3.13.7"
  }
 },
 "nbformat": 4,
 "nbformat_minor": 5
}
