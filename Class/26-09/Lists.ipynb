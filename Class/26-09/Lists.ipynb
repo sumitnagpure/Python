{
 "cells": [
  {
   "cell_type": "markdown",
   "id": "9960e179",
   "metadata": {},
   "source": [
    "### Lists"
   ]
  },
  {
   "cell_type": "code",
   "execution_count": 2,
   "id": "d6bf92ea",
   "metadata": {},
   "outputs": [],
   "source": [
    "ls=['Apple', 'Banana', 'Tomato', 'Apple']"
   ]
  },
  {
   "cell_type": "code",
   "execution_count": 21,
   "id": "cdd6bd39",
   "metadata": {},
   "outputs": [
    {
     "name": "stdout",
     "output_type": "stream",
     "text": [
      "Apple\n",
      "Banana\n",
      "Tomato\n",
      "Apple\n"
     ]
    }
   ],
   "source": [
    "for i in ls:\n",
    "    print(i)"
   ]
  },
  {
   "cell_type": "code",
   "execution_count": 22,
   "id": "9990a38d",
   "metadata": {},
   "outputs": [
    {
     "name": "stdout",
     "output_type": "stream",
     "text": [
      "False\n",
      "True\n"
     ]
    }
   ],
   "source": [
    "print('apple' in ls) \n",
    "print('Apple' in ls)"
   ]
  },
  {
   "cell_type": "markdown",
   "id": "38aa9980",
   "metadata": {},
   "source": [
    "Indexing & Slicing"
   ]
  },
  {
   "cell_type": "code",
   "execution_count": 23,
   "id": "e78afde2",
   "metadata": {},
   "outputs": [
    {
     "name": "stdout",
     "output_type": "stream",
     "text": [
      "['Apple', 'Banana']\n"
     ]
    }
   ],
   "source": [
    "# ['Apple', 'Banana', 'Tomato', 'Apple']\n",
    "print(ls[0:2])"
   ]
  },
  {
   "cell_type": "code",
   "execution_count": 24,
   "id": "cf304f5b",
   "metadata": {},
   "outputs": [
    {
     "name": "stdout",
     "output_type": "stream",
     "text": [
      "['Banana', 'Tomato']\n"
     ]
    }
   ],
   "source": [
    "# ['Apple', 'Banana', 'Tomato', 'Apple']\n",
    "print(ls[-3:-1])"
   ]
  },
  {
   "cell_type": "code",
   "execution_count": 25,
   "id": "6681783b",
   "metadata": {},
   "outputs": [
    {
     "name": "stdout",
     "output_type": "stream",
     "text": [
      "['Apple', 'Tomato', 'Banana', 'Apple']\n"
     ]
    }
   ],
   "source": [
    "# ['Apple', 'Banana', 'Tomato', 'Apple']\n",
    "print(ls[::-1])"
   ]
  },
  {
   "cell_type": "code",
   "execution_count": 26,
   "id": "2dc5e7fb",
   "metadata": {},
   "outputs": [
    {
     "name": "stdout",
     "output_type": "stream",
     "text": [
      "['Apple', 'Banana', 'Tomato', 'Apple']\n"
     ]
    }
   ],
   "source": [
    "print(ls[:1]+ls[1:])"
   ]
  },
  {
   "cell_type": "code",
   "execution_count": null,
   "id": "e5ef032d",
   "metadata": {},
   "outputs": [
    {
     "name": "stdout",
     "output_type": "stream",
     "text": [
      "['Apple', 'Banana', 'Tomato', 'Apple', 'Pome']\n"
     ]
    }
   ],
   "source": [
    "ls.append('Pome') #void, ovewrite the original list\n",
    "print(ls)"
   ]
  },
  {
   "cell_type": "code",
   "execution_count": 41,
   "id": "42556164",
   "metadata": {},
   "outputs": [],
   "source": [
    "ls.remove('Apple')\n",
    "# ls.remove('apple') #ValueError: list.remove(x): x not in list"
   ]
  },
  {
   "cell_type": "code",
   "execution_count": 3,
   "id": "54bd2d0a",
   "metadata": {},
   "outputs": [
    {
     "name": "stdout",
     "output_type": "stream",
     "text": [
      "['Apple', 'Banana', 'Tomato', 'Apple', ['a', 'b']]\n"
     ]
    }
   ],
   "source": [
    "ls.append(['a','b'])\n",
    "print(ls)\n"
   ]
  },
  {
   "cell_type": "code",
   "execution_count": null,
   "id": "91dcc5d9",
   "metadata": {},
   "outputs": [],
   "source": [
    "ls.extend(['a','b']) #flattens the item and add them\n",
    "print(ls)"
   ]
  },
  {
   "cell_type": "markdown",
   "id": "65cc9703",
   "metadata": {},
   "source": [
    "reverse"
   ]
  },
  {
   "cell_type": "code",
   "execution_count": 38,
   "id": "5f19aa2a",
   "metadata": {},
   "outputs": [
    {
     "name": "stdout",
     "output_type": "stream",
     "text": [
      "['b', 'a', ['a', 'b'], 'Apple', 'Tomato', 'Banana']\n"
     ]
    }
   ],
   "source": [
    "ls.reverse()\n",
    "print(ls)"
   ]
  },
  {
   "cell_type": "markdown",
   "id": "e131b4d5",
   "metadata": {},
   "source": [
    "sort"
   ]
  },
  {
   "cell_type": "code",
   "execution_count": 42,
   "id": "78809a6c",
   "metadata": {},
   "outputs": [
    {
     "name": "stdout",
     "output_type": "stream",
     "text": [
      "['Apple', 'Banana', 'Tomato']\n"
     ]
    }
   ],
   "source": [
    "ls.sort()\n",
    "print(ls)"
   ]
  },
  {
   "cell_type": "code",
   "execution_count": 45,
   "id": "85ffdd7a",
   "metadata": {},
   "outputs": [
    {
     "ename": "KeyboardInterrupt",
     "evalue": "",
     "output_type": "error",
     "traceback": [
      "\u001b[31m---------------------------------------------------------------------------\u001b[39m",
      "\u001b[31mKeyboardInterrupt\u001b[39m                         Traceback (most recent call last)",
      "\u001b[36mCell\u001b[39m\u001b[36m \u001b[39m\u001b[32mIn[45]\u001b[39m\u001b[32m, line 4\u001b[39m\n\u001b[32m      2\u001b[39m \u001b[38;5;28;01mfor\u001b[39;00m i \u001b[38;5;129;01min\u001b[39;00m ls:\n\u001b[32m      3\u001b[39m     \u001b[38;5;28;01mif\u001b[39;00m \u001b[38;5;129;01mnot\u001b[39;00m \u001b[38;5;28misinstance\u001b[39m(i, \u001b[38;5;28mlist\u001b[39m):\n\u001b[32m----> \u001b[39m\u001b[32m4\u001b[39m         ls1.append(i)\n\u001b[32m      5\u001b[39m     \u001b[38;5;28;01melse\u001b[39;00m:\n\u001b[32m      6\u001b[39m         ls1.extend(i)\n",
      "\u001b[31mKeyboardInterrupt\u001b[39m: "
     ]
    }
   ],
   "source": [
    "ls1=[]\n",
    "for i in ls:\n",
    "    if not isinstance(i, list):\n",
    "        ls1.append(i)\n",
    "    else:\n",
    "        ls1.extend(i)\n",
    "print(ls1)"
   ]
  },
  {
   "cell_type": "markdown",
   "id": "26993796",
   "metadata": {},
   "source": [
    "## List Comprehension"
   ]
  },
  {
   "cell_type": "code",
   "execution_count": 46,
   "id": "7dabdb48",
   "metadata": {},
   "outputs": [],
   "source": [
    "ls=[1,2,3,4,5]"
   ]
  },
  {
   "cell_type": "code",
   "execution_count": 48,
   "id": "3e0e45aa",
   "metadata": {},
   "outputs": [
    {
     "name": "stdout",
     "output_type": "stream",
     "text": [
      "[1, 4, 9, 16, 25]\n"
     ]
    }
   ],
   "source": [
    "sq=[]\n",
    "for i in ls:\n",
    "    sq.append(i**2)\n",
    "print(sq)"
   ]
  },
  {
   "cell_type": "code",
   "execution_count": 50,
   "id": "32d62969",
   "metadata": {},
   "outputs": [
    {
     "data": {
      "text/plain": [
       "[1, 4, 9, 16, 25]"
      ]
     },
     "execution_count": 50,
     "metadata": {},
     "output_type": "execute_result"
    }
   ],
   "source": [
    "sq=[n**2 for n in ls]\n",
    "sq"
   ]
  },
  {
   "cell_type": "code",
   "execution_count": 52,
   "id": "23d80d95",
   "metadata": {},
   "outputs": [
    {
     "data": {
      "text/plain": [
       "[4, 16]"
      ]
     },
     "execution_count": 52,
     "metadata": {},
     "output_type": "execute_result"
    }
   ],
   "source": [
    "sq_even=[n**2 for n in ls if n%2==0]\n",
    "sq_even"
   ]
  },
  {
   "cell_type": "code",
   "execution_count": 54,
   "id": "5028dbc8",
   "metadata": {},
   "outputs": [],
   "source": [
    "prices=[400,500,600,700]"
   ]
  },
  {
   "cell_type": "code",
   "execution_count": 79,
   "id": "4ab302dd",
   "metadata": {},
   "outputs": [],
   "source": [
    "def cal_discount(price):\n",
    "    return round(price*0.8,2)"
   ]
  },
  {
   "cell_type": "code",
   "execution_count": 66,
   "id": "64a098de",
   "metadata": {},
   "outputs": [
    {
     "data": {
      "text/plain": [
       "[320.0, 400.0, 480.0, 560.0]"
      ]
     },
     "execution_count": 66,
     "metadata": {},
     "output_type": "execute_result"
    }
   ],
   "source": [
    "dis=[cal_discount(price) for price in prices]\n",
    "dis"
   ]
  },
  {
   "cell_type": "code",
   "execution_count": null,
   "id": "e8d73ab2",
   "metadata": {},
   "outputs": [
    {
     "data": {
      "text/plain": [
       "[400.0, 480.0, 560.0]"
      ]
     },
     "execution_count": 67,
     "metadata": {},
     "output_type": "execute_result"
    }
   ],
   "source": [
    "prices=[400,500,600,700]\n",
    "dis=[cal_discount(price) for price in prices if price>=500] #not consider 400\n",
    "dis"
   ]
  },
  {
   "cell_type": "code",
   "execution_count": 57,
   "id": "5e2d347b",
   "metadata": {},
   "outputs": [
    {
     "data": {
      "text/plain": [
       "['a', 'd']"
      ]
     },
     "execution_count": 57,
     "metadata": {},
     "output_type": "execute_result"
    }
   ],
   "source": [
    "words=['a',['b','c'],'d']\n",
    "words1=[]\n",
    "words1=[word for word in words if not isinstance(word, list)]\n",
    "words1"
   ]
  },
  {
   "cell_type": "code",
   "execution_count": 58,
   "id": "7bf6e3d9",
   "metadata": {},
   "outputs": [
    {
     "name": "stdout",
     "output_type": "stream",
     "text": [
      "title: book1, num: 1\n",
      "title: book2, num: 2\n",
      "title: book3, num: 3\n",
      "title: book4, num: 4\n"
     ]
    }
   ],
   "source": [
    "books=[['book1',1],['book2',2],['book3',3],['book4',4]]\n",
    "\n",
    "for title, num in books:\n",
    "    print(f'title: {title}, num: {num}')"
   ]
  },
  {
   "cell_type": "code",
   "execution_count": 75,
   "id": "6e827e82",
   "metadata": {},
   "outputs": [
    {
     "name": "stdout",
     "output_type": "stream",
     "text": [
      "title: book1, num: 1\n",
      "title: book2, num: 2\n",
      "title: book3, num: 3\n",
      "title: book4, num: 4\n"
     ]
    }
   ],
   "source": [
    "for idx,val in enumerate(books):\n",
    "    print(f'title: {val[0]}, num: {val[1]}')"
   ]
  },
  {
   "cell_type": "code",
   "execution_count": 80,
   "id": "56b94707",
   "metadata": {},
   "outputs": [
    {
     "data": {
      "text/plain": [
       "[0.8, 1.6, 2.4, 3.2]"
      ]
     },
     "execution_count": 80,
     "metadata": {},
     "output_type": "execute_result"
    }
   ],
   "source": [
    "val1=[cal_discount(val) for title,val in books]\n",
    "val1"
   ]
  },
  {
   "cell_type": "code",
   "execution_count": 82,
   "id": "40fb377f",
   "metadata": {},
   "outputs": [
    {
     "data": {
      "text/plain": [
       "[0.8, 1.6, 2.4, 3.2]"
      ]
     },
     "execution_count": 82,
     "metadata": {},
     "output_type": "execute_result"
    }
   ],
   "source": [
    "val2=[cal_discount(book[1]) for book in books]\n",
    "val2"
   ]
  },
  {
   "cell_type": "code",
   "execution_count": 83,
   "id": "a48ae126",
   "metadata": {},
   "outputs": [
    {
     "data": {
      "text/plain": [
       "['book1', 'book2', 'book3', 'book4']"
      ]
     },
     "execution_count": 83,
     "metadata": {},
     "output_type": "execute_result"
    }
   ],
   "source": [
    "val3=[book[0] for book in books]\n",
    "val3"
   ]
  },
  {
   "cell_type": "code",
   "execution_count": null,
   "id": "9ee4fc8c",
   "metadata": {},
   "outputs": [],
   "source": []
  }
 ],
 "metadata": {
  "kernelspec": {
   "display_name": "Python 3",
   "language": "python",
   "name": "python3"
  },
  "language_info": {
   "codemirror_mode": {
    "name": "ipython",
    "version": 3
   },
   "file_extension": ".py",
   "mimetype": "text/x-python",
   "name": "python",
   "nbconvert_exporter": "python",
   "pygments_lexer": "ipython3",
   "version": "3.13.7"
  }
 },
 "nbformat": 4,
 "nbformat_minor": 5
}
