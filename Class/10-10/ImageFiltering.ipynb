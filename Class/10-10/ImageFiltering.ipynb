{
 "cells": [
  {
   "cell_type": "markdown",
   "id": "96ffcb75",
   "metadata": {},
   "source": []
  },
  {
   "cell_type": "code",
   "execution_count": 1,
   "id": "eb669fa4",
   "metadata": {},
   "outputs": [],
   "source": [
    "from PIL import Image, ImageFilter"
   ]
  },
  {
   "cell_type": "code",
   "execution_count": null,
   "id": "93af0983",
   "metadata": {},
   "outputs": [],
   "source": [
    "# with Image.open('.png') as img:\n",
    "with Image.open('lenna.png') as img:\n",
    "    img.load()\n",
    "img.show()"
   ]
  },
  {
   "cell_type": "code",
   "execution_count": null,
   "id": "3789dd07",
   "metadata": {},
   "outputs": [],
   "source": [
    "blurred=img.filter(ImageFilter.BLUR)\n",
    "# blurred.show()\n",
    "blurred.crop(200,300,800,600).show()"
   ]
  },
  {
   "cell_type": "code",
   "execution_count": null,
   "id": "1977a872",
   "metadata": {},
   "outputs": [],
   "source": [
    "g_blurred=img.filter(ImageFilter.GaussianBlur)\n",
    "# g_blurred.show()\n",
    "g_blurred.crop(200,300,800,600).show()"
   ]
  },
  {
   "cell_type": "code",
   "execution_count": null,
   "id": "0006be7f",
   "metadata": {},
   "outputs": [],
   "source": [
    "edges=img.filter(ImageFilter.FIND_EDGES)\n",
    "# enchance"
   ]
  },
  {
   "cell_type": "code",
   "execution_count": 10,
   "id": "e70e4288",
   "metadata": {},
   "outputs": [],
   "source": [
    "# smoothening the edges"
   ]
  },
  {
   "cell_type": "code",
   "execution_count": 11,
   "id": "d0b3aeaf",
   "metadata": {},
   "outputs": [],
   "source": [
    "#emboss here"
   ]
  }
 ],
 "metadata": {
  "kernelspec": {
   "display_name": "Python 3",
   "language": "python",
   "name": "python3"
  },
  "language_info": {
   "codemirror_mode": {
    "name": "ipython",
    "version": 3
   },
   "file_extension": ".py",
   "mimetype": "text/x-python",
   "name": "python",
   "nbconvert_exporter": "python",
   "pygments_lexer": "ipython3",
   "version": "3.13.7"
  }
 },
 "nbformat": 4,
 "nbformat_minor": 5
}
