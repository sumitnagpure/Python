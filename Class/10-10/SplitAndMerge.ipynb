{
 "cells": [
  {
   "cell_type": "markdown",
   "id": "a695a6c0",
   "metadata": {},
   "source": [
    "## Split & Merge"
   ]
  },
  {
   "cell_type": "code",
   "execution_count": 15,
   "id": "b4eb0297",
   "metadata": {},
   "outputs": [],
   "source": [
    "from PIL import Image"
   ]
  },
  {
   "cell_type": "code",
   "execution_count": 16,
   "id": "8d3a820f",
   "metadata": {},
   "outputs": [],
   "source": [
    "with Image.open('lenna.png') as img:\n",
    "    img.load()"
   ]
  },
  {
   "cell_type": "code",
   "execution_count": 17,
   "id": "dd5f7ed2",
   "metadata": {},
   "outputs": [
    {
     "name": "stdout",
     "output_type": "stream",
     "text": [
      "('R', 'G', 'B')\n"
     ]
    },
    {
     "data": {
      "text/plain": [
       "(<PIL.Image.Image image mode=L size=512x512>,\n",
       " <PIL.Image.Image image mode=L size=512x512>,\n",
       " <PIL.Image.Image image mode=L size=512x512>)"
      ]
     },
     "execution_count": 17,
     "metadata": {},
     "output_type": "execute_result"
    }
   ],
   "source": [
    "img.show()\n",
    "\n",
    "grayed=img.convert('L')\n",
    "grayed.show()\n",
    "print(img.getbands())\n",
    "\n",
    "img.split()"
   ]
  },
  {
   "cell_type": "code",
   "execution_count": 25,
   "id": "4efc7e5d",
   "metadata": {},
   "outputs": [],
   "source": [
    "red,green,blue=img.split()"
   ]
  },
  {
   "cell_type": "code",
   "execution_count": 26,
   "id": "cc43b3ee",
   "metadata": {},
   "outputs": [],
   "source": [
    "zero_band=red.point(lambda _:0)\n",
    "red_image=Image.merge('RGB',(red,zero_band,zero_band))\n",
    "red_image.show()"
   ]
  },
  {
   "cell_type": "code",
   "execution_count": 27,
   "id": "fc9057d8",
   "metadata": {},
   "outputs": [],
   "source": [
    "green_image=Image.merge('RGB',(zero_band,green,zero_band))\n",
    "green_image.show()"
   ]
  },
  {
   "cell_type": "code",
   "execution_count": 28,
   "id": "e3a94096",
   "metadata": {},
   "outputs": [],
   "source": [
    "blue_image=Image.merge('RGB',(zero_band,zero_band,blue))\n",
    "blue_image.show()"
   ]
  },
  {
   "cell_type": "code",
   "execution_count": 29,
   "id": "77745007",
   "metadata": {},
   "outputs": [],
   "source": [
    "import numpy as np"
   ]
  },
  {
   "cell_type": "code",
   "execution_count": 35,
   "id": "96234bb8",
   "metadata": {},
   "outputs": [],
   "source": [
    "zeroes=np.zeros((600,600))\n",
    "my_img=Image.fromarray(zeroes)\n",
    "my_img.show()"
   ]
  },
  {
   "cell_type": "code",
   "execution_count": 32,
   "id": "220328f1",
   "metadata": {},
   "outputs": [],
   "source": [
    "zeroes[200:400,200:400]=255\n",
    "my_img=Image.fromarray(zeroes)\n",
    "my_img.show()"
   ]
  },
  {
   "cell_type": "code",
   "execution_count": 38,
   "id": "bf444e2a",
   "metadata": {},
   "outputs": [],
   "source": [
    "r_zeroes=np.zeros((600,600))\n",
    "r_zeroes[:200]=255\n",
    "red_band=Image.fromarray(r_zeroes).convert('L')\n",
    "red_band.show()"
   ]
  },
  {
   "cell_type": "code",
   "execution_count": 41,
   "id": "ec1a5fff",
   "metadata": {},
   "outputs": [],
   "source": [
    "g_zeroes=np.zeros((600,600))\n",
    "g_zeroes[200:400]=255\n",
    "green_band=Image.fromarray(g_zeroes).convert('L')\n",
    "green_band.show()"
   ]
  },
  {
   "cell_type": "code",
   "execution_count": 42,
   "id": "d83ee156",
   "metadata": {},
   "outputs": [],
   "source": [
    "b_zeroes=np.zeros((600,600))\n",
    "b_zeroes[400:]=255\n",
    "blue_band=Image.fromarray(b_zeroes).convert('L')\n",
    "blue_band.show()"
   ]
  },
  {
   "cell_type": "code",
   "execution_count": 44,
   "id": "57abcc6e",
   "metadata": {},
   "outputs": [],
   "source": [
    "merged=Image.merge('RGB',(red_band,green_band,blue_band))\n",
    "merged.show()"
   ]
  }
 ],
 "metadata": {
  "kernelspec": {
   "display_name": "Python 3",
   "language": "python",
   "name": "python3"
  },
  "language_info": {
   "codemirror_mode": {
    "name": "ipython",
    "version": 3
   },
   "file_extension": ".py",
   "mimetype": "text/x-python",
   "name": "python",
   "nbconvert_exporter": "python",
   "pygments_lexer": "ipython3",
   "version": "3.13.7"
  }
 },
 "nbformat": 4,
 "nbformat_minor": 5
}
