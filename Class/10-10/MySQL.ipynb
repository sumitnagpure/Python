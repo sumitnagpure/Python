{
 "cells": [
  {
   "cell_type": "markdown",
   "id": "cf004b1b",
   "metadata": {},
   "source": [
    "MySQL DB Connection"
   ]
  },
  {
   "cell_type": "code",
   "execution_count": null,
   "id": "a91b192c",
   "metadata": {},
   "outputs": [],
   "source": [
    "import mysql.connector\n",
    "from mysql.connector import Error"
   ]
  },
  {
   "cell_type": "markdown",
   "id": "592de392",
   "metadata": {},
   "source": []
  },
  {
   "cell_type": "code",
   "execution_count": 23,
   "id": "8944bf38",
   "metadata": {},
   "outputs": [],
   "source": [
    "def connect_db(path):\n",
    "    conn=None\n",
    "    try:\n",
    "        conn=sqlite3.connect(path)\n",
    "        print('Connection Successful')\n",
    "    except Error as er:\n",
    "        print(er)\n",
    "    return conn"
   ]
  },
  {
   "cell_type": "code",
   "execution_count": 24,
   "id": "0fd17ec1",
   "metadata": {},
   "outputs": [],
   "source": [
    "def execute_query(conn, query):\n",
    "    try:\n",
    "        cursor=conn.cursor()\n",
    "        cursor.execute(query)\n",
    "        print(\"Query executed successfully\")\n",
    "        conn.commit()\n",
    "    except Error as er:\n",
    "        print(er)"
   ]
  },
  {
   "cell_type": "code",
   "execution_count": 25,
   "id": "5ccfb03f",
   "metadata": {},
   "outputs": [],
   "source": [
    "def execute_read_query(conn, query):\n",
    "    try:\n",
    "        cursor=conn.cursor()\n",
    "        cursor.execute(query)\n",
    "        results=cursor.fetchall()\n",
    "    except Error as er:\n",
    "        print(er)\n",
    "    return results"
   ]
  },
  {
   "cell_type": "code",
   "execution_count": 26,
   "id": "0968ac9a",
   "metadata": {},
   "outputs": [],
   "source": [
    "def close_connection(conn):\n",
    "    try:\n",
    "        if conn:\n",
    "            conn.close()\n",
    "            print(\"Connection Closed\")\n",
    "    except Error as er:\n",
    "        print(er)"
   ]
  },
  {
   "cell_type": "code",
   "execution_count": 27,
   "id": "24c42025",
   "metadata": {},
   "outputs": [],
   "source": [
    "def create_table(conn, create_table_sql):\n",
    "    \"\"\"\n",
    "    Creates a table using the provided SQL statement.\n",
    "    Uses the pre-defined execute_query function.\n",
    "    \"\"\"\n",
    "    if conn is not None:\n",
    "        execute_query(conn, create_table_sql)\n",
    "    else:\n",
    "        print(\"Error! Cannot create table: Database connection is None.\")"
   ]
  },
  {
   "cell_type": "code",
   "execution_count": 28,
   "id": "71cb0f07",
   "metadata": {},
   "outputs": [],
   "source": [
    "create_projects_table = \"\"\"\n",
    "CREATE TABLE IF NOT EXISTS projects (\n",
    "    id integer PRIMARY KEY,\n",
    "    name text NOT NULL,\n",
    "    start_date text,\n",
    "    end_date text\n",
    ");\n",
    "\"\"\""
   ]
  },
  {
   "cell_type": "code",
   "execution_count": 29,
   "id": "54c248c2",
   "metadata": {},
   "outputs": [],
   "source": [
    "read_projects_table='''\n",
    "select * from projects;\n",
    "'''"
   ]
  },
  {
   "cell_type": "code",
   "execution_count": 30,
   "id": "dcf1e995",
   "metadata": {},
   "outputs": [],
   "source": [
    "db_path=\"Class\\\\10-10\\\\SQLiteDB.ipynb\""
   ]
  },
  {
   "cell_type": "code",
   "execution_count": null,
   "id": "8e3fce25",
   "metadata": {},
   "outputs": [
    {
     "name": "stdout",
     "output_type": "stream",
     "text": [
      "Connection Successful\n",
      "Query executed successfully\n",
      "Projects table check complete.\n",
      "Connection Closed\n"
     ]
    }
   ],
   "source": [
    "# 1. Connect\n",
    "db_path = \"my_database.db\"\n",
    "conn = connect_db(db_path) \n",
    "\n",
    "# 2. Create Table\n",
    "if conn:\n",
    "    create_table(conn, create_projects_table)\n",
    "    print(\"Projects table check complete.\")\n",
    "\n",
    "# 3. Close\n",
    "if conn:\n",
    "    close_connection(conn)"
   ]
  },
  {
   "cell_type": "code",
   "execution_count": null,
   "id": "f4cc4d4f",
   "metadata": {},
   "outputs": [],
   "source": []
  },
  {
   "cell_type": "code",
   "execution_count": null,
   "id": "3761effb",
   "metadata": {},
   "outputs": [],
   "source": []
  },
  {
   "cell_type": "code",
   "execution_count": null,
   "id": "7544965f",
   "metadata": {},
   "outputs": [],
   "source": []
  }
 ],
 "metadata": {
  "kernelspec": {
   "display_name": "Python 3",
   "language": "python",
   "name": "python3"
  },
  "language_info": {
   "codemirror_mode": {
    "name": "ipython",
    "version": 3
   },
   "file_extension": ".py",
   "mimetype": "text/x-python",
   "name": "python",
   "nbconvert_exporter": "python",
   "pygments_lexer": "ipython3",
   "version": "3.13.7"
  }
 },
 "nbformat": 4,
 "nbformat_minor": 5
}
