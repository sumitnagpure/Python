{
 "cells": [
  {
   "cell_type": "markdown",
   "id": "cf004b1b",
   "metadata": {},
   "source": [
    "SQLite3 DB Connection"
   ]
  },
  {
   "cell_type": "code",
   "execution_count": 35,
   "id": "a91b192c",
   "metadata": {},
   "outputs": [],
   "source": [
    "import sqlite3\n",
    "from sqlite3 import Error"
   ]
  },
  {
   "cell_type": "markdown",
   "id": "592de392",
   "metadata": {},
   "source": []
  },
  {
   "cell_type": "code",
   "execution_count": 36,
   "id": "8944bf38",
   "metadata": {},
   "outputs": [],
   "source": [
    "def connect_db(path):\n",
    "    conn=None\n",
    "    try:\n",
    "        conn=sqlite3.connect(path)\n",
    "        print('Connection Successful')\n",
    "    except Error as er:\n",
    "        print(er)\n",
    "    return conn"
   ]
  },
  {
   "cell_type": "code",
   "execution_count": 37,
   "id": "0fd17ec1",
   "metadata": {},
   "outputs": [],
   "source": [
    "def execute_query(conn, query):\n",
    "    try:\n",
    "        cursor=conn.cursor()\n",
    "        cursor.execute(query)\n",
    "        print(\"Query executed successfully\")\n",
    "        conn.commit()\n",
    "    except Error as er:\n",
    "        print(er)"
   ]
  },
  {
   "cell_type": "code",
   "execution_count": 56,
   "id": "5ccfb03f",
   "metadata": {},
   "outputs": [],
   "source": [
    "def execute_read_query(conn, query):\n",
    "    try:\n",
    "        cursor=conn.cursor()\n",
    "        cursor.execute(query)\n",
    "        results=cursor.fetchall()\n",
    "        print(results)\n",
    "    except Error as er:\n",
    "        print(er)\n",
    "    return results"
   ]
  },
  {
   "cell_type": "code",
   "execution_count": 57,
   "id": "0968ac9a",
   "metadata": {},
   "outputs": [],
   "source": [
    "def close_connection(conn):\n",
    "    try:\n",
    "        if conn:\n",
    "            conn.close()\n",
    "            print(\"Connection Closed\")\n",
    "    except Error as er:\n",
    "        print(er)"
   ]
  },
  {
   "cell_type": "code",
   "execution_count": 58,
   "id": "24c42025",
   "metadata": {},
   "outputs": [],
   "source": [
    "def create_table(conn, create_table_sql):\n",
    "    \"\"\"\n",
    "    Creates a table using the provided SQL statement.\n",
    "    Uses the pre-defined execute_query function.\n",
    "    \"\"\"\n",
    "    if conn is not None:\n",
    "        execute_query(conn, create_table_sql)\n",
    "    else:\n",
    "        print(\"Error! Cannot create table: Database connection is None.\")"
   ]
  },
  {
   "cell_type": "code",
   "execution_count": 66,
   "id": "8e0a7512",
   "metadata": {},
   "outputs": [],
   "source": [
    "def delete_records(conn, table_name):\n",
    "    \"\"\"\n",
    "    Deletes all records from the specified table.\n",
    "    \"\"\"\n",
    "    if conn is not None:\n",
    "        delete_sql = f\"DELETE FROM {table_name};\"\n",
    "        execute_query(conn, delete_sql)\n",
    "        print(f\"All records deleted from {table_name}.\")\n",
    "    else:\n",
    "        print(\"Error! Cannot delete records: Database connection is None.\")"
   ]
  },
  {
   "cell_type": "code",
   "execution_count": 59,
   "id": "71cb0f07",
   "metadata": {},
   "outputs": [],
   "source": [
    "create_projects_table = \"\"\"\n",
    "CREATE TABLE IF NOT EXISTS projects (\n",
    "    id integer PRIMARY KEY,\n",
    "    name text NOT NULL,\n",
    "    start_date text,\n",
    "    end_date text\n",
    ");\n",
    "\"\"\""
   ]
  },
  {
   "cell_type": "code",
   "execution_count": 60,
   "id": "54c248c2",
   "metadata": {},
   "outputs": [],
   "source": [
    "read_projects_table='''\n",
    "select * from projects;\n",
    "'''"
   ]
  },
  {
   "cell_type": "code",
   "execution_count": 61,
   "id": "dcf1e995",
   "metadata": {},
   "outputs": [],
   "source": [
    "db_path=\"Class\\\\10-10\\\\SQLiteDB.ipynb\""
   ]
  },
  {
   "cell_type": "code",
   "execution_count": 62,
   "id": "8e3fce25",
   "metadata": {},
   "outputs": [
    {
     "name": "stdout",
     "output_type": "stream",
     "text": [
      "Connection Successful\n",
      "Query executed successfully\n",
      "Projects table check complete.\n",
      "Connection Closed\n"
     ]
    }
   ],
   "source": [
    "# 1. Connect\n",
    "db_path = \"my_database.db\"\n",
    "conn = connect_db(db_path) \n",
    "\n",
    "# 2. Create Table\n",
    "if conn:\n",
    "    create_table(conn, create_projects_table)\n",
    "    print(\"Projects table check complete.\")\n",
    "\n",
    "# 3. Close\n",
    "if conn:\n",
    "    close_connection(conn)"
   ]
  },
  {
   "cell_type": "code",
   "execution_count": 63,
   "id": "f4cc4d4f",
   "metadata": {},
   "outputs": [],
   "source": [
    "def insert_data(conn, insert_sql):\n",
    "    \"\"\"\n",
    "    Executes an INSERT statement to add a new row to a table.\n",
    "    \"\"\"\n",
    "    if conn is not None:\n",
    "        execute_query(conn, insert_sql)\n",
    "    else:\n",
    "        print(\"Error! Cannot insert data: Database connection is None.\")"
   ]
  },
  {
   "cell_type": "code",
   "execution_count": 64,
   "id": "85941efd",
   "metadata": {},
   "outputs": [],
   "source": [
    "insert_project = \"\"\"\n",
    "INSERT INTO projects (name, start_date, end_date)\n",
    "VALUES ('E-commerce Site Launch', '2025-01-10', '2025-05-30');\n",
    "\"\"\""
   ]
  },
  {
   "cell_type": "code",
   "execution_count": 68,
   "id": "cbd38a96",
   "metadata": {},
   "outputs": [
    {
     "name": "stdout",
     "output_type": "stream",
     "text": [
      "Connection Successful\n",
      "Query executed successfully\n",
      "All records deleted from projects.\n"
     ]
    }
   ],
   "source": [
    "conn=connect_db(db_path)\n",
    "delete_records(conn, 'projects')"
   ]
  },
  {
   "cell_type": "code",
   "execution_count": 69,
   "id": "3761effb",
   "metadata": {},
   "outputs": [
    {
     "name": "stdout",
     "output_type": "stream",
     "text": [
      "Connection Successful\n",
      "Query executed successfully\n",
      "[(1, 'E-commerce Site Launch', '2025-01-10', '2025-05-30')]\n"
     ]
    }
   ],
   "source": [
    "# Ensure 'conn' is an active connection from connect_db(path)\n",
    "conn=connect_db(db_path)\n",
    "if conn:\n",
    "    insert_data(conn, insert_project)\n",
    "    execute_read_query(conn,read_projects_table)"
   ]
  },
  {
   "cell_type": "code",
   "execution_count": null,
   "id": "7544965f",
   "metadata": {},
   "outputs": [],
   "source": []
  }
 ],
 "metadata": {
  "kernelspec": {
   "display_name": "Python 3",
   "language": "python",
   "name": "python3"
  },
  "language_info": {
   "codemirror_mode": {
    "name": "ipython",
    "version": 3
   },
   "file_extension": ".py",
   "mimetype": "text/x-python",
   "name": "python",
   "nbconvert_exporter": "python",
   "pygments_lexer": "ipython3",
   "version": "3.13.7"
  }
 },
 "nbformat": 4,
 "nbformat_minor": 5
}
