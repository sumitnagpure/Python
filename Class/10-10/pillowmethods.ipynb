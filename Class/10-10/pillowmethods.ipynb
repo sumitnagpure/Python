{
 "cells": [
  {
   "cell_type": "markdown",
   "id": "0d418331",
   "metadata": {},
   "source": [
    "# Pillow Methods"
   ]
  },
  {
   "cell_type": "code",
   "execution_count": 5,
   "id": "22f20a33",
   "metadata": {},
   "outputs": [],
   "source": [
    "from PIL import Image\n",
    "import os"
   ]
  },
  {
   "cell_type": "code",
   "execution_count": 17,
   "id": "b8400c72",
   "metadata": {},
   "outputs": [],
   "source": [
    "file='lenna.png'"
   ]
  },
  {
   "cell_type": "code",
   "execution_count": 18,
   "id": "9d8a7d61",
   "metadata": {},
   "outputs": [
    {
     "name": "stdout",
     "output_type": "stream",
     "text": [
      "Image successfully loaded: (512, 512)\n"
     ]
    }
   ],
   "source": [
    "if os.path.exists(file):\n",
    "    # This code only runs if the file exists\n",
    "    img = Image.open(file)\n",
    "    print(f\"Image successfully loaded: {img.size}\")\n",
    "    # Proceed with processing...\n",
    "    img.show()\n",
    "    # img.save('processed_image.jpg')\n",
    "else:\n",
    "    # Handle the missing file gracefully\n",
    "    print(f\"File not found: {file}\")\n"
   ]
  },
  {
   "cell_type": "code",
   "execution_count": 19,
   "id": "6da93b7e",
   "metadata": {},
   "outputs": [
    {
     "name": "stdout",
     "output_type": "stream",
     "text": [
      "Image successfully loaded: (512, 512)\n",
      "(512, 512)\n",
      "PNG\n",
      "RGB\n"
     ]
    }
   ],
   "source": [
    "if os.path.exists(file):\n",
    "    # This code only runs if the file exists\n",
    "    img = Image.open(file)\n",
    "    print(f\"Image successfully loaded: {img.size}\")\n",
    "    print(img.size)\n",
    "    print(img.format)\n",
    "    print(img.mode)\n",
    "    # img.show()\n",
    "else:\n",
    "    # Handle the missing file gracefully\n",
    "    print(f\"File not found: {file}\")\n"
   ]
  },
  {
   "cell_type": "code",
   "execution_count": 20,
   "id": "29b63e77",
   "metadata": {},
   "outputs": [
    {
     "name": "stdout",
     "output_type": "stream",
     "text": [
      "Image successfully loaded: (512, 512)\n",
      "(512, 512)\n",
      "PNG\n",
      "RGB\n"
     ]
    }
   ],
   "source": [
    "if os.path.exists(file):\n",
    "    # This code only runs if the file exists\n",
    "    img = Image.open(file)\n",
    "    print(f\"Image successfully loaded: {img.size}\")\n",
    "    print(img.size)\n",
    "    print(img.format)\n",
    "    print(img.mode)\n",
    "    # img.show()\n",
    "else:\n",
    "    # Handle the missing file gracefully\n",
    "    print(f\"File not found: {file}\")\n"
   ]
  },
  {
   "cell_type": "code",
   "execution_count": 22,
   "id": "0eee948f",
   "metadata": {},
   "outputs": [
    {
     "name": "stdout",
     "output_type": "stream",
     "text": [
      "Image successfully loaded: (512, 512)\n",
      "Image successfully reduced: (200, 200)\n"
     ]
    }
   ],
   "source": [
    "if os.path.exists(file):\n",
    "    # This code only runs if the file exists\n",
    "    img = Image.open(file)\n",
    "    print(f\"Image successfully loaded: {img.size}\")\n",
    "    reduced=img.resize((200,200))\n",
    "    print(f\"Image successfully reduced: {reduced.size}\")\n",
    "    reduced.show()\n",
    "else:\n",
    "    # Handle the missing file gracefully\n",
    "    print(f\"File not found: {file}\")\n"
   ]
  },
  {
   "cell_type": "code",
   "execution_count": null,
   "id": "184acf20",
   "metadata": {},
   "outputs": [],
   "source": []
  }
 ],
 "metadata": {
  "kernelspec": {
   "display_name": "Python 3",
   "language": "python",
   "name": "python3"
  },
  "language_info": {
   "codemirror_mode": {
    "name": "ipython",
    "version": 3
   },
   "file_extension": ".py",
   "mimetype": "text/x-python",
   "name": "python",
   "nbconvert_exporter": "python",
   "pygments_lexer": "ipython3",
   "version": "3.13.7"
  }
 },
 "nbformat": 4,
 "nbformat_minor": 5
}
